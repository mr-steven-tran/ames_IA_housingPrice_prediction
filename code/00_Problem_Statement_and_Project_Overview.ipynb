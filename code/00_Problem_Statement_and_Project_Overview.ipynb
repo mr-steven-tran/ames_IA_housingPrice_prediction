{
 "cells": [
  {
   "cell_type": "markdown",
   "id": "71e17af8-e451-4ad3-abf7-93de34ff3bd2",
   "metadata": {},
   "source": [
    "# Examining Home Configurations and Their Effect on Sale Prices\n",
    "### by Steven Tran\n",
    "\n",
    "## 00: Problem Statement"
   ]
  },
  {
   "cell_type": "markdown",
   "id": "334f4b8e-a13e-4988-bc20-10c43db8c676",
   "metadata": {
    "execution": {
     "iopub.execute_input": "2021-10-23T05:15:03.496966Z",
     "iopub.status.busy": "2021-10-23T05:15:03.496966Z",
     "iopub.status.idle": "2021-10-23T05:15:03.505967Z",
     "shell.execute_reply": "2021-10-23T05:15:03.504995Z",
     "shell.execute_reply.started": "2021-10-23T05:15:03.496966Z"
    },
    "tags": []
   },
   "source": [
    "|Project Notebooks|\n",
    "|--------|\n",
    "|[00_Problem_Statement_and_Project_Overview](00_Problem_Statement_and_Project_Overview.ipynb)|\n",
    "|[01_EDA_and_Cleaning](01_EDA_and_Cleaning.ipynb)|\n",
    "|[02_Preprocessing_FeatureEngineering_Modeling](02_Preprocessing_FeatureEngineering_Modeling.ipynb)|\n",
    "|[03_Kaggle_Submissions](04_Kaggle_Submissions.ipynb)|"
   ]
  },
  {
   "cell_type": "markdown",
   "id": "a9204c70-12ad-48d7-a4b8-6908850fb734",
   "metadata": {
    "execution": {
     "iopub.execute_input": "2021-10-23T05:24:27.499466Z",
     "iopub.status.busy": "2021-10-23T05:24:27.499466Z",
     "iopub.status.idle": "2021-10-23T05:24:27.512465Z",
     "shell.execute_reply": "2021-10-23T05:24:27.511464Z",
     "shell.execute_reply.started": "2021-10-23T05:24:27.499466Z"
    }
   },
   "source": [
    "## The nation faces a severe housing shortage, and homebuilders are struggling to keep pace with demand"
   ]
  },
  {
   "cell_type": "markdown",
   "id": "972dd3ba-d816-4468-bbfc-440029281d31",
   "metadata": {},
   "source": [
    "As of summer 2021, construction of new homes slowed due to labor shortages and higher materials prices. See the following:\n",
    "* https://www.marketplace.org/2021/07/20/labor-shortage-and-building-material-costs-still-hammering-the-new-home-market/\n",
    "* https://www.bankrate.com/real-estate/construction-building-trades-labor-shortage/\n",
    "\n",
    "As homebuilders focus their resources on the construction of new homes and consider what kinds of homes they want to include in their product portfolios, I wondered whether certain types of **home configurations** had any meaningful effect on the home's sale price.\n",
    "\n",
    "And so the question I'll try to answer in this project is **does a home's configuration, defined as the number of stories and count of bedrooms and bathrooms, meaningfully affect the sale price for a home?**\n",
    "\n"
   ]
  }
 ],
 "metadata": {
  "kernelspec": {
   "display_name": "Python 3",
   "language": "python",
   "name": "python3"
  },
  "language_info": {
   "codemirror_mode": {
    "name": "ipython",
    "version": 3
   },
   "file_extension": ".py",
   "mimetype": "text/x-python",
   "name": "python",
   "nbconvert_exporter": "python",
   "pygments_lexer": "ipython3",
   "version": "3.8.8"
  }
 },
 "nbformat": 4,
 "nbformat_minor": 5
}
