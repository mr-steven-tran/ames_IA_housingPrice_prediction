{
 "cells": [
  {
   "cell_type": "markdown",
   "id": "ff2f07bf-d8fe-4b8e-a907-60f29bb897f4",
   "metadata": {},
   "source": [
    "# Examining Home Configurations and Their Effect on Sale Prices\n",
    "### by Steven Tran\n",
    "\n",
    "## 02: Preprocessing, Feature Engineering, and Modeling\n",
    "\n",
    "|Project Notebooks|\n",
    "|--------|\n",
    "|[00_Problem_Statement_and_Project_Overview](00_Problem_Statement_and_Project_Overview.ipynb)|\n",
    "|[01_EDA_and_Cleaning](01_EDA_and_Cleaning.ipynb)|\n",
    "|[02_Preprocessing_FeatureEngineering_Modeling](02_Preprocessing_FeatureEngineering_Modeling.ipynb)|\n",
    "|[03_Kaggle_Submissions](04_Kaggle_Submissions.ipynb)|\n"
   ]
  },
  {
   "cell_type": "code",
   "execution_count": 1,
   "id": "50c81b9c-3ec3-4240-8b11-194d668ced38",
   "metadata": {
    "execution": {
     "iopub.execute_input": "2021-10-23T06:51:56.236984Z",
     "iopub.status.busy": "2021-10-23T06:51:56.236984Z",
     "iopub.status.idle": "2021-10-23T06:51:57.860508Z",
     "shell.execute_reply": "2021-10-23T06:51:57.859612Z",
     "shell.execute_reply.started": "2021-10-23T06:51:56.236984Z"
    },
    "tags": []
   },
   "outputs": [],
   "source": [
    "# Import required modules:\n",
    "\n",
    "import numpy as np\n",
    "import pandas as pd\n",
    "import matplotlib.pyplot as plt\n",
    "import seaborn as sns\n",
    "\n",
    "from sklearn.model_selection import train_test_split, GridSearchCV, cross_val_score\n",
    "from sklearn.preprocessing import StandardScaler, PolynomialFeatures\n",
    "from sklearn.linear_model import LinearRegression, Ridge, Lasso\n",
    "\n",
    "from sklearn import metrics"
   ]
  },
  {
   "cell_type": "markdown",
   "id": "796586e3-f42e-451c-a2c1-029b7f38f25a",
   "metadata": {},
   "source": [
    "### Preprocessing\n",
    "\n",
    "In this section, I'll be doing a small amount of manual feature engineering prompted the problem statement, and I'll also be using `PolyNomialFeatures` to fit a model with entirely too many features to later use as a model benchmark."
   ]
  },
  {
   "cell_type": "code",
   "execution_count": 2,
   "id": "3e14a618-7b14-4388-ab73-d462fd9974f7",
   "metadata": {
    "execution": {
     "iopub.execute_input": "2021-10-23T06:51:57.861533Z",
     "iopub.status.busy": "2021-10-23T06:51:57.861533Z",
     "iopub.status.idle": "2021-10-23T06:51:57.891534Z",
     "shell.execute_reply": "2021-10-23T06:51:57.890572Z",
     "shell.execute_reply.started": "2021-10-23T06:51:57.861533Z"
    },
    "tags": []
   },
   "outputs": [],
   "source": [
    "floorplans = pd.read_csv('../datasets/cleaned/ames_train_clean.csv')"
   ]
  },
  {
   "cell_type": "code",
   "execution_count": 3,
   "id": "7a4e6e08-89ca-4968-a583-1dc3709d096d",
   "metadata": {
    "execution": {
     "iopub.execute_input": "2021-10-23T06:51:57.892505Z",
     "iopub.status.busy": "2021-10-23T06:51:57.892505Z",
     "iopub.status.idle": "2021-10-23T06:51:57.907511Z",
     "shell.execute_reply": "2021-10-23T06:51:57.906508Z",
     "shell.execute_reply.started": "2021-10-23T06:51:57.892505Z"
    },
    "tags": []
   },
   "outputs": [],
   "source": [
    "# add up all the bathrooms to get a full count:\n",
    "floorplans['baths'] = floorplans[['bsmt_full_bath', 'bsmt_half_bath', 'full_bath', 'half_bath']].agg(sum, 1).astype(int)"
   ]
  },
  {
   "cell_type": "code",
   "execution_count": 4,
   "id": "471c8836-c7e2-47e1-b854-ec61061158c5",
   "metadata": {
    "execution": {
     "iopub.execute_input": "2021-10-23T06:51:57.908513Z",
     "iopub.status.busy": "2021-10-23T06:51:57.908513Z",
     "iopub.status.idle": "2021-10-23T06:51:57.924512Z",
     "shell.execute_reply": "2021-10-23T06:51:57.922512Z",
     "shell.execute_reply.started": "2021-10-23T06:51:57.908513Z"
    },
    "tags": []
   },
   "outputs": [],
   "source": [
    "# drop all the constituent columns we used to make our new column:\n",
    "floorplans.drop(columns=['bsmt_full_bath', 'bsmt_half_bath', 'full_bath', 'half_bath'],inplace=True)"
   ]
  },
  {
   "cell_type": "code",
   "execution_count": 5,
   "id": "da98c297-670c-448f-9ffc-ced3a08dc8e4",
   "metadata": {
    "execution": {
     "iopub.execute_input": "2021-10-23T06:51:57.925507Z",
     "iopub.status.busy": "2021-10-23T06:51:57.925507Z",
     "iopub.status.idle": "2021-10-23T06:51:57.939521Z",
     "shell.execute_reply": "2021-10-23T06:51:57.938507Z",
     "shell.execute_reply.started": "2021-10-23T06:51:57.925507Z"
    },
    "tags": []
   },
   "outputs": [
    {
     "data": {
      "text/plain": [
       "2    815\n",
       "3    656\n",
       "1    314\n",
       "4    241\n",
       "5     13\n",
       "6      4\n",
       "8      2\n",
       "Name: baths, dtype: int64"
      ]
     },
     "execution_count": 5,
     "metadata": {},
     "output_type": "execute_result"
    }
   ],
   "source": [
    "# review how distributed our full count of bathrooms is\n",
    "floorplans['baths'].value_counts()"
   ]
  },
  {
   "cell_type": "code",
   "execution_count": 6,
   "id": "5faede4a-f621-42d5-ad1f-4cecb1b2f094",
   "metadata": {
    "execution": {
     "iopub.execute_input": "2021-10-23T06:51:57.941506Z",
     "iopub.status.busy": "2021-10-23T06:51:57.940967Z",
     "iopub.status.idle": "2021-10-23T06:51:57.954506Z",
     "shell.execute_reply": "2021-10-23T06:51:57.953541Z",
     "shell.execute_reply.started": "2021-10-23T06:51:57.941506Z"
    },
    "tags": []
   },
   "outputs": [],
   "source": [
    "# since there are few homes with 5 or more bathrooms, bin those homes together into a 5+ category\n",
    "floorplans.loc[:,'baths'] = [str(x) if x <=4 else '5+' for x in floorplans['baths']]"
   ]
  },
  {
   "cell_type": "code",
   "execution_count": 7,
   "id": "5f9e769a-fd27-4577-959c-bd75114debe9",
   "metadata": {
    "execution": {
     "iopub.execute_input": "2021-10-23T06:51:57.957516Z",
     "iopub.status.busy": "2021-10-23T06:51:57.957516Z",
     "iopub.status.idle": "2021-10-23T06:51:57.970506Z",
     "shell.execute_reply": "2021-10-23T06:51:57.969557Z",
     "shell.execute_reply.started": "2021-10-23T06:51:57.957516Z"
    },
    "tags": []
   },
   "outputs": [],
   "source": [
    "# do the same thing for bedrooms\n",
    "floorplans.loc[:,'beds'] = [1 if x == 0 else x if x < 5 else '5+' for x in floorplans['bedroom_abvgr']]"
   ]
  },
  {
   "cell_type": "code",
   "execution_count": 8,
   "id": "53fada1d-fd56-45ce-b695-bafcf0b4124d",
   "metadata": {
    "execution": {
     "iopub.execute_input": "2021-10-23T06:51:57.972509Z",
     "iopub.status.busy": "2021-10-23T06:51:57.971507Z",
     "iopub.status.idle": "2021-10-23T06:51:57.986509Z",
     "shell.execute_reply": "2021-10-23T06:51:57.985731Z",
     "shell.execute_reply.started": "2021-10-23T06:51:57.972509Z"
    },
    "tags": []
   },
   "outputs": [],
   "source": [
    "predictors = ['beds','baths','house_style'] # will be taking interaction terms"
   ]
  },
  {
   "cell_type": "markdown",
   "id": "1b120a9f-9ef9-4ff9-9cb9-cb2e2e302c7b",
   "metadata": {},
   "source": [
    "Though we cleaned the data extensively in [01_EDA_and_Cleaning](01_EDA_and_Cleaning.ipynb), we won't be using all the columns for the analysis required for the project problem statement. Fortunately, we got to use those other columns in the Kaggle submission, so that work was not wasted.\n",
    "\n",
    "We can drop all the rows that are not used in our definition of **home configuration**."
   ]
  },
  {
   "cell_type": "code",
   "execution_count": 9,
   "id": "57bc3e35-51b8-44f9-b1a1-1f032d05e85c",
   "metadata": {
    "execution": {
     "iopub.execute_input": "2021-10-23T06:51:57.988508Z",
     "iopub.status.busy": "2021-10-23T06:51:57.987507Z",
     "iopub.status.idle": "2021-10-23T06:51:58.001510Z",
     "shell.execute_reply": "2021-10-23T06:51:58.000507Z",
     "shell.execute_reply.started": "2021-10-23T06:51:57.988508Z"
    },
    "tags": []
   },
   "outputs": [],
   "source": [
    "# lose all the other columns we won't be using for our models\n",
    "floorplans = floorplans[(predictors + ['saleprice'])] "
   ]
  },
  {
   "cell_type": "code",
   "execution_count": 10,
   "id": "192a1718-af60-4dca-b403-ecb4d86b10bd",
   "metadata": {
    "execution": {
     "iopub.execute_input": "2021-10-23T06:51:58.002512Z",
     "iopub.status.busy": "2021-10-23T06:51:58.002512Z",
     "iopub.status.idle": "2021-10-23T06:51:58.016508Z",
     "shell.execute_reply": "2021-10-23T06:51:58.016508Z",
     "shell.execute_reply.started": "2021-10-23T06:51:58.002512Z"
    },
    "tags": []
   },
   "outputs": [],
   "source": [
    "#need to turn bedroom and bath into categorical; need to bin gr_liv_area\n",
    "floorplans.loc[:,'beds'] = floorplans['beds'].astype(str)\n",
    "floorplans.loc[:,'baths'] = floorplans['baths'].astype(str)"
   ]
  },
  {
   "cell_type": "code",
   "execution_count": 11,
   "id": "7fca329a-1b0d-497d-9a64-d055a41d4d2b",
   "metadata": {
    "execution": {
     "iopub.execute_input": "2021-10-23T06:51:58.017507Z",
     "iopub.status.busy": "2021-10-23T06:51:58.017507Z",
     "iopub.status.idle": "2021-10-23T06:51:58.032509Z",
     "shell.execute_reply": "2021-10-23T06:51:58.031505Z",
     "shell.execute_reply.started": "2021-10-23T06:51:58.017507Z"
    },
    "tags": []
   },
   "outputs": [
    {
     "data": {
      "text/plain": [
       "1Story    1056\n",
       "2Story     596\n",
       "1.5Fin     218\n",
       "SLvl        93\n",
       "SFoyer      50\n",
       "2.5Unf      14\n",
       "1.5Unf      12\n",
       "2.5Fin       6\n",
       "Name: house_style, dtype: int64"
      ]
     },
     "execution_count": 11,
     "metadata": {},
     "output_type": "execute_result"
    }
   ],
   "source": [
    "# review the distribution of our house styles. will group the less represented categories into\n",
    "# a broad category\n",
    "floorplans['house_style'].value_counts()"
   ]
  },
  {
   "cell_type": "code",
   "execution_count": 12,
   "id": "64e68f72-4614-40e3-928e-d5be6504e06c",
   "metadata": {
    "execution": {
     "iopub.execute_input": "2021-10-23T06:51:58.033511Z",
     "iopub.status.busy": "2021-10-23T06:51:58.033511Z",
     "iopub.status.idle": "2021-10-23T06:51:58.048509Z",
     "shell.execute_reply": "2021-10-23T06:51:58.047504Z",
     "shell.execute_reply.started": "2021-10-23T06:51:58.033511Z"
    },
    "tags": []
   },
   "outputs": [],
   "source": [
    "# if it's not a 1- or 2- story, call it 'unique'\n",
    "floorplans.loc[:,'house_style'] = [x if x in ['1Story','2Story'] else 'Unique(2.5, 1.5, other)' for x in floorplans['house_style']]"
   ]
  },
  {
   "cell_type": "code",
   "execution_count": 13,
   "id": "810a671a-b38d-4c1a-8bad-5b1e49555c1a",
   "metadata": {
    "execution": {
     "iopub.execute_input": "2021-10-23T06:51:58.049508Z",
     "iopub.status.busy": "2021-10-23T06:51:58.049508Z",
     "iopub.status.idle": "2021-10-23T06:51:58.064506Z",
     "shell.execute_reply": "2021-10-23T06:51:58.063540Z",
     "shell.execute_reply.started": "2021-10-23T06:51:58.049508Z"
    },
    "tags": []
   },
   "outputs": [
    {
     "data": {
      "text/plain": [
       "1Story                     1056\n",
       "2Story                      596\n",
       "Unique(2.5, 1.5, other)     393\n",
       "Name: house_style, dtype: int64"
      ]
     },
     "execution_count": 13,
     "metadata": {},
     "output_type": "execute_result"
    }
   ],
   "source": [
    "floorplans['house_style'].value_counts()"
   ]
  },
  {
   "cell_type": "code",
   "execution_count": 14,
   "id": "188786ae-3aab-4f08-98df-52275fabdee9",
   "metadata": {
    "execution": {
     "iopub.execute_input": "2021-10-23T06:51:58.065509Z",
     "iopub.status.busy": "2021-10-23T06:51:58.065509Z",
     "iopub.status.idle": "2021-10-23T06:51:58.096506Z",
     "shell.execute_reply": "2021-10-23T06:51:58.095545Z",
     "shell.execute_reply.started": "2021-10-23T06:51:58.065509Z"
    },
    "tags": []
   },
   "outputs": [
    {
     "name": "stdout",
     "output_type": "stream",
     "text": [
      "<class 'pandas.core.frame.DataFrame'>\n",
      "RangeIndex: 2045 entries, 0 to 2044\n",
      "Data columns (total 4 columns):\n",
      " #   Column       Non-Null Count  Dtype \n",
      "---  ------       --------------  ----- \n",
      " 0   beds         2045 non-null   object\n",
      " 1   baths        2045 non-null   object\n",
      " 2   house_style  2045 non-null   object\n",
      " 3   saleprice    2045 non-null   int64 \n",
      "dtypes: int64(1), object(3)\n",
      "memory usage: 64.0+ KB\n"
     ]
    }
   ],
   "source": [
    "floorplans.info()"
   ]
  },
  {
   "cell_type": "code",
   "execution_count": 15,
   "id": "9e24c337-b012-4f2b-9c09-91865d68e088",
   "metadata": {
    "execution": {
     "iopub.execute_input": "2021-10-23T06:51:58.097508Z",
     "iopub.status.busy": "2021-10-23T06:51:58.097508Z",
     "iopub.status.idle": "2021-10-23T06:51:58.127565Z",
     "shell.execute_reply": "2021-10-23T06:51:58.126583Z",
     "shell.execute_reply.started": "2021-10-23T06:51:58.097508Z"
    }
   },
   "outputs": [],
   "source": [
    "#set aside a df for some presentation plotting pre-dummification:\n",
    "undummied = floorplans\n",
    "undummied.drop(undummied[undummied['saleprice']<60000].index,inplace=True)"
   ]
  },
  {
   "cell_type": "code",
   "execution_count": 16,
   "id": "ff242eea-0741-4c83-a0c4-2190ca277215",
   "metadata": {
    "execution": {
     "iopub.execute_input": "2021-10-23T06:51:58.128561Z",
     "iopub.status.busy": "2021-10-23T06:51:58.127565Z",
     "iopub.status.idle": "2021-10-23T06:51:58.143559Z",
     "shell.execute_reply": "2021-10-23T06:51:58.142596Z",
     "shell.execute_reply.started": "2021-10-23T06:51:58.128561Z"
    },
    "tags": []
   },
   "outputs": [],
   "source": [
    "# dummify all of our configuration constructor variables\n",
    "floorplans = pd.get_dummies(floorplans, columns=list(floorplans.columns)[:-1])"
   ]
  },
  {
   "cell_type": "code",
   "execution_count": 17,
   "id": "d64c9559-1e54-439b-977a-6f8df65d1275",
   "metadata": {
    "execution": {
     "iopub.execute_input": "2021-10-23T06:51:58.144563Z",
     "iopub.status.busy": "2021-10-23T06:51:58.143559Z",
     "iopub.status.idle": "2021-10-23T06:51:58.159560Z",
     "shell.execute_reply": "2021-10-23T06:51:58.158560Z",
     "shell.execute_reply.started": "2021-10-23T06:51:58.144563Z"
    },
    "tags": []
   },
   "outputs": [
    {
     "data": {
      "text/plain": [
       "['saleprice',\n",
       " 'beds_1',\n",
       " 'beds_2',\n",
       " 'beds_3',\n",
       " 'beds_4',\n",
       " 'beds_5+',\n",
       " 'baths_1',\n",
       " 'baths_2',\n",
       " 'baths_3',\n",
       " 'baths_4',\n",
       " 'baths_5+',\n",
       " 'house_style_1Story',\n",
       " 'house_style_2Story',\n",
       " 'house_style_Unique(2.5, 1.5, other)']"
      ]
     },
     "execution_count": 17,
     "metadata": {},
     "output_type": "execute_result"
    }
   ],
   "source": [
    "list(floorplans.columns)"
   ]
  },
  {
   "cell_type": "markdown",
   "id": "ffffdde2-df87-459a-a27d-c8574e0a0a85",
   "metadata": {},
   "source": [
    "For this analysis, I used `pd.get_dummies()` with `drop_first` NOT set to `True`. This is so that I could selectively choose for each of the three dummified variables which one would be our reference category.\n",
    "\n",
    "For this analysis, I chose the **1-story 3-bed, 2-bath** as the reference category.|"
   ]
  },
  {
   "cell_type": "code",
   "execution_count": 18,
   "id": "101646b6-3b5f-45bb-a959-503488f5074c",
   "metadata": {
    "execution": {
     "iopub.execute_input": "2021-10-23T06:51:58.159560Z",
     "iopub.status.busy": "2021-10-23T06:51:58.159560Z",
     "iopub.status.idle": "2021-10-23T06:51:58.174560Z",
     "shell.execute_reply": "2021-10-23T06:51:58.174560Z",
     "shell.execute_reply.started": "2021-10-23T06:51:58.159560Z"
    },
    "tags": []
   },
   "outputs": [],
   "source": [
    "#call on these again when we need to interpret what the coefficients mean\n",
    "reference_cols = ['beds_3','baths_2', 'house_style_1Story']\n",
    "# THIS IS THE BASELINE CONFIGURATION"
   ]
  },
  {
   "cell_type": "markdown",
   "id": "464a99e8-df58-41a3-bfc3-8573588a1dfb",
   "metadata": {},
   "source": [
    "---\n",
    "\n",
    "Before we drop the reference columns, we need to make a good number of interaction terms, bed x bath x house_style. The coefficients on the interactions will be configurations in relation to the basline configuration."
   ]
  },
  {
   "cell_type": "code",
   "execution_count": 19,
   "id": "d0b4afd9-e236-4b8c-bec5-89d83f588252",
   "metadata": {
    "execution": {
     "iopub.execute_input": "2021-10-23T06:51:58.175561Z",
     "iopub.status.busy": "2021-10-23T06:51:58.175561Z",
     "iopub.status.idle": "2021-10-23T06:51:58.239267Z",
     "shell.execute_reply": "2021-10-23T06:51:58.238248Z",
     "shell.execute_reply.started": "2021-10-23T06:51:58.175561Z"
    },
    "tags": []
   },
   "outputs": [],
   "source": [
    "#1story homes:\n",
    "floorplans['1s1b1b'] = floorplans['beds_1']*floorplans['baths_1']*floorplans['house_style_1Story']\n",
    "floorplans['1s2b1b'] = floorplans['beds_2']*floorplans['baths_1']*floorplans['house_style_1Story']\n",
    "floorplans['1s3b1b'] = floorplans['beds_3']*floorplans['baths_1']*floorplans['house_style_1Story']\n",
    "floorplans['1s4b1b'] = floorplans['beds_4']*floorplans['baths_1']*floorplans['house_style_1Story']\n",
    "floorplans['1s5b1b'] = floorplans['beds_5+']*floorplans['baths_1']*floorplans['house_style_1Story']\n",
    "floorplans['1s2b2b'] = floorplans['beds_2']*floorplans['baths_2']*floorplans['house_style_1Story']\n",
    "floorplans['1s3b2b'] = floorplans['beds_3']*floorplans['baths_2']*floorplans['house_style_1Story']\n",
    "floorplans['1s4b2b'] = floorplans['beds_4']*floorplans['baths_2']*floorplans['house_style_1Story']\n",
    "floorplans['1s5b2b'] = floorplans['beds_5+']*floorplans['baths_2']*floorplans['house_style_1Story']\n",
    "floorplans['1s3b3b'] = floorplans['beds_3']*floorplans['baths_3']*floorplans['house_style_1Story']\n",
    "floorplans['1s4b3b'] = floorplans['beds_4']*floorplans['baths_3']*floorplans['house_style_1Story']\n",
    "floorplans['1s5b3b'] = floorplans['beds_5+']*floorplans['baths_3']*floorplans['house_style_1Story']\n",
    "floorplans['1s4b4b'] = floorplans['beds_4']*floorplans['baths_4']*floorplans['house_style_1Story']\n",
    "floorplans['1s5b4b'] = floorplans['beds_5+']*floorplans['baths_4']*floorplans['house_style_1Story']\n",
    "floorplans['1s5b5b'] = floorplans['beds_5+']*floorplans['baths_5+']*floorplans['house_style_1Story']\n",
    "\n",
    "#2story homes:\n",
    "floorplans['2s2b2b'] = floorplans['beds_2']*floorplans['baths_2']*floorplans['house_style_2Story']\n",
    "floorplans['2s3b2b'] = floorplans['beds_3']*floorplans['baths_2']*floorplans['house_style_2Story']\n",
    "floorplans['2s4b2b'] = floorplans['beds_4']*floorplans['baths_2']*floorplans['house_style_2Story']\n",
    "floorplans['2s5b2b'] = floorplans['beds_5+']*floorplans['baths_2']*floorplans['house_style_2Story']\n",
    "floorplans['2s3b3b'] = floorplans['beds_3']*floorplans['baths_3']*floorplans['house_style_2Story']\n",
    "floorplans['2s4b3b'] = floorplans['beds_4']*floorplans['baths_3']*floorplans['house_style_2Story']\n",
    "floorplans['2s5b3b'] = floorplans['beds_5+']*floorplans['baths_3']*floorplans['house_style_2Story']\n",
    "floorplans['2s4b4b'] = floorplans['beds_4']*floorplans['baths_4']*floorplans['house_style_2Story']\n",
    "floorplans['2s5b4b'] = floorplans['beds_5+']*floorplans['baths_4']*floorplans['house_style_2Story']\n",
    "floorplans['2s5b5b'] = floorplans['beds_5+']*floorplans['baths_5+']*floorplans['house_style_2Story']\n",
    "\n",
    "#UniqueStyles:\n",
    "floorplans['u1b1b'] = floorplans['beds_1']*floorplans['baths_1']*floorplans['house_style_Unique(2.5, 1.5, other)']\n",
    "floorplans['u2b1b'] = floorplans['beds_2']*floorplans['baths_1']*floorplans['house_style_Unique(2.5, 1.5, other)']\n",
    "floorplans['u2b2b'] = floorplans['beds_2']*floorplans['baths_2']*floorplans['house_style_Unique(2.5, 1.5, other)']\n",
    "floorplans['u3b2b'] = floorplans['beds_3']*floorplans['baths_2']*floorplans['house_style_Unique(2.5, 1.5, other)']\n",
    "floorplans['u4b2b'] = floorplans['beds_4']*floorplans['baths_2']*floorplans['house_style_Unique(2.5, 1.5, other)']\n",
    "floorplans['u3b3b'] = floorplans['beds_3']*floorplans['baths_3']*floorplans['house_style_Unique(2.5, 1.5, other)']\n",
    "floorplans['u4b3b'] = floorplans['beds_4']*floorplans['baths_3']*floorplans['house_style_Unique(2.5, 1.5, other)']\n",
    "floorplans['u5b3b'] = floorplans['beds_5+']*floorplans['baths_3']*floorplans['house_style_Unique(2.5, 1.5, other)']\n",
    "floorplans['u4b4b'] = floorplans['beds_4']*floorplans['baths_4']*floorplans['house_style_Unique(2.5, 1.5, other)']\n",
    "floorplans['u5b4b'] = floorplans['beds_5+']*floorplans['baths_4']*floorplans['house_style_Unique(2.5, 1.5, other)']\n",
    "floorplans['u5b5b'] = floorplans['beds_5+']*floorplans['baths_5+']*floorplans['house_style_Unique(2.5, 1.5, other)']"
   ]
  },
  {
   "cell_type": "code",
   "execution_count": 20,
   "id": "23d46ad0-a7d5-4d5f-9db6-063878b7b7ba",
   "metadata": {
    "execution": {
     "iopub.execute_input": "2021-10-23T06:51:58.241247Z",
     "iopub.status.busy": "2021-10-23T06:51:58.241247Z",
     "iopub.status.idle": "2021-10-23T06:51:58.254222Z",
     "shell.execute_reply": "2021-10-23T06:51:58.253338Z",
     "shell.execute_reply.started": "2021-10-23T06:51:58.241247Z"
    },
    "tags": []
   },
   "outputs": [],
   "source": [
    "floorplans.drop(columns=reference_cols, inplace=True)"
   ]
  },
  {
   "cell_type": "code",
   "execution_count": 21,
   "id": "b7046bac-a52c-4caa-b222-e22c1cc740c9",
   "metadata": {
    "execution": {
     "iopub.execute_input": "2021-10-23T06:51:58.255225Z",
     "iopub.status.busy": "2021-10-23T06:51:58.254222Z",
     "iopub.status.idle": "2021-10-23T06:51:58.270223Z",
     "shell.execute_reply": "2021-10-23T06:51:58.269257Z",
     "shell.execute_reply.started": "2021-10-23T06:51:58.255225Z"
    },
    "tags": []
   },
   "outputs": [],
   "source": [
    "### Remove homes with price less than 60000 -- those are outliers for this analysis,\n",
    "### but were kept in for the kaggle competition\n",
    "floorplans.drop(floorplans[floorplans['saleprice']<60000].index,inplace=True)"
   ]
  },
  {
   "cell_type": "markdown",
   "id": "af2ed5b6-77cf-4346-ae49-a0037eabf4bf",
   "metadata": {},
   "source": [
    "### Modeling\n",
    "\n",
    "For this section, I'll be deploying the dummified data into four models:\n",
    "* Standard Multiple Linear Regression\n",
    "* Standard Multiple Linear Regression (with PolyNomialFeatures)\n",
    "* Ridge-regularized Linear Regression and\n",
    "* Lasso-regularized Linear Regression\n",
    "\n",
    "First, we need to establish a Baseline to benchmark our model performance against:\n",
    "\n"
   ]
  },
  {
   "cell_type": "code",
   "execution_count": 22,
   "id": "50a21cd4-ce13-4066-bc81-6bf8a64a09e8",
   "metadata": {
    "execution": {
     "iopub.execute_input": "2021-10-23T06:51:58.271227Z",
     "iopub.status.busy": "2021-10-23T06:51:58.271227Z",
     "iopub.status.idle": "2021-10-23T06:51:58.286225Z",
     "shell.execute_reply": "2021-10-23T06:51:58.285227Z",
     "shell.execute_reply.started": "2021-10-23T06:51:58.271227Z"
    },
    "tags": []
   },
   "outputs": [],
   "source": [
    "#define variables X and y:\n",
    "X = floorplans.drop(columns=['saleprice'])\n",
    "y = floorplans['saleprice']\n",
    "y\n",
    "#set up train-test split:\n",
    "X_train, X_test, y_train, y_test = train_test_split(X,y,random_state=42)\n",
    "y_baseline = np.mean(y_test)\n",
    "y_baseline = [y_baseline for value in y_test]"
   ]
  },
  {
   "cell_type": "code",
   "execution_count": 23,
   "id": "a43f99d4-7112-4ba0-830c-180b384b3ae6",
   "metadata": {
    "execution": {
     "iopub.execute_input": "2021-10-23T06:51:58.287225Z",
     "iopub.status.busy": "2021-10-23T06:51:58.287225Z",
     "iopub.status.idle": "2021-10-23T06:51:58.318223Z",
     "shell.execute_reply": "2021-10-23T06:51:58.317260Z",
     "shell.execute_reply.started": "2021-10-23T06:51:58.287225Z"
    },
    "tags": []
   },
   "outputs": [
    {
     "data": {
      "text/plain": [
       "(0.15558815276652402, 0.15495600001446339)"
      ]
     },
     "execution_count": 23,
     "metadata": {},
     "output_type": "execute_result"
    }
   ],
   "source": [
    "#get standard deviations to UNDO standardization for interpretations at the end:\n",
    "X_train_stdevs = [X_train[x].std() for x in list(X_train.columns)]\n",
    "X_test_stdevs = [X_test[x].std() for x in list(X_test.columns)]\n",
    "np.mean(X_train_stdevs), np.mean(X_test_stdevs)"
   ]
  },
  {
   "cell_type": "code",
   "execution_count": 24,
   "id": "e31d70d5-3efe-48f1-ac0f-341e5d3a9afd",
   "metadata": {
    "execution": {
     "iopub.execute_input": "2021-10-23T06:51:58.318223Z",
     "iopub.status.busy": "2021-10-23T06:51:58.318223Z",
     "iopub.status.idle": "2021-10-23T06:51:58.334222Z",
     "shell.execute_reply": "2021-10-23T06:51:58.333222Z",
     "shell.execute_reply.started": "2021-10-23T06:51:58.318223Z"
    },
    "tags": []
   },
   "outputs": [],
   "source": [
    "#baseline score, using means of the testing data:\n",
    "baseline_r2_rmse = (metrics.r2_score(y_test, y_baseline),\n",
    "                    metrics.mean_squared_error(y_test, y_baseline,squared=False))"
   ]
  },
  {
   "cell_type": "code",
   "execution_count": 25,
   "id": "ef835433-425a-476f-a7e4-f0467e8f9fc4",
   "metadata": {
    "execution": {
     "iopub.execute_input": "2021-10-23T06:51:58.337222Z",
     "iopub.status.busy": "2021-10-23T06:51:58.337222Z",
     "iopub.status.idle": "2021-10-23T06:51:58.349226Z",
     "shell.execute_reply": "2021-10-23T06:51:58.348222Z",
     "shell.execute_reply.started": "2021-10-23T06:51:58.337222Z"
    },
    "tags": []
   },
   "outputs": [
    {
     "data": {
      "text/plain": [
       "(0.0, 80570.91666056587)"
      ]
     },
     "execution_count": 25,
     "metadata": {},
     "output_type": "execute_result"
    }
   ],
   "source": [
    "baseline_r2_rmse"
   ]
  },
  {
   "cell_type": "markdown",
   "id": "ef442d51-144d-4788-80bc-5ca7bba5db59",
   "metadata": {},
   "source": [
    "With an R2 of 0, a predictive model constructed from using just the observed target means in the training dataset is considered a very bad model! Great! Nowhere to go but up."
   ]
  },
  {
   "cell_type": "code",
   "execution_count": 26,
   "id": "2e448045-1e64-4b66-9aa5-66dd2b9eb28e",
   "metadata": {
    "execution": {
     "iopub.execute_input": "2021-10-23T06:51:58.351228Z",
     "iopub.status.busy": "2021-10-23T06:51:58.350226Z",
     "iopub.status.idle": "2021-10-23T06:51:58.364222Z",
     "shell.execute_reply": "2021-10-23T06:51:58.364222Z",
     "shell.execute_reply.started": "2021-10-23T06:51:58.351228Z"
    },
    "tags": []
   },
   "outputs": [],
   "source": [
    "scores = [('baseline',baseline_r2_rmse)]"
   ]
  },
  {
   "cell_type": "markdown",
   "id": "6c87c2b1-0ed1-4dc1-a4ce-4f4a5f3aa71f",
   "metadata": {},
   "source": [
    "---\n",
    "\n",
    "Standard MLS"
   ]
  },
  {
   "cell_type": "code",
   "execution_count": 27,
   "id": "3b8d6ef3-b5b2-4578-b425-4a3098ff525b",
   "metadata": {
    "execution": {
     "iopub.execute_input": "2021-10-23T06:51:58.366222Z",
     "iopub.status.busy": "2021-10-23T06:51:58.365222Z",
     "iopub.status.idle": "2021-10-23T06:51:58.381267Z",
     "shell.execute_reply": "2021-10-23T06:51:58.380303Z",
     "shell.execute_reply.started": "2021-10-23T06:51:58.366222Z"
    },
    "tags": []
   },
   "outputs": [],
   "source": [
    "# Instantiate:\n",
    "lr = LinearRegression()"
   ]
  },
  {
   "cell_type": "code",
   "execution_count": 28,
   "id": "dc2ac254-7607-46df-9f46-0e7b2373cfe5",
   "metadata": {
    "execution": {
     "iopub.execute_input": "2021-10-23T06:51:58.382266Z",
     "iopub.status.busy": "2021-10-23T06:51:58.382266Z",
     "iopub.status.idle": "2021-10-23T06:51:58.412511Z",
     "shell.execute_reply": "2021-10-23T06:51:58.411544Z",
     "shell.execute_reply.started": "2021-10-23T06:51:58.382266Z"
    },
    "tags": []
   },
   "outputs": [],
   "source": [
    "# Fit:\n",
    "lr.fit(X_train,y_train)\n",
    "# Predict:\n",
    "y_pred = lr.predict(X_test)\n",
    "# Evaluate:\n",
    "smlr_r2_rmse = (metrics.r2_score(y_test,y_pred),\n",
    "                metrics.mean_squared_error(y_test, y_pred,squared=False))"
   ]
  },
  {
   "cell_type": "code",
   "execution_count": 29,
   "id": "f817beae-a14b-4cab-84aa-20643c423f6a",
   "metadata": {
    "execution": {
     "iopub.execute_input": "2021-10-23T06:51:58.413509Z",
     "iopub.status.busy": "2021-10-23T06:51:58.413509Z",
     "iopub.status.idle": "2021-10-23T06:51:58.428529Z",
     "shell.execute_reply": "2021-10-23T06:51:58.427510Z",
     "shell.execute_reply.started": "2021-10-23T06:51:58.413509Z"
    },
    "tags": []
   },
   "outputs": [
    {
     "data": {
      "text/plain": [
       "(0.365976439796049, 64155.072915840654)"
      ]
     },
     "execution_count": 29,
     "metadata": {},
     "output_type": "execute_result"
    }
   ],
   "source": [
    "smlr_r2_rmse"
   ]
  },
  {
   "cell_type": "code",
   "execution_count": 30,
   "id": "a5f1e915-b026-4d9f-b935-6b87604c58cc",
   "metadata": {
    "execution": {
     "iopub.execute_input": "2021-10-23T06:51:58.429526Z",
     "iopub.status.busy": "2021-10-23T06:51:58.429526Z",
     "iopub.status.idle": "2021-10-23T06:51:58.444529Z",
     "shell.execute_reply": "2021-10-23T06:51:58.443529Z",
     "shell.execute_reply.started": "2021-10-23T06:51:58.429526Z"
    },
    "tags": []
   },
   "outputs": [],
   "source": [
    "#Add the scores. We'll review after all the models have run\n",
    "scores.append(('smlr', smlr_r2_rmse))"
   ]
  },
  {
   "cell_type": "markdown",
   "id": "3cc0dedf-1d07-44fa-971b-dbb06c6a0998",
   "metadata": {},
   "source": [
    "---\n",
    "\n",
    "Standard MLS but with POLYNOMIAL FEATURES"
   ]
  },
  {
   "cell_type": "code",
   "execution_count": 31,
   "id": "d66cf476-e71a-4b4a-b0a2-d708c2f3a14e",
   "metadata": {
    "execution": {
     "iopub.execute_input": "2021-10-23T06:51:58.445526Z",
     "iopub.status.busy": "2021-10-23T06:51:58.445526Z",
     "iopub.status.idle": "2021-10-23T06:51:58.460526Z",
     "shell.execute_reply": "2021-10-23T06:51:58.459526Z",
     "shell.execute_reply.started": "2021-10-23T06:51:58.445526Z"
    },
    "tags": []
   },
   "outputs": [],
   "source": [
    "poly = PolynomialFeatures(degree=3,include_bias=False)"
   ]
  },
  {
   "cell_type": "code",
   "execution_count": 32,
   "id": "4f66694e-c9f7-4896-9d0e-36c3f4c1046e",
   "metadata": {
    "execution": {
     "iopub.execute_input": "2021-10-23T06:51:58.461527Z",
     "iopub.status.busy": "2021-10-23T06:51:58.460526Z",
     "iopub.status.idle": "2021-10-23T06:51:58.696526Z",
     "shell.execute_reply": "2021-10-23T06:51:58.695645Z",
     "shell.execute_reply.started": "2021-10-23T06:51:58.461527Z"
    },
    "tags": []
   },
   "outputs": [],
   "source": [
    "X_train_poly = poly.fit_transform(X_train)\n",
    "X_test_poly = poly.transform(X_test)"
   ]
  },
  {
   "cell_type": "code",
   "execution_count": 33,
   "id": "3d1dd417-45a7-492c-8901-46eea43591ff",
   "metadata": {
    "execution": {
     "iopub.execute_input": "2021-10-23T06:51:58.696526Z",
     "iopub.status.busy": "2021-10-23T06:51:58.696526Z",
     "iopub.status.idle": "2021-10-23T06:51:58.934528Z",
     "shell.execute_reply": "2021-10-23T06:51:58.933730Z",
     "shell.execute_reply.started": "2021-10-23T06:51:58.696526Z"
    },
    "tags": []
   },
   "outputs": [
    {
     "data": {
      "text/plain": [
       "['beds_1',\n",
       " 'beds_2',\n",
       " 'beds_4',\n",
       " 'beds_5+',\n",
       " 'baths_1',\n",
       " 'baths_3',\n",
       " 'baths_4',\n",
       " 'baths_5+',\n",
       " 'house_style_2Story',\n",
       " 'house_style_Unique(2.5, 1.5, other)',\n",
       " '1s1b1b',\n",
       " '1s2b1b',\n",
       " '1s3b1b',\n",
       " '1s4b1b',\n",
       " '1s5b1b',\n",
       " '1s2b2b',\n",
       " '1s3b2b',\n",
       " '1s4b2b',\n",
       " '1s5b2b',\n",
       " '1s3b3b',\n",
       " '1s4b3b',\n",
       " '1s5b3b',\n",
       " '1s4b4b',\n",
       " '1s5b4b',\n",
       " '1s5b5b',\n",
       " '2s2b2b',\n",
       " '2s3b2b',\n",
       " '2s4b2b',\n",
       " '2s5b2b',\n",
       " '2s3b3b',\n",
       " '2s4b3b',\n",
       " '2s5b3b',\n",
       " '2s4b4b',\n",
       " '2s5b4b',\n",
       " '2s5b5b',\n",
       " 'u1b1b',\n",
       " 'u2b1b',\n",
       " 'u2b2b',\n",
       " 'u3b2b',\n",
       " 'u4b2b',\n",
       " 'u3b3b',\n",
       " 'u4b3b',\n",
       " 'u5b3b',\n",
       " 'u4b4b',\n",
       " 'u5b4b',\n",
       " 'u5b5b',\n",
       " 'beds_1^2',\n",
       " 'beds_1 beds_2',\n",
       " 'beds_1 beds_4',\n",
       " 'beds_1 beds_5+',\n",
       " 'beds_1 baths_1',\n",
       " 'beds_1 baths_3',\n",
       " 'beds_1 baths_4',\n",
       " 'beds_1 baths_5+',\n",
       " 'beds_1 house_style_2Story',\n",
       " 'beds_1 house_style_Unique(2.5, 1.5, other)',\n",
       " 'beds_1 1s1b1b',\n",
       " 'beds_1 1s2b1b',\n",
       " 'beds_1 1s3b1b',\n",
       " 'beds_1 1s4b1b',\n",
       " 'beds_1 1s5b1b',\n",
       " 'beds_1 1s2b2b',\n",
       " 'beds_1 1s3b2b',\n",
       " 'beds_1 1s4b2b',\n",
       " 'beds_1 1s5b2b',\n",
       " 'beds_1 1s3b3b',\n",
       " 'beds_1 1s4b3b',\n",
       " 'beds_1 1s5b3b',\n",
       " 'beds_1 1s4b4b',\n",
       " 'beds_1 1s5b4b',\n",
       " 'beds_1 1s5b5b',\n",
       " 'beds_1 2s2b2b',\n",
       " 'beds_1 2s3b2b',\n",
       " 'beds_1 2s4b2b',\n",
       " 'beds_1 2s5b2b',\n",
       " 'beds_1 2s3b3b',\n",
       " 'beds_1 2s4b3b',\n",
       " 'beds_1 2s5b3b',\n",
       " 'beds_1 2s4b4b',\n",
       " 'beds_1 2s5b4b',\n",
       " 'beds_1 2s5b5b',\n",
       " 'beds_1 u1b1b',\n",
       " 'beds_1 u2b1b',\n",
       " 'beds_1 u2b2b',\n",
       " 'beds_1 u3b2b',\n",
       " 'beds_1 u4b2b',\n",
       " 'beds_1 u3b3b',\n",
       " 'beds_1 u4b3b',\n",
       " 'beds_1 u5b3b',\n",
       " 'beds_1 u4b4b',\n",
       " 'beds_1 u5b4b',\n",
       " 'beds_1 u5b5b',\n",
       " 'beds_2^2',\n",
       " 'beds_2 beds_4',\n",
       " 'beds_2 beds_5+',\n",
       " 'beds_2 baths_1',\n",
       " 'beds_2 baths_3',\n",
       " 'beds_2 baths_4',\n",
       " 'beds_2 baths_5+',\n",
       " 'beds_2 house_style_2Story',\n",
       " 'beds_2 house_style_Unique(2.5, 1.5, other)',\n",
       " 'beds_2 1s1b1b',\n",
       " 'beds_2 1s2b1b',\n",
       " 'beds_2 1s3b1b',\n",
       " 'beds_2 1s4b1b',\n",
       " 'beds_2 1s5b1b',\n",
       " 'beds_2 1s2b2b',\n",
       " 'beds_2 1s3b2b',\n",
       " 'beds_2 1s4b2b',\n",
       " 'beds_2 1s5b2b',\n",
       " 'beds_2 1s3b3b',\n",
       " 'beds_2 1s4b3b',\n",
       " 'beds_2 1s5b3b',\n",
       " 'beds_2 1s4b4b',\n",
       " 'beds_2 1s5b4b',\n",
       " 'beds_2 1s5b5b',\n",
       " 'beds_2 2s2b2b',\n",
       " 'beds_2 2s3b2b',\n",
       " 'beds_2 2s4b2b',\n",
       " 'beds_2 2s5b2b',\n",
       " 'beds_2 2s3b3b',\n",
       " 'beds_2 2s4b3b',\n",
       " 'beds_2 2s5b3b',\n",
       " 'beds_2 2s4b4b',\n",
       " 'beds_2 2s5b4b',\n",
       " 'beds_2 2s5b5b',\n",
       " 'beds_2 u1b1b',\n",
       " 'beds_2 u2b1b',\n",
       " 'beds_2 u2b2b',\n",
       " 'beds_2 u3b2b',\n",
       " 'beds_2 u4b2b',\n",
       " 'beds_2 u3b3b',\n",
       " 'beds_2 u4b3b',\n",
       " 'beds_2 u5b3b',\n",
       " 'beds_2 u4b4b',\n",
       " 'beds_2 u5b4b',\n",
       " 'beds_2 u5b5b',\n",
       " 'beds_4^2',\n",
       " 'beds_4 beds_5+',\n",
       " 'beds_4 baths_1',\n",
       " 'beds_4 baths_3',\n",
       " 'beds_4 baths_4',\n",
       " 'beds_4 baths_5+',\n",
       " 'beds_4 house_style_2Story',\n",
       " 'beds_4 house_style_Unique(2.5, 1.5, other)',\n",
       " 'beds_4 1s1b1b',\n",
       " 'beds_4 1s2b1b',\n",
       " 'beds_4 1s3b1b',\n",
       " 'beds_4 1s4b1b',\n",
       " 'beds_4 1s5b1b',\n",
       " 'beds_4 1s2b2b',\n",
       " 'beds_4 1s3b2b',\n",
       " 'beds_4 1s4b2b',\n",
       " 'beds_4 1s5b2b',\n",
       " 'beds_4 1s3b3b',\n",
       " 'beds_4 1s4b3b',\n",
       " 'beds_4 1s5b3b',\n",
       " 'beds_4 1s4b4b',\n",
       " 'beds_4 1s5b4b',\n",
       " 'beds_4 1s5b5b',\n",
       " 'beds_4 2s2b2b',\n",
       " 'beds_4 2s3b2b',\n",
       " 'beds_4 2s4b2b',\n",
       " 'beds_4 2s5b2b',\n",
       " 'beds_4 2s3b3b',\n",
       " 'beds_4 2s4b3b',\n",
       " 'beds_4 2s5b3b',\n",
       " 'beds_4 2s4b4b',\n",
       " 'beds_4 2s5b4b',\n",
       " 'beds_4 2s5b5b',\n",
       " 'beds_4 u1b1b',\n",
       " 'beds_4 u2b1b',\n",
       " 'beds_4 u2b2b',\n",
       " 'beds_4 u3b2b',\n",
       " 'beds_4 u4b2b',\n",
       " 'beds_4 u3b3b',\n",
       " 'beds_4 u4b3b',\n",
       " 'beds_4 u5b3b',\n",
       " 'beds_4 u4b4b',\n",
       " 'beds_4 u5b4b',\n",
       " 'beds_4 u5b5b',\n",
       " 'beds_5+^2',\n",
       " 'beds_5+ baths_1',\n",
       " 'beds_5+ baths_3',\n",
       " 'beds_5+ baths_4',\n",
       " 'beds_5+ baths_5+',\n",
       " 'beds_5+ house_style_2Story',\n",
       " 'beds_5+ house_style_Unique(2.5, 1.5, other)',\n",
       " 'beds_5+ 1s1b1b',\n",
       " 'beds_5+ 1s2b1b',\n",
       " 'beds_5+ 1s3b1b',\n",
       " 'beds_5+ 1s4b1b',\n",
       " 'beds_5+ 1s5b1b',\n",
       " 'beds_5+ 1s2b2b',\n",
       " 'beds_5+ 1s3b2b',\n",
       " 'beds_5+ 1s4b2b',\n",
       " 'beds_5+ 1s5b2b',\n",
       " 'beds_5+ 1s3b3b',\n",
       " 'beds_5+ 1s4b3b',\n",
       " 'beds_5+ 1s5b3b',\n",
       " 'beds_5+ 1s4b4b',\n",
       " 'beds_5+ 1s5b4b',\n",
       " 'beds_5+ 1s5b5b',\n",
       " 'beds_5+ 2s2b2b',\n",
       " 'beds_5+ 2s3b2b',\n",
       " 'beds_5+ 2s4b2b',\n",
       " 'beds_5+ 2s5b2b',\n",
       " 'beds_5+ 2s3b3b',\n",
       " 'beds_5+ 2s4b3b',\n",
       " 'beds_5+ 2s5b3b',\n",
       " 'beds_5+ 2s4b4b',\n",
       " 'beds_5+ 2s5b4b',\n",
       " 'beds_5+ 2s5b5b',\n",
       " 'beds_5+ u1b1b',\n",
       " 'beds_5+ u2b1b',\n",
       " 'beds_5+ u2b2b',\n",
       " 'beds_5+ u3b2b',\n",
       " 'beds_5+ u4b2b',\n",
       " 'beds_5+ u3b3b',\n",
       " 'beds_5+ u4b3b',\n",
       " 'beds_5+ u5b3b',\n",
       " 'beds_5+ u4b4b',\n",
       " 'beds_5+ u5b4b',\n",
       " 'beds_5+ u5b5b',\n",
       " 'baths_1^2',\n",
       " 'baths_1 baths_3',\n",
       " 'baths_1 baths_4',\n",
       " 'baths_1 baths_5+',\n",
       " 'baths_1 house_style_2Story',\n",
       " 'baths_1 house_style_Unique(2.5, 1.5, other)',\n",
       " 'baths_1 1s1b1b',\n",
       " 'baths_1 1s2b1b',\n",
       " 'baths_1 1s3b1b',\n",
       " 'baths_1 1s4b1b',\n",
       " 'baths_1 1s5b1b',\n",
       " 'baths_1 1s2b2b',\n",
       " 'baths_1 1s3b2b',\n",
       " 'baths_1 1s4b2b',\n",
       " 'baths_1 1s5b2b',\n",
       " 'baths_1 1s3b3b',\n",
       " 'baths_1 1s4b3b',\n",
       " 'baths_1 1s5b3b',\n",
       " 'baths_1 1s4b4b',\n",
       " 'baths_1 1s5b4b',\n",
       " 'baths_1 1s5b5b',\n",
       " 'baths_1 2s2b2b',\n",
       " 'baths_1 2s3b2b',\n",
       " 'baths_1 2s4b2b',\n",
       " 'baths_1 2s5b2b',\n",
       " 'baths_1 2s3b3b',\n",
       " 'baths_1 2s4b3b',\n",
       " 'baths_1 2s5b3b',\n",
       " 'baths_1 2s4b4b',\n",
       " 'baths_1 2s5b4b',\n",
       " 'baths_1 2s5b5b',\n",
       " 'baths_1 u1b1b',\n",
       " 'baths_1 u2b1b',\n",
       " 'baths_1 u2b2b',\n",
       " 'baths_1 u3b2b',\n",
       " 'baths_1 u4b2b',\n",
       " 'baths_1 u3b3b',\n",
       " 'baths_1 u4b3b',\n",
       " 'baths_1 u5b3b',\n",
       " 'baths_1 u4b4b',\n",
       " 'baths_1 u5b4b',\n",
       " 'baths_1 u5b5b',\n",
       " 'baths_3^2',\n",
       " 'baths_3 baths_4',\n",
       " 'baths_3 baths_5+',\n",
       " 'baths_3 house_style_2Story',\n",
       " 'baths_3 house_style_Unique(2.5, 1.5, other)',\n",
       " 'baths_3 1s1b1b',\n",
       " 'baths_3 1s2b1b',\n",
       " 'baths_3 1s3b1b',\n",
       " 'baths_3 1s4b1b',\n",
       " 'baths_3 1s5b1b',\n",
       " 'baths_3 1s2b2b',\n",
       " 'baths_3 1s3b2b',\n",
       " 'baths_3 1s4b2b',\n",
       " 'baths_3 1s5b2b',\n",
       " 'baths_3 1s3b3b',\n",
       " 'baths_3 1s4b3b',\n",
       " 'baths_3 1s5b3b',\n",
       " 'baths_3 1s4b4b',\n",
       " 'baths_3 1s5b4b',\n",
       " 'baths_3 1s5b5b',\n",
       " 'baths_3 2s2b2b',\n",
       " 'baths_3 2s3b2b',\n",
       " 'baths_3 2s4b2b',\n",
       " 'baths_3 2s5b2b',\n",
       " 'baths_3 2s3b3b',\n",
       " 'baths_3 2s4b3b',\n",
       " 'baths_3 2s5b3b',\n",
       " 'baths_3 2s4b4b',\n",
       " 'baths_3 2s5b4b',\n",
       " 'baths_3 2s5b5b',\n",
       " 'baths_3 u1b1b',\n",
       " 'baths_3 u2b1b',\n",
       " 'baths_3 u2b2b',\n",
       " 'baths_3 u3b2b',\n",
       " 'baths_3 u4b2b',\n",
       " 'baths_3 u3b3b',\n",
       " 'baths_3 u4b3b',\n",
       " 'baths_3 u5b3b',\n",
       " 'baths_3 u4b4b',\n",
       " 'baths_3 u5b4b',\n",
       " 'baths_3 u5b5b',\n",
       " 'baths_4^2',\n",
       " 'baths_4 baths_5+',\n",
       " 'baths_4 house_style_2Story',\n",
       " 'baths_4 house_style_Unique(2.5, 1.5, other)',\n",
       " 'baths_4 1s1b1b',\n",
       " 'baths_4 1s2b1b',\n",
       " 'baths_4 1s3b1b',\n",
       " 'baths_4 1s4b1b',\n",
       " 'baths_4 1s5b1b',\n",
       " 'baths_4 1s2b2b',\n",
       " 'baths_4 1s3b2b',\n",
       " 'baths_4 1s4b2b',\n",
       " 'baths_4 1s5b2b',\n",
       " 'baths_4 1s3b3b',\n",
       " 'baths_4 1s4b3b',\n",
       " 'baths_4 1s5b3b',\n",
       " 'baths_4 1s4b4b',\n",
       " 'baths_4 1s5b4b',\n",
       " 'baths_4 1s5b5b',\n",
       " 'baths_4 2s2b2b',\n",
       " 'baths_4 2s3b2b',\n",
       " 'baths_4 2s4b2b',\n",
       " 'baths_4 2s5b2b',\n",
       " 'baths_4 2s3b3b',\n",
       " 'baths_4 2s4b3b',\n",
       " 'baths_4 2s5b3b',\n",
       " 'baths_4 2s4b4b',\n",
       " 'baths_4 2s5b4b',\n",
       " 'baths_4 2s5b5b',\n",
       " 'baths_4 u1b1b',\n",
       " 'baths_4 u2b1b',\n",
       " 'baths_4 u2b2b',\n",
       " 'baths_4 u3b2b',\n",
       " 'baths_4 u4b2b',\n",
       " 'baths_4 u3b3b',\n",
       " 'baths_4 u4b3b',\n",
       " 'baths_4 u5b3b',\n",
       " 'baths_4 u4b4b',\n",
       " 'baths_4 u5b4b',\n",
       " 'baths_4 u5b5b',\n",
       " 'baths_5+^2',\n",
       " 'baths_5+ house_style_2Story',\n",
       " 'baths_5+ house_style_Unique(2.5, 1.5, other)',\n",
       " 'baths_5+ 1s1b1b',\n",
       " 'baths_5+ 1s2b1b',\n",
       " 'baths_5+ 1s3b1b',\n",
       " 'baths_5+ 1s4b1b',\n",
       " 'baths_5+ 1s5b1b',\n",
       " 'baths_5+ 1s2b2b',\n",
       " 'baths_5+ 1s3b2b',\n",
       " 'baths_5+ 1s4b2b',\n",
       " 'baths_5+ 1s5b2b',\n",
       " 'baths_5+ 1s3b3b',\n",
       " 'baths_5+ 1s4b3b',\n",
       " 'baths_5+ 1s5b3b',\n",
       " 'baths_5+ 1s4b4b',\n",
       " 'baths_5+ 1s5b4b',\n",
       " 'baths_5+ 1s5b5b',\n",
       " 'baths_5+ 2s2b2b',\n",
       " 'baths_5+ 2s3b2b',\n",
       " 'baths_5+ 2s4b2b',\n",
       " 'baths_5+ 2s5b2b',\n",
       " 'baths_5+ 2s3b3b',\n",
       " 'baths_5+ 2s4b3b',\n",
       " 'baths_5+ 2s5b3b',\n",
       " 'baths_5+ 2s4b4b',\n",
       " 'baths_5+ 2s5b4b',\n",
       " 'baths_5+ 2s5b5b',\n",
       " 'baths_5+ u1b1b',\n",
       " 'baths_5+ u2b1b',\n",
       " 'baths_5+ u2b2b',\n",
       " 'baths_5+ u3b2b',\n",
       " 'baths_5+ u4b2b',\n",
       " 'baths_5+ u3b3b',\n",
       " 'baths_5+ u4b3b',\n",
       " 'baths_5+ u5b3b',\n",
       " 'baths_5+ u4b4b',\n",
       " 'baths_5+ u5b4b',\n",
       " 'baths_5+ u5b5b',\n",
       " 'house_style_2Story^2',\n",
       " 'house_style_2Story house_style_Unique(2.5, 1.5, other)',\n",
       " 'house_style_2Story 1s1b1b',\n",
       " 'house_style_2Story 1s2b1b',\n",
       " 'house_style_2Story 1s3b1b',\n",
       " 'house_style_2Story 1s4b1b',\n",
       " 'house_style_2Story 1s5b1b',\n",
       " 'house_style_2Story 1s2b2b',\n",
       " 'house_style_2Story 1s3b2b',\n",
       " 'house_style_2Story 1s4b2b',\n",
       " 'house_style_2Story 1s5b2b',\n",
       " 'house_style_2Story 1s3b3b',\n",
       " 'house_style_2Story 1s4b3b',\n",
       " 'house_style_2Story 1s5b3b',\n",
       " 'house_style_2Story 1s4b4b',\n",
       " 'house_style_2Story 1s5b4b',\n",
       " 'house_style_2Story 1s5b5b',\n",
       " 'house_style_2Story 2s2b2b',\n",
       " 'house_style_2Story 2s3b2b',\n",
       " 'house_style_2Story 2s4b2b',\n",
       " 'house_style_2Story 2s5b2b',\n",
       " 'house_style_2Story 2s3b3b',\n",
       " 'house_style_2Story 2s4b3b',\n",
       " 'house_style_2Story 2s5b3b',\n",
       " 'house_style_2Story 2s4b4b',\n",
       " 'house_style_2Story 2s5b4b',\n",
       " 'house_style_2Story 2s5b5b',\n",
       " 'house_style_2Story u1b1b',\n",
       " 'house_style_2Story u2b1b',\n",
       " 'house_style_2Story u2b2b',\n",
       " 'house_style_2Story u3b2b',\n",
       " 'house_style_2Story u4b2b',\n",
       " 'house_style_2Story u3b3b',\n",
       " 'house_style_2Story u4b3b',\n",
       " 'house_style_2Story u5b3b',\n",
       " 'house_style_2Story u4b4b',\n",
       " 'house_style_2Story u5b4b',\n",
       " 'house_style_2Story u5b5b',\n",
       " 'house_style_Unique(2.5, 1.5, other)^2',\n",
       " 'house_style_Unique(2.5, 1.5, other) 1s1b1b',\n",
       " 'house_style_Unique(2.5, 1.5, other) 1s2b1b',\n",
       " 'house_style_Unique(2.5, 1.5, other) 1s3b1b',\n",
       " 'house_style_Unique(2.5, 1.5, other) 1s4b1b',\n",
       " 'house_style_Unique(2.5, 1.5, other) 1s5b1b',\n",
       " 'house_style_Unique(2.5, 1.5, other) 1s2b2b',\n",
       " 'house_style_Unique(2.5, 1.5, other) 1s3b2b',\n",
       " 'house_style_Unique(2.5, 1.5, other) 1s4b2b',\n",
       " 'house_style_Unique(2.5, 1.5, other) 1s5b2b',\n",
       " 'house_style_Unique(2.5, 1.5, other) 1s3b3b',\n",
       " 'house_style_Unique(2.5, 1.5, other) 1s4b3b',\n",
       " 'house_style_Unique(2.5, 1.5, other) 1s5b3b',\n",
       " 'house_style_Unique(2.5, 1.5, other) 1s4b4b',\n",
       " 'house_style_Unique(2.5, 1.5, other) 1s5b4b',\n",
       " 'house_style_Unique(2.5, 1.5, other) 1s5b5b',\n",
       " 'house_style_Unique(2.5, 1.5, other) 2s2b2b',\n",
       " 'house_style_Unique(2.5, 1.5, other) 2s3b2b',\n",
       " 'house_style_Unique(2.5, 1.5, other) 2s4b2b',\n",
       " 'house_style_Unique(2.5, 1.5, other) 2s5b2b',\n",
       " 'house_style_Unique(2.5, 1.5, other) 2s3b3b',\n",
       " 'house_style_Unique(2.5, 1.5, other) 2s4b3b',\n",
       " 'house_style_Unique(2.5, 1.5, other) 2s5b3b',\n",
       " 'house_style_Unique(2.5, 1.5, other) 2s4b4b',\n",
       " 'house_style_Unique(2.5, 1.5, other) 2s5b4b',\n",
       " 'house_style_Unique(2.5, 1.5, other) 2s5b5b',\n",
       " 'house_style_Unique(2.5, 1.5, other) u1b1b',\n",
       " 'house_style_Unique(2.5, 1.5, other) u2b1b',\n",
       " 'house_style_Unique(2.5, 1.5, other) u2b2b',\n",
       " 'house_style_Unique(2.5, 1.5, other) u3b2b',\n",
       " 'house_style_Unique(2.5, 1.5, other) u4b2b',\n",
       " 'house_style_Unique(2.5, 1.5, other) u3b3b',\n",
       " 'house_style_Unique(2.5, 1.5, other) u4b3b',\n",
       " 'house_style_Unique(2.5, 1.5, other) u5b3b',\n",
       " 'house_style_Unique(2.5, 1.5, other) u4b4b',\n",
       " 'house_style_Unique(2.5, 1.5, other) u5b4b',\n",
       " 'house_style_Unique(2.5, 1.5, other) u5b5b',\n",
       " '1s1b1b^2',\n",
       " '1s1b1b 1s2b1b',\n",
       " '1s1b1b 1s3b1b',\n",
       " '1s1b1b 1s4b1b',\n",
       " '1s1b1b 1s5b1b',\n",
       " '1s1b1b 1s2b2b',\n",
       " '1s1b1b 1s3b2b',\n",
       " '1s1b1b 1s4b2b',\n",
       " '1s1b1b 1s5b2b',\n",
       " '1s1b1b 1s3b3b',\n",
       " '1s1b1b 1s4b3b',\n",
       " '1s1b1b 1s5b3b',\n",
       " '1s1b1b 1s4b4b',\n",
       " '1s1b1b 1s5b4b',\n",
       " '1s1b1b 1s5b5b',\n",
       " '1s1b1b 2s2b2b',\n",
       " '1s1b1b 2s3b2b',\n",
       " '1s1b1b 2s4b2b',\n",
       " '1s1b1b 2s5b2b',\n",
       " '1s1b1b 2s3b3b',\n",
       " '1s1b1b 2s4b3b',\n",
       " '1s1b1b 2s5b3b',\n",
       " '1s1b1b 2s4b4b',\n",
       " '1s1b1b 2s5b4b',\n",
       " '1s1b1b 2s5b5b',\n",
       " '1s1b1b u1b1b',\n",
       " '1s1b1b u2b1b',\n",
       " '1s1b1b u2b2b',\n",
       " '1s1b1b u3b2b',\n",
       " '1s1b1b u4b2b',\n",
       " '1s1b1b u3b3b',\n",
       " '1s1b1b u4b3b',\n",
       " '1s1b1b u5b3b',\n",
       " '1s1b1b u4b4b',\n",
       " '1s1b1b u5b4b',\n",
       " '1s1b1b u5b5b',\n",
       " '1s2b1b^2',\n",
       " '1s2b1b 1s3b1b',\n",
       " '1s2b1b 1s4b1b',\n",
       " '1s2b1b 1s5b1b',\n",
       " '1s2b1b 1s2b2b',\n",
       " '1s2b1b 1s3b2b',\n",
       " '1s2b1b 1s4b2b',\n",
       " '1s2b1b 1s5b2b',\n",
       " '1s2b1b 1s3b3b',\n",
       " '1s2b1b 1s4b3b',\n",
       " '1s2b1b 1s5b3b',\n",
       " '1s2b1b 1s4b4b',\n",
       " '1s2b1b 1s5b4b',\n",
       " '1s2b1b 1s5b5b',\n",
       " '1s2b1b 2s2b2b',\n",
       " '1s2b1b 2s3b2b',\n",
       " '1s2b1b 2s4b2b',\n",
       " '1s2b1b 2s5b2b',\n",
       " '1s2b1b 2s3b3b',\n",
       " '1s2b1b 2s4b3b',\n",
       " '1s2b1b 2s5b3b',\n",
       " '1s2b1b 2s4b4b',\n",
       " '1s2b1b 2s5b4b',\n",
       " '1s2b1b 2s5b5b',\n",
       " '1s2b1b u1b1b',\n",
       " '1s2b1b u2b1b',\n",
       " '1s2b1b u2b2b',\n",
       " '1s2b1b u3b2b',\n",
       " '1s2b1b u4b2b',\n",
       " '1s2b1b u3b3b',\n",
       " '1s2b1b u4b3b',\n",
       " '1s2b1b u5b3b',\n",
       " '1s2b1b u4b4b',\n",
       " '1s2b1b u5b4b',\n",
       " '1s2b1b u5b5b',\n",
       " '1s3b1b^2',\n",
       " '1s3b1b 1s4b1b',\n",
       " '1s3b1b 1s5b1b',\n",
       " '1s3b1b 1s2b2b',\n",
       " '1s3b1b 1s3b2b',\n",
       " '1s3b1b 1s4b2b',\n",
       " '1s3b1b 1s5b2b',\n",
       " '1s3b1b 1s3b3b',\n",
       " '1s3b1b 1s4b3b',\n",
       " '1s3b1b 1s5b3b',\n",
       " '1s3b1b 1s4b4b',\n",
       " '1s3b1b 1s5b4b',\n",
       " '1s3b1b 1s5b5b',\n",
       " '1s3b1b 2s2b2b',\n",
       " '1s3b1b 2s3b2b',\n",
       " '1s3b1b 2s4b2b',\n",
       " '1s3b1b 2s5b2b',\n",
       " '1s3b1b 2s3b3b',\n",
       " '1s3b1b 2s4b3b',\n",
       " '1s3b1b 2s5b3b',\n",
       " '1s3b1b 2s4b4b',\n",
       " '1s3b1b 2s5b4b',\n",
       " '1s3b1b 2s5b5b',\n",
       " '1s3b1b u1b1b',\n",
       " '1s3b1b u2b1b',\n",
       " '1s3b1b u2b2b',\n",
       " '1s3b1b u3b2b',\n",
       " '1s3b1b u4b2b',\n",
       " '1s3b1b u3b3b',\n",
       " '1s3b1b u4b3b',\n",
       " '1s3b1b u5b3b',\n",
       " '1s3b1b u4b4b',\n",
       " '1s3b1b u5b4b',\n",
       " '1s3b1b u5b5b',\n",
       " '1s4b1b^2',\n",
       " '1s4b1b 1s5b1b',\n",
       " '1s4b1b 1s2b2b',\n",
       " '1s4b1b 1s3b2b',\n",
       " '1s4b1b 1s4b2b',\n",
       " '1s4b1b 1s5b2b',\n",
       " '1s4b1b 1s3b3b',\n",
       " '1s4b1b 1s4b3b',\n",
       " '1s4b1b 1s5b3b',\n",
       " '1s4b1b 1s4b4b',\n",
       " '1s4b1b 1s5b4b',\n",
       " '1s4b1b 1s5b5b',\n",
       " '1s4b1b 2s2b2b',\n",
       " '1s4b1b 2s3b2b',\n",
       " '1s4b1b 2s4b2b',\n",
       " '1s4b1b 2s5b2b',\n",
       " '1s4b1b 2s3b3b',\n",
       " '1s4b1b 2s4b3b',\n",
       " '1s4b1b 2s5b3b',\n",
       " '1s4b1b 2s4b4b',\n",
       " '1s4b1b 2s5b4b',\n",
       " '1s4b1b 2s5b5b',\n",
       " '1s4b1b u1b1b',\n",
       " '1s4b1b u2b1b',\n",
       " '1s4b1b u2b2b',\n",
       " '1s4b1b u3b2b',\n",
       " '1s4b1b u4b2b',\n",
       " '1s4b1b u3b3b',\n",
       " '1s4b1b u4b3b',\n",
       " '1s4b1b u5b3b',\n",
       " '1s4b1b u4b4b',\n",
       " '1s4b1b u5b4b',\n",
       " '1s4b1b u5b5b',\n",
       " '1s5b1b^2',\n",
       " '1s5b1b 1s2b2b',\n",
       " '1s5b1b 1s3b2b',\n",
       " '1s5b1b 1s4b2b',\n",
       " '1s5b1b 1s5b2b',\n",
       " '1s5b1b 1s3b3b',\n",
       " '1s5b1b 1s4b3b',\n",
       " '1s5b1b 1s5b3b',\n",
       " '1s5b1b 1s4b4b',\n",
       " '1s5b1b 1s5b4b',\n",
       " '1s5b1b 1s5b5b',\n",
       " '1s5b1b 2s2b2b',\n",
       " '1s5b1b 2s3b2b',\n",
       " '1s5b1b 2s4b2b',\n",
       " '1s5b1b 2s5b2b',\n",
       " '1s5b1b 2s3b3b',\n",
       " '1s5b1b 2s4b3b',\n",
       " '1s5b1b 2s5b3b',\n",
       " '1s5b1b 2s4b4b',\n",
       " '1s5b1b 2s5b4b',\n",
       " '1s5b1b 2s5b5b',\n",
       " '1s5b1b u1b1b',\n",
       " '1s5b1b u2b1b',\n",
       " '1s5b1b u2b2b',\n",
       " '1s5b1b u3b2b',\n",
       " '1s5b1b u4b2b',\n",
       " '1s5b1b u3b3b',\n",
       " '1s5b1b u4b3b',\n",
       " '1s5b1b u5b3b',\n",
       " '1s5b1b u4b4b',\n",
       " '1s5b1b u5b4b',\n",
       " '1s5b1b u5b5b',\n",
       " '1s2b2b^2',\n",
       " '1s2b2b 1s3b2b',\n",
       " '1s2b2b 1s4b2b',\n",
       " '1s2b2b 1s5b2b',\n",
       " '1s2b2b 1s3b3b',\n",
       " '1s2b2b 1s4b3b',\n",
       " '1s2b2b 1s5b3b',\n",
       " '1s2b2b 1s4b4b',\n",
       " '1s2b2b 1s5b4b',\n",
       " '1s2b2b 1s5b5b',\n",
       " '1s2b2b 2s2b2b',\n",
       " '1s2b2b 2s3b2b',\n",
       " '1s2b2b 2s4b2b',\n",
       " '1s2b2b 2s5b2b',\n",
       " '1s2b2b 2s3b3b',\n",
       " '1s2b2b 2s4b3b',\n",
       " '1s2b2b 2s5b3b',\n",
       " '1s2b2b 2s4b4b',\n",
       " '1s2b2b 2s5b4b',\n",
       " '1s2b2b 2s5b5b',\n",
       " '1s2b2b u1b1b',\n",
       " '1s2b2b u2b1b',\n",
       " '1s2b2b u2b2b',\n",
       " '1s2b2b u3b2b',\n",
       " '1s2b2b u4b2b',\n",
       " '1s2b2b u3b3b',\n",
       " '1s2b2b u4b3b',\n",
       " '1s2b2b u5b3b',\n",
       " '1s2b2b u4b4b',\n",
       " '1s2b2b u5b4b',\n",
       " '1s2b2b u5b5b',\n",
       " '1s3b2b^2',\n",
       " '1s3b2b 1s4b2b',\n",
       " '1s3b2b 1s5b2b',\n",
       " '1s3b2b 1s3b3b',\n",
       " '1s3b2b 1s4b3b',\n",
       " '1s3b2b 1s5b3b',\n",
       " '1s3b2b 1s4b4b',\n",
       " '1s3b2b 1s5b4b',\n",
       " '1s3b2b 1s5b5b',\n",
       " '1s3b2b 2s2b2b',\n",
       " '1s3b2b 2s3b2b',\n",
       " '1s3b2b 2s4b2b',\n",
       " '1s3b2b 2s5b2b',\n",
       " '1s3b2b 2s3b3b',\n",
       " '1s3b2b 2s4b3b',\n",
       " '1s3b2b 2s5b3b',\n",
       " '1s3b2b 2s4b4b',\n",
       " '1s3b2b 2s5b4b',\n",
       " '1s3b2b 2s5b5b',\n",
       " '1s3b2b u1b1b',\n",
       " '1s3b2b u2b1b',\n",
       " '1s3b2b u2b2b',\n",
       " '1s3b2b u3b2b',\n",
       " '1s3b2b u4b2b',\n",
       " '1s3b2b u3b3b',\n",
       " '1s3b2b u4b3b',\n",
       " '1s3b2b u5b3b',\n",
       " '1s3b2b u4b4b',\n",
       " '1s3b2b u5b4b',\n",
       " '1s3b2b u5b5b',\n",
       " '1s4b2b^2',\n",
       " '1s4b2b 1s5b2b',\n",
       " '1s4b2b 1s3b3b',\n",
       " '1s4b2b 1s4b3b',\n",
       " '1s4b2b 1s5b3b',\n",
       " '1s4b2b 1s4b4b',\n",
       " '1s4b2b 1s5b4b',\n",
       " '1s4b2b 1s5b5b',\n",
       " '1s4b2b 2s2b2b',\n",
       " '1s4b2b 2s3b2b',\n",
       " '1s4b2b 2s4b2b',\n",
       " '1s4b2b 2s5b2b',\n",
       " '1s4b2b 2s3b3b',\n",
       " '1s4b2b 2s4b3b',\n",
       " '1s4b2b 2s5b3b',\n",
       " '1s4b2b 2s4b4b',\n",
       " '1s4b2b 2s5b4b',\n",
       " '1s4b2b 2s5b5b',\n",
       " '1s4b2b u1b1b',\n",
       " '1s4b2b u2b1b',\n",
       " '1s4b2b u2b2b',\n",
       " '1s4b2b u3b2b',\n",
       " '1s4b2b u4b2b',\n",
       " '1s4b2b u3b3b',\n",
       " '1s4b2b u4b3b',\n",
       " '1s4b2b u5b3b',\n",
       " '1s4b2b u4b4b',\n",
       " '1s4b2b u5b4b',\n",
       " '1s4b2b u5b5b',\n",
       " '1s5b2b^2',\n",
       " '1s5b2b 1s3b3b',\n",
       " '1s5b2b 1s4b3b',\n",
       " '1s5b2b 1s5b3b',\n",
       " '1s5b2b 1s4b4b',\n",
       " '1s5b2b 1s5b4b',\n",
       " '1s5b2b 1s5b5b',\n",
       " '1s5b2b 2s2b2b',\n",
       " '1s5b2b 2s3b2b',\n",
       " '1s5b2b 2s4b2b',\n",
       " '1s5b2b 2s5b2b',\n",
       " '1s5b2b 2s3b3b',\n",
       " '1s5b2b 2s4b3b',\n",
       " '1s5b2b 2s5b3b',\n",
       " '1s5b2b 2s4b4b',\n",
       " '1s5b2b 2s5b4b',\n",
       " '1s5b2b 2s5b5b',\n",
       " '1s5b2b u1b1b',\n",
       " '1s5b2b u2b1b',\n",
       " '1s5b2b u2b2b',\n",
       " '1s5b2b u3b2b',\n",
       " '1s5b2b u4b2b',\n",
       " '1s5b2b u3b3b',\n",
       " '1s5b2b u4b3b',\n",
       " '1s5b2b u5b3b',\n",
       " '1s5b2b u4b4b',\n",
       " '1s5b2b u5b4b',\n",
       " '1s5b2b u5b5b',\n",
       " '1s3b3b^2',\n",
       " '1s3b3b 1s4b3b',\n",
       " '1s3b3b 1s5b3b',\n",
       " '1s3b3b 1s4b4b',\n",
       " '1s3b3b 1s5b4b',\n",
       " '1s3b3b 1s5b5b',\n",
       " '1s3b3b 2s2b2b',\n",
       " '1s3b3b 2s3b2b',\n",
       " '1s3b3b 2s4b2b',\n",
       " '1s3b3b 2s5b2b',\n",
       " '1s3b3b 2s3b3b',\n",
       " '1s3b3b 2s4b3b',\n",
       " '1s3b3b 2s5b3b',\n",
       " '1s3b3b 2s4b4b',\n",
       " '1s3b3b 2s5b4b',\n",
       " '1s3b3b 2s5b5b',\n",
       " '1s3b3b u1b1b',\n",
       " '1s3b3b u2b1b',\n",
       " '1s3b3b u2b2b',\n",
       " '1s3b3b u3b2b',\n",
       " '1s3b3b u4b2b',\n",
       " '1s3b3b u3b3b',\n",
       " '1s3b3b u4b3b',\n",
       " '1s3b3b u5b3b',\n",
       " '1s3b3b u4b4b',\n",
       " '1s3b3b u5b4b',\n",
       " '1s3b3b u5b5b',\n",
       " '1s4b3b^2',\n",
       " '1s4b3b 1s5b3b',\n",
       " '1s4b3b 1s4b4b',\n",
       " '1s4b3b 1s5b4b',\n",
       " '1s4b3b 1s5b5b',\n",
       " '1s4b3b 2s2b2b',\n",
       " '1s4b3b 2s3b2b',\n",
       " '1s4b3b 2s4b2b',\n",
       " '1s4b3b 2s5b2b',\n",
       " '1s4b3b 2s3b3b',\n",
       " '1s4b3b 2s4b3b',\n",
       " '1s4b3b 2s5b3b',\n",
       " '1s4b3b 2s4b4b',\n",
       " '1s4b3b 2s5b4b',\n",
       " '1s4b3b 2s5b5b',\n",
       " '1s4b3b u1b1b',\n",
       " '1s4b3b u2b1b',\n",
       " '1s4b3b u2b2b',\n",
       " '1s4b3b u3b2b',\n",
       " '1s4b3b u4b2b',\n",
       " '1s4b3b u3b3b',\n",
       " '1s4b3b u4b3b',\n",
       " '1s4b3b u5b3b',\n",
       " '1s4b3b u4b4b',\n",
       " '1s4b3b u5b4b',\n",
       " '1s4b3b u5b5b',\n",
       " '1s5b3b^2',\n",
       " '1s5b3b 1s4b4b',\n",
       " '1s5b3b 1s5b4b',\n",
       " '1s5b3b 1s5b5b',\n",
       " '1s5b3b 2s2b2b',\n",
       " '1s5b3b 2s3b2b',\n",
       " '1s5b3b 2s4b2b',\n",
       " '1s5b3b 2s5b2b',\n",
       " '1s5b3b 2s3b3b',\n",
       " '1s5b3b 2s4b3b',\n",
       " '1s5b3b 2s5b3b',\n",
       " '1s5b3b 2s4b4b',\n",
       " '1s5b3b 2s5b4b',\n",
       " '1s5b3b 2s5b5b',\n",
       " '1s5b3b u1b1b',\n",
       " '1s5b3b u2b1b',\n",
       " '1s5b3b u2b2b',\n",
       " '1s5b3b u3b2b',\n",
       " '1s5b3b u4b2b',\n",
       " '1s5b3b u3b3b',\n",
       " '1s5b3b u4b3b',\n",
       " '1s5b3b u5b3b',\n",
       " '1s5b3b u4b4b',\n",
       " '1s5b3b u5b4b',\n",
       " '1s5b3b u5b5b',\n",
       " '1s4b4b^2',\n",
       " '1s4b4b 1s5b4b',\n",
       " '1s4b4b 1s5b5b',\n",
       " '1s4b4b 2s2b2b',\n",
       " '1s4b4b 2s3b2b',\n",
       " '1s4b4b 2s4b2b',\n",
       " '1s4b4b 2s5b2b',\n",
       " '1s4b4b 2s3b3b',\n",
       " '1s4b4b 2s4b3b',\n",
       " '1s4b4b 2s5b3b',\n",
       " '1s4b4b 2s4b4b',\n",
       " '1s4b4b 2s5b4b',\n",
       " '1s4b4b 2s5b5b',\n",
       " '1s4b4b u1b1b',\n",
       " '1s4b4b u2b1b',\n",
       " '1s4b4b u2b2b',\n",
       " '1s4b4b u3b2b',\n",
       " '1s4b4b u4b2b',\n",
       " '1s4b4b u3b3b',\n",
       " '1s4b4b u4b3b',\n",
       " '1s4b4b u5b3b',\n",
       " '1s4b4b u4b4b',\n",
       " '1s4b4b u5b4b',\n",
       " '1s4b4b u5b5b',\n",
       " '1s5b4b^2',\n",
       " '1s5b4b 1s5b5b',\n",
       " '1s5b4b 2s2b2b',\n",
       " '1s5b4b 2s3b2b',\n",
       " '1s5b4b 2s4b2b',\n",
       " '1s5b4b 2s5b2b',\n",
       " '1s5b4b 2s3b3b',\n",
       " '1s5b4b 2s4b3b',\n",
       " '1s5b4b 2s5b3b',\n",
       " '1s5b4b 2s4b4b',\n",
       " '1s5b4b 2s5b4b',\n",
       " '1s5b4b 2s5b5b',\n",
       " '1s5b4b u1b1b',\n",
       " '1s5b4b u2b1b',\n",
       " '1s5b4b u2b2b',\n",
       " '1s5b4b u3b2b',\n",
       " '1s5b4b u4b2b',\n",
       " '1s5b4b u3b3b',\n",
       " '1s5b4b u4b3b',\n",
       " '1s5b4b u5b3b',\n",
       " '1s5b4b u4b4b',\n",
       " '1s5b4b u5b4b',\n",
       " '1s5b4b u5b5b',\n",
       " '1s5b5b^2',\n",
       " '1s5b5b 2s2b2b',\n",
       " '1s5b5b 2s3b2b',\n",
       " '1s5b5b 2s4b2b',\n",
       " '1s5b5b 2s5b2b',\n",
       " '1s5b5b 2s3b3b',\n",
       " '1s5b5b 2s4b3b',\n",
       " '1s5b5b 2s5b3b',\n",
       " '1s5b5b 2s4b4b',\n",
       " '1s5b5b 2s5b4b',\n",
       " '1s5b5b 2s5b5b',\n",
       " '1s5b5b u1b1b',\n",
       " '1s5b5b u2b1b',\n",
       " '1s5b5b u2b2b',\n",
       " '1s5b5b u3b2b',\n",
       " '1s5b5b u4b2b',\n",
       " '1s5b5b u3b3b',\n",
       " '1s5b5b u4b3b',\n",
       " '1s5b5b u5b3b',\n",
       " '1s5b5b u4b4b',\n",
       " '1s5b5b u5b4b',\n",
       " '1s5b5b u5b5b',\n",
       " '2s2b2b^2',\n",
       " '2s2b2b 2s3b2b',\n",
       " '2s2b2b 2s4b2b',\n",
       " '2s2b2b 2s5b2b',\n",
       " '2s2b2b 2s3b3b',\n",
       " '2s2b2b 2s4b3b',\n",
       " '2s2b2b 2s5b3b',\n",
       " '2s2b2b 2s4b4b',\n",
       " '2s2b2b 2s5b4b',\n",
       " '2s2b2b 2s5b5b',\n",
       " '2s2b2b u1b1b',\n",
       " '2s2b2b u2b1b',\n",
       " '2s2b2b u2b2b',\n",
       " '2s2b2b u3b2b',\n",
       " '2s2b2b u4b2b',\n",
       " '2s2b2b u3b3b',\n",
       " '2s2b2b u4b3b',\n",
       " '2s2b2b u5b3b',\n",
       " '2s2b2b u4b4b',\n",
       " '2s2b2b u5b4b',\n",
       " '2s2b2b u5b5b',\n",
       " '2s3b2b^2',\n",
       " '2s3b2b 2s4b2b',\n",
       " '2s3b2b 2s5b2b',\n",
       " '2s3b2b 2s3b3b',\n",
       " '2s3b2b 2s4b3b',\n",
       " '2s3b2b 2s5b3b',\n",
       " '2s3b2b 2s4b4b',\n",
       " '2s3b2b 2s5b4b',\n",
       " '2s3b2b 2s5b5b',\n",
       " '2s3b2b u1b1b',\n",
       " '2s3b2b u2b1b',\n",
       " '2s3b2b u2b2b',\n",
       " '2s3b2b u3b2b',\n",
       " '2s3b2b u4b2b',\n",
       " '2s3b2b u3b3b',\n",
       " '2s3b2b u4b3b',\n",
       " '2s3b2b u5b3b',\n",
       " '2s3b2b u4b4b',\n",
       " '2s3b2b u5b4b',\n",
       " '2s3b2b u5b5b',\n",
       " '2s4b2b^2',\n",
       " '2s4b2b 2s5b2b',\n",
       " '2s4b2b 2s3b3b',\n",
       " '2s4b2b 2s4b3b',\n",
       " '2s4b2b 2s5b3b',\n",
       " '2s4b2b 2s4b4b',\n",
       " '2s4b2b 2s5b4b',\n",
       " '2s4b2b 2s5b5b',\n",
       " '2s4b2b u1b1b',\n",
       " '2s4b2b u2b1b',\n",
       " '2s4b2b u2b2b',\n",
       " '2s4b2b u3b2b',\n",
       " '2s4b2b u4b2b',\n",
       " '2s4b2b u3b3b',\n",
       " '2s4b2b u4b3b',\n",
       " '2s4b2b u5b3b',\n",
       " '2s4b2b u4b4b',\n",
       " '2s4b2b u5b4b',\n",
       " '2s4b2b u5b5b',\n",
       " '2s5b2b^2',\n",
       " '2s5b2b 2s3b3b',\n",
       " '2s5b2b 2s4b3b',\n",
       " '2s5b2b 2s5b3b',\n",
       " '2s5b2b 2s4b4b',\n",
       " '2s5b2b 2s5b4b',\n",
       " '2s5b2b 2s5b5b',\n",
       " '2s5b2b u1b1b',\n",
       " '2s5b2b u2b1b',\n",
       " '2s5b2b u2b2b',\n",
       " '2s5b2b u3b2b',\n",
       " '2s5b2b u4b2b',\n",
       " '2s5b2b u3b3b',\n",
       " '2s5b2b u4b3b',\n",
       " '2s5b2b u5b3b',\n",
       " '2s5b2b u4b4b',\n",
       " '2s5b2b u5b4b',\n",
       " '2s5b2b u5b5b',\n",
       " '2s3b3b^2',\n",
       " '2s3b3b 2s4b3b',\n",
       " '2s3b3b 2s5b3b',\n",
       " '2s3b3b 2s4b4b',\n",
       " '2s3b3b 2s5b4b',\n",
       " '2s3b3b 2s5b5b',\n",
       " '2s3b3b u1b1b',\n",
       " '2s3b3b u2b1b',\n",
       " '2s3b3b u2b2b',\n",
       " '2s3b3b u3b2b',\n",
       " '2s3b3b u4b2b',\n",
       " '2s3b3b u3b3b',\n",
       " '2s3b3b u4b3b',\n",
       " '2s3b3b u5b3b',\n",
       " '2s3b3b u4b4b',\n",
       " '2s3b3b u5b4b',\n",
       " '2s3b3b u5b5b',\n",
       " '2s4b3b^2',\n",
       " '2s4b3b 2s5b3b',\n",
       " '2s4b3b 2s4b4b',\n",
       " '2s4b3b 2s5b4b',\n",
       " '2s4b3b 2s5b5b',\n",
       " '2s4b3b u1b1b',\n",
       " '2s4b3b u2b1b',\n",
       " '2s4b3b u2b2b',\n",
       " '2s4b3b u3b2b',\n",
       " ...]"
      ]
     },
     "execution_count": 33,
     "metadata": {},
     "output_type": "execute_result"
    }
   ],
   "source": [
    "poly.get_feature_names(input_features = X.columns)"
   ]
  },
  {
   "cell_type": "code",
   "execution_count": 34,
   "id": "3f0e83cb-770d-4e9f-81a6-177027a5e6ca",
   "metadata": {
    "execution": {
     "iopub.execute_input": "2021-10-23T06:51:58.935526Z",
     "iopub.status.busy": "2021-10-23T06:51:58.935526Z",
     "iopub.status.idle": "2021-10-23T06:51:58.950527Z",
     "shell.execute_reply": "2021-10-23T06:51:58.949526Z",
     "shell.execute_reply.started": "2021-10-23T06:51:58.935526Z"
    },
    "tags": []
   },
   "outputs": [],
   "source": [
    "poly_lr = LinearRegression()"
   ]
  },
  {
   "cell_type": "code",
   "execution_count": 35,
   "id": "945c7baf-f5e3-44d2-82f2-e9666aeb0967",
   "metadata": {
    "execution": {
     "iopub.execute_input": "2021-10-23T06:51:58.951564Z",
     "iopub.status.busy": "2021-10-23T06:51:58.950527Z",
     "iopub.status.idle": "2021-10-23T06:52:01.894619Z",
     "shell.execute_reply": "2021-10-23T06:52:01.893620Z",
     "shell.execute_reply.started": "2021-10-23T06:51:58.951564Z"
    },
    "tags": []
   },
   "outputs": [
    {
     "data": {
      "text/plain": [
       "LinearRegression()"
      ]
     },
     "execution_count": 35,
     "metadata": {},
     "output_type": "execute_result"
    }
   ],
   "source": [
    "# Fit\n",
    "poly_lr.fit(X_train_poly,y_train)"
   ]
  },
  {
   "cell_type": "code",
   "execution_count": 36,
   "id": "2ceeebb5-47d0-4ce1-9be0-76e3a30b07ac",
   "metadata": {
    "execution": {
     "iopub.execute_input": "2021-10-23T06:52:01.895619Z",
     "iopub.status.busy": "2021-10-23T06:52:01.895619Z",
     "iopub.status.idle": "2021-10-23T06:52:01.926621Z",
     "shell.execute_reply": "2021-10-23T06:52:01.925621Z",
     "shell.execute_reply.started": "2021-10-23T06:52:01.895619Z"
    },
    "tags": []
   },
   "outputs": [],
   "source": [
    "# Predict\n",
    "y_pred_poly = poly_lr.predict(X_test_poly)"
   ]
  },
  {
   "cell_type": "code",
   "execution_count": 37,
   "id": "67d083d8-b756-4b8e-96f2-9691725cafe7",
   "metadata": {
    "execution": {
     "iopub.execute_input": "2021-10-23T06:52:01.927620Z",
     "iopub.status.busy": "2021-10-23T06:52:01.927620Z",
     "iopub.status.idle": "2021-10-23T06:52:01.942620Z",
     "shell.execute_reply": "2021-10-23T06:52:01.941622Z",
     "shell.execute_reply.started": "2021-10-23T06:52:01.927620Z"
    },
    "tags": []
   },
   "outputs": [],
   "source": [
    "# Evaluate\n",
    "poly_r2_rmse = (metrics.r2_score(y_test,y_pred_poly),\n",
    "                metrics.mean_squared_error(y_test,y_pred_poly,squared=False))"
   ]
  },
  {
   "cell_type": "code",
   "execution_count": 38,
   "id": "0c331f19-78d9-480e-9bce-9e66a22a853d",
   "metadata": {
    "execution": {
     "iopub.execute_input": "2021-10-23T06:52:01.943618Z",
     "iopub.status.busy": "2021-10-23T06:52:01.943618Z",
     "iopub.status.idle": "2021-10-23T06:52:01.958620Z",
     "shell.execute_reply": "2021-10-23T06:52:01.957621Z",
     "shell.execute_reply.started": "2021-10-23T06:52:01.943618Z"
    },
    "tags": []
   },
   "outputs": [],
   "source": [
    "#Add the scores. We'll review after all the models have run\n",
    "scores.append(('mls_poly', poly_r2_rmse))"
   ]
  },
  {
   "cell_type": "markdown",
   "id": "0fc49535-6e78-447a-af3c-26396d0af8b7",
   "metadata": {},
   "source": [
    "---\n",
    "\n",
    "Ridge regression, using GridSearchCV"
   ]
  },
  {
   "cell_type": "code",
   "execution_count": 39,
   "id": "d59932d8-4ceb-408e-8dfb-1d24c962511f",
   "metadata": {
    "execution": {
     "iopub.execute_input": "2021-10-23T06:52:01.959622Z",
     "iopub.status.busy": "2021-10-23T06:52:01.959622Z",
     "iopub.status.idle": "2021-10-23T06:52:03.294734Z",
     "shell.execute_reply": "2021-10-23T06:52:03.293735Z",
     "shell.execute_reply.started": "2021-10-23T06:52:01.959622Z"
    },
    "tags": []
   },
   "outputs": [
    {
     "name": "stdout",
     "output_type": "stream",
     "text": [
      "Fitting 5 folds for each of 100 candidates, totalling 500 fits\n"
     ]
    }
   ],
   "source": [
    "# Instantiate:\n",
    "r_ss = StandardScaler()\n",
    "\n",
    "# Standardize:\n",
    "r_Z_train = r_ss.fit_transform(X_train)\n",
    "r_Z_test = r_ss.transform(X_test)\n",
    "\n",
    "# Define Hyperparameter Set for Ridge:\n",
    "ridge_params = {\n",
    "    'alpha': np.logspace(-2,10,100)\n",
    "}\n",
    "\n",
    "# Instantiate the GridSearchCV:\n",
    "ridge_gs = GridSearchCV(Ridge(),\n",
    "                        ridge_params,\n",
    "                        cv=5,\n",
    "                        verbose=1)\n",
    "\n",
    "# Fit:\n",
    "ridge_gs.fit(r_Z_train, y_train)\n",
    "\n",
    "# Predict:\n",
    "y_pred_r = ridge_gs.predict(r_Z_test)\n",
    "\n",
    "# Evalute:\n",
    "ridge_r2_rmse = (metrics.r2_score(y_test,y_pred_r),\n",
    "                 metrics.mean_squared_error(y_test,y_pred_r, squared=False))\n",
    "\n",
    "scores.append(('ridge',ridge_r2_rmse))"
   ]
  },
  {
   "cell_type": "markdown",
   "id": "51e77131-6632-4bea-a91e-73bf0b000180",
   "metadata": {},
   "source": [
    "---\n",
    "\n",
    "LASSO with GridSearchCV"
   ]
  },
  {
   "cell_type": "code",
   "execution_count": 40,
   "id": "ddd9992f-17d1-47c5-a455-bc3be5e8ba75",
   "metadata": {
    "execution": {
     "iopub.execute_input": "2021-10-23T06:52:03.295736Z",
     "iopub.status.busy": "2021-10-23T06:52:03.295736Z",
     "iopub.status.idle": "2021-10-23T06:52:08.075807Z",
     "shell.execute_reply": "2021-10-23T06:52:08.075807Z",
     "shell.execute_reply.started": "2021-10-23T06:52:03.295736Z"
    },
    "tags": []
   },
   "outputs": [
    {
     "name": "stdout",
     "output_type": "stream",
     "text": [
      "Fitting 5 folds for each of 100 candidates, totalling 500 fits\n"
     ]
    }
   ],
   "source": [
    "# Instantiate:\n",
    "l_ss = StandardScaler()\n",
    "\n",
    "# Standardize:\n",
    "l_Z_train = l_ss.fit_transform(X_train)\n",
    "l_Z_test = l_ss.transform(X_test)\n",
    "\n",
    "# Define Hyperparameter Set for Lasso:\n",
    "lasso_params = {\n",
    "    'alpha': np.logspace(-2,10,100),\n",
    "    'max_iter': [5000]\n",
    "}\n",
    "\n",
    "# Instantiate the GridSearchCV:\n",
    "lasso_gs = GridSearchCV(Lasso(),\n",
    "                        lasso_params,\n",
    "                        cv=5,\n",
    "                        verbose=1)\n",
    "\n",
    "# Fit:\n",
    "lasso_gs.fit(l_Z_train, y_train)\n",
    "\n",
    "# Predict:\n",
    "y_pred_l = lasso_gs.predict(l_Z_test)\n",
    "\n",
    "# Evalute:\n",
    "lasso_r2_rmse = (metrics.r2_score(y_test,y_pred_l),\n",
    "                 metrics.mean_squared_error(y_test,y_pred_l, squared=False))\n",
    "\n",
    "scores.append(('lasso',lasso_r2_rmse))"
   ]
  },
  {
   "cell_type": "markdown",
   "id": "f3516b08-f353-4429-8e76-2dcfbb1476a3",
   "metadata": {},
   "source": [
    "---\n",
    "\n",
    "Review Results:"
   ]
  },
  {
   "cell_type": "code",
   "execution_count": 41,
   "id": "f8fcb967-31ee-449e-9b2a-47f0559218c8",
   "metadata": {
    "execution": {
     "iopub.execute_input": "2021-10-23T06:52:08.076808Z",
     "iopub.status.busy": "2021-10-23T06:52:08.076808Z",
     "iopub.status.idle": "2021-10-23T06:52:08.091810Z",
     "shell.execute_reply": "2021-10-23T06:52:08.090811Z",
     "shell.execute_reply.started": "2021-10-23T06:52:08.076808Z"
    },
    "tags": []
   },
   "outputs": [
    {
     "data": {
      "text/plain": [
       "[('baseline', (0.0, 80570.91666056587)),\n",
       " ('smlr', (0.365976439796049, 64155.072915840654)),\n",
       " ('mls_poly', (-8.440649192873233e+21, 7402292292854698.0)),\n",
       " ('ridge', (0.3694798509666912, 63977.577185240974)),\n",
       " ('lasso', (0.3722479353460759, 63836.986809696995))]"
      ]
     },
     "execution_count": 41,
     "metadata": {},
     "output_type": "execute_result"
    }
   ],
   "source": [
    "scores"
   ]
  },
  {
   "cell_type": "markdown",
   "id": "242877b6-fbb4-44ee-a5ac-80e1235fa574",
   "metadata": {},
   "source": [
    "---\n",
    "\n",
    "Based on the above, it seems like our best choice will be to use the **ridge-regularized multiple linear regression model for inference** on what house style configurations should be ideal.\n",
    "\n",
    "On none of these models is the R2 predictive power anything to gloat about. Further, the R2 and root mean squared error for each of the standard multiple linear regression, ridge, and lasso are also so close to one another. That said, Since ridge has the lowest RMSE, we'll go with that model."
   ]
  },
  {
   "cell_type": "markdown",
   "id": "b70169ba-e36e-4088-929d-38c823ed9559",
   "metadata": {},
   "source": [
    "---\n",
    "\n",
    "## Production Model"
   ]
  },
  {
   "cell_type": "code",
   "execution_count": 42,
   "id": "3b2a7f66-567b-4d19-b4da-69c0cb3608b6",
   "metadata": {
    "execution": {
     "iopub.execute_input": "2021-10-23T06:52:08.092812Z",
     "iopub.status.busy": "2021-10-23T06:52:08.092812Z",
     "iopub.status.idle": "2021-10-23T06:52:08.107810Z",
     "shell.execute_reply": "2021-10-23T06:52:08.106809Z",
     "shell.execute_reply.started": "2021-10-23T06:52:08.092812Z"
    },
    "tags": []
   },
   "outputs": [
    {
     "data": {
      "text/plain": [
       "(0.3694798509666912, 63977.577185240974)"
      ]
     },
     "execution_count": 42,
     "metadata": {},
     "output_type": "execute_result"
    }
   ],
   "source": [
    "# Using the hyperparameters found in the lasso_gs, \n",
    "#run a lasso to get coefficients on our predictors.\n",
    "ridge_reg = Ridge(alpha=ridge_gs.best_params_['alpha'])\n",
    "\n",
    "# Fit:\n",
    "ridge_reg.fit(r_Z_train, y_train)\n",
    "\n",
    "# Predict:\n",
    "y_pred_ridge = ridge_reg.predict(l_Z_test)\n",
    "\n",
    "# Evaluate (check that they match our lasso_gs scores output above):\n",
    "metrics.r2_score(y_test,y_pred_ridge), metrics.mean_squared_error(y_test,y_pred_ridge,squared=False)"
   ]
  },
  {
   "cell_type": "code",
   "execution_count": 43,
   "id": "56b2ea07-6564-44e6-9fdb-2e18cba44d6e",
   "metadata": {
    "execution": {
     "iopub.execute_input": "2021-10-23T06:52:08.108810Z",
     "iopub.status.busy": "2021-10-23T06:52:08.108810Z",
     "iopub.status.idle": "2021-10-23T06:52:08.122811Z",
     "shell.execute_reply": "2021-10-23T06:52:08.121809Z",
     "shell.execute_reply.started": "2021-10-23T06:52:08.108810Z"
    },
    "tags": []
   },
   "outputs": [
    {
     "data": {
      "text/plain": [
       "beds_1                                     4.461946\n",
       "beds_2                                 -1261.346785\n",
       "beds_4                                  1024.915269\n",
       "beds_5+                                  845.832714\n",
       "baths_1                                 2003.673506\n",
       "baths_3                                13325.281645\n",
       "baths_4                                14160.197666\n",
       "baths_5+                                 829.974624\n",
       "house_style_2Story                    -17117.114392\n",
       "house_style_Unique(2.5, 1.5, other)   -13917.733680\n",
       "1s1b1b                                  -432.490151\n",
       "1s2b1b                                 -5003.849229\n",
       "1s3b1b                                 -3411.406439\n",
       "1s4b1b                                   -89.873162\n",
       "1s5b1b                                     0.000000\n",
       "1s2b2b                                 -2257.793599\n",
       "1s3b2b                                 -2648.307645\n",
       "1s4b2b                                  -736.569024\n",
       "1s5b2b                                  -163.570410\n",
       "1s3b3b                                 -2627.712913\n",
       "1s4b3b                                   -40.411413\n",
       "1s5b3b                                   -77.600014\n",
       "1s4b4b                                  -151.229890\n",
       "1s5b4b                                   -51.354857\n",
       "1s5b5b                                     0.000000\n",
       "2s2b2b                                    77.557688\n",
       "2s3b2b                                   449.672777\n",
       "2s4b2b                                   461.552745\n",
       "2s5b2b                                   -35.084300\n",
       "2s3b3b                                  1468.743163\n",
       "2s4b3b                                  1983.106616\n",
       "2s5b3b                                    -3.627394\n",
       "2s4b4b                                  1281.858350\n",
       "2s5b4b                                    34.035653\n",
       "2s5b5b                                    58.711960\n",
       "u1b1b                                    -20.089712\n",
       "u2b1b                                     -2.601049\n",
       "u2b2b                                    603.969013\n",
       "u3b2b                                   1937.255335\n",
       "u4b2b                                    589.038708\n",
       "u3b3b                                     46.870082\n",
       "u4b3b                                    241.630309\n",
       "u5b3b                                      8.445973\n",
       "u4b4b                                   -153.681703\n",
       "u5b4b                                     45.930784\n",
       "u5b5b                                    -35.599052\n",
       "dtype: float64"
      ]
     },
     "execution_count": 43,
     "metadata": {},
     "output_type": "execute_result"
    }
   ],
   "source": [
    "ridge_reg.coef_*X_train_stdevs+np.mean(X_train)\n"
   ]
  },
  {
   "cell_type": "code",
   "execution_count": 44,
   "id": "c02b0025-ebf6-4ca9-a460-0526cbf9dee8",
   "metadata": {
    "execution": {
     "iopub.execute_input": "2021-10-23T06:52:08.123810Z",
     "iopub.status.busy": "2021-10-23T06:52:08.123810Z",
     "iopub.status.idle": "2021-10-23T06:52:08.154809Z",
     "shell.execute_reply": "2021-10-23T06:52:08.153808Z",
     "shell.execute_reply.started": "2021-10-23T06:52:08.123810Z"
    },
    "tags": []
   },
   "outputs": [],
   "source": [
    "# use the standard deviation of the training data to undo the scaling transformation for interpretability:\n",
    "# Extract coefficients into a DF:\n",
    "ridge_coef = pd.DataFrame((ridge_reg.coef_*X_train_stdevs)+np.mean(X_train),index=X.columns,columns=['coef'])\n",
    "\n",
    "#only grab the coefficients for the configurations:\n",
    "configs = list(floorplans.columns)[11:]\n",
    "\n",
    "results = ridge_coef.loc[configs,:].sort_values('coef', ascending = False)\n",
    "\n",
    "results['config'] = [f'Unique(2.5, 1.5, other) {x[1:]}' if x[0] == 'u' else f'1-Story {x[2:]}' if x[0] == '1' else f'2-Story {x[2:]}'  for x in results.index]\n",
    "\n",
    "results.columns = results.columns[::-1]\n",
    "\n",
    "results[['coef','config']] = results[['config', 'coef']]\n",
    "\n",
    "results.loc[:,'coef'] = round(results['coef'],2)"
   ]
  },
  {
   "cell_type": "code",
   "execution_count": 45,
   "id": "322c48f2-cf1f-4174-9d1b-bff56dd8806c",
   "metadata": {
    "execution": {
     "iopub.execute_input": "2021-10-23T06:52:08.155810Z",
     "iopub.status.busy": "2021-10-23T06:52:08.155810Z",
     "iopub.status.idle": "2021-10-23T06:52:08.184812Z",
     "shell.execute_reply": "2021-10-23T06:52:08.184336Z",
     "shell.execute_reply.started": "2021-10-23T06:52:08.155810Z"
    },
    "tags": []
   },
   "outputs": [
    {
     "data": {
      "text/html": [
       "<div>\n",
       "<style scoped>\n",
       "    .dataframe tbody tr th:only-of-type {\n",
       "        vertical-align: middle;\n",
       "    }\n",
       "\n",
       "    .dataframe tbody tr th {\n",
       "        vertical-align: top;\n",
       "    }\n",
       "\n",
       "    .dataframe thead th {\n",
       "        text-align: right;\n",
       "    }\n",
       "</style>\n",
       "<table border=\"1\" class=\"dataframe\">\n",
       "  <thead>\n",
       "    <tr style=\"text-align: right;\">\n",
       "      <th></th>\n",
       "      <th>config</th>\n",
       "      <th>coef</th>\n",
       "    </tr>\n",
       "  </thead>\n",
       "  <tbody>\n",
       "    <tr>\n",
       "      <th>2s4b3b</th>\n",
       "      <td>2-Story 4b3b</td>\n",
       "      <td>1983.11</td>\n",
       "    </tr>\n",
       "    <tr>\n",
       "      <th>u3b2b</th>\n",
       "      <td>Unique(2.5, 1.5, other) 3b2b</td>\n",
       "      <td>1937.26</td>\n",
       "    </tr>\n",
       "    <tr>\n",
       "      <th>2s3b3b</th>\n",
       "      <td>2-Story 3b3b</td>\n",
       "      <td>1468.74</td>\n",
       "    </tr>\n",
       "    <tr>\n",
       "      <th>2s4b4b</th>\n",
       "      <td>2-Story 4b4b</td>\n",
       "      <td>1281.86</td>\n",
       "    </tr>\n",
       "    <tr>\n",
       "      <th>u2b2b</th>\n",
       "      <td>Unique(2.5, 1.5, other) 2b2b</td>\n",
       "      <td>603.97</td>\n",
       "    </tr>\n",
       "    <tr>\n",
       "      <th>u4b2b</th>\n",
       "      <td>Unique(2.5, 1.5, other) 4b2b</td>\n",
       "      <td>589.04</td>\n",
       "    </tr>\n",
       "    <tr>\n",
       "      <th>2s4b2b</th>\n",
       "      <td>2-Story 4b2b</td>\n",
       "      <td>461.55</td>\n",
       "    </tr>\n",
       "    <tr>\n",
       "      <th>2s3b2b</th>\n",
       "      <td>2-Story 3b2b</td>\n",
       "      <td>449.67</td>\n",
       "    </tr>\n",
       "    <tr>\n",
       "      <th>u4b3b</th>\n",
       "      <td>Unique(2.5, 1.5, other) 4b3b</td>\n",
       "      <td>241.63</td>\n",
       "    </tr>\n",
       "    <tr>\n",
       "      <th>2s2b2b</th>\n",
       "      <td>2-Story 2b2b</td>\n",
       "      <td>77.56</td>\n",
       "    </tr>\n",
       "    <tr>\n",
       "      <th>2s5b5b</th>\n",
       "      <td>2-Story 5b5b</td>\n",
       "      <td>58.71</td>\n",
       "    </tr>\n",
       "    <tr>\n",
       "      <th>u3b3b</th>\n",
       "      <td>Unique(2.5, 1.5, other) 3b3b</td>\n",
       "      <td>46.87</td>\n",
       "    </tr>\n",
       "    <tr>\n",
       "      <th>u5b4b</th>\n",
       "      <td>Unique(2.5, 1.5, other) 5b4b</td>\n",
       "      <td>45.93</td>\n",
       "    </tr>\n",
       "    <tr>\n",
       "      <th>2s5b4b</th>\n",
       "      <td>2-Story 5b4b</td>\n",
       "      <td>34.04</td>\n",
       "    </tr>\n",
       "    <tr>\n",
       "      <th>u5b3b</th>\n",
       "      <td>Unique(2.5, 1.5, other) 5b3b</td>\n",
       "      <td>8.45</td>\n",
       "    </tr>\n",
       "    <tr>\n",
       "      <th>u2b1b</th>\n",
       "      <td>Unique(2.5, 1.5, other) 2b1b</td>\n",
       "      <td>-2.60</td>\n",
       "    </tr>\n",
       "    <tr>\n",
       "      <th>2s5b3b</th>\n",
       "      <td>2-Story 5b3b</td>\n",
       "      <td>-3.63</td>\n",
       "    </tr>\n",
       "    <tr>\n",
       "      <th>u1b1b</th>\n",
       "      <td>Unique(2.5, 1.5, other) 1b1b</td>\n",
       "      <td>-20.09</td>\n",
       "    </tr>\n",
       "    <tr>\n",
       "      <th>2s5b2b</th>\n",
       "      <td>2-Story 5b2b</td>\n",
       "      <td>-35.08</td>\n",
       "    </tr>\n",
       "    <tr>\n",
       "      <th>u5b5b</th>\n",
       "      <td>Unique(2.5, 1.5, other) 5b5b</td>\n",
       "      <td>-35.60</td>\n",
       "    </tr>\n",
       "    <tr>\n",
       "      <th>1s4b3b</th>\n",
       "      <td>1-Story 4b3b</td>\n",
       "      <td>-40.41</td>\n",
       "    </tr>\n",
       "    <tr>\n",
       "      <th>1s5b4b</th>\n",
       "      <td>1-Story 5b4b</td>\n",
       "      <td>-51.35</td>\n",
       "    </tr>\n",
       "    <tr>\n",
       "      <th>1s5b3b</th>\n",
       "      <td>1-Story 5b3b</td>\n",
       "      <td>-77.60</td>\n",
       "    </tr>\n",
       "    <tr>\n",
       "      <th>1s4b1b</th>\n",
       "      <td>1-Story 4b1b</td>\n",
       "      <td>-89.87</td>\n",
       "    </tr>\n",
       "    <tr>\n",
       "      <th>1s4b4b</th>\n",
       "      <td>1-Story 4b4b</td>\n",
       "      <td>-151.23</td>\n",
       "    </tr>\n",
       "    <tr>\n",
       "      <th>u4b4b</th>\n",
       "      <td>Unique(2.5, 1.5, other) 4b4b</td>\n",
       "      <td>-153.68</td>\n",
       "    </tr>\n",
       "    <tr>\n",
       "      <th>1s5b2b</th>\n",
       "      <td>1-Story 5b2b</td>\n",
       "      <td>-163.57</td>\n",
       "    </tr>\n",
       "    <tr>\n",
       "      <th>1s1b1b</th>\n",
       "      <td>1-Story 1b1b</td>\n",
       "      <td>-432.49</td>\n",
       "    </tr>\n",
       "    <tr>\n",
       "      <th>1s4b2b</th>\n",
       "      <td>1-Story 4b2b</td>\n",
       "      <td>-736.57</td>\n",
       "    </tr>\n",
       "    <tr>\n",
       "      <th>1s2b2b</th>\n",
       "      <td>1-Story 2b2b</td>\n",
       "      <td>-2257.79</td>\n",
       "    </tr>\n",
       "    <tr>\n",
       "      <th>1s3b3b</th>\n",
       "      <td>1-Story 3b3b</td>\n",
       "      <td>-2627.71</td>\n",
       "    </tr>\n",
       "    <tr>\n",
       "      <th>1s3b2b</th>\n",
       "      <td>1-Story 3b2b</td>\n",
       "      <td>-2648.31</td>\n",
       "    </tr>\n",
       "    <tr>\n",
       "      <th>1s3b1b</th>\n",
       "      <td>1-Story 3b1b</td>\n",
       "      <td>-3411.41</td>\n",
       "    </tr>\n",
       "    <tr>\n",
       "      <th>1s2b1b</th>\n",
       "      <td>1-Story 2b1b</td>\n",
       "      <td>-5003.85</td>\n",
       "    </tr>\n",
       "  </tbody>\n",
       "</table>\n",
       "</div>"
      ],
      "text/plain": [
       "                              config     coef\n",
       "2s4b3b                  2-Story 4b3b  1983.11\n",
       "u3b2b   Unique(2.5, 1.5, other) 3b2b  1937.26\n",
       "2s3b3b                  2-Story 3b3b  1468.74\n",
       "2s4b4b                  2-Story 4b4b  1281.86\n",
       "u2b2b   Unique(2.5, 1.5, other) 2b2b   603.97\n",
       "u4b2b   Unique(2.5, 1.5, other) 4b2b   589.04\n",
       "2s4b2b                  2-Story 4b2b   461.55\n",
       "2s3b2b                  2-Story 3b2b   449.67\n",
       "u4b3b   Unique(2.5, 1.5, other) 4b3b   241.63\n",
       "2s2b2b                  2-Story 2b2b    77.56\n",
       "2s5b5b                  2-Story 5b5b    58.71\n",
       "u3b3b   Unique(2.5, 1.5, other) 3b3b    46.87\n",
       "u5b4b   Unique(2.5, 1.5, other) 5b4b    45.93\n",
       "2s5b4b                  2-Story 5b4b    34.04\n",
       "u5b3b   Unique(2.5, 1.5, other) 5b3b     8.45\n",
       "u2b1b   Unique(2.5, 1.5, other) 2b1b    -2.60\n",
       "2s5b3b                  2-Story 5b3b    -3.63\n",
       "u1b1b   Unique(2.5, 1.5, other) 1b1b   -20.09\n",
       "2s5b2b                  2-Story 5b2b   -35.08\n",
       "u5b5b   Unique(2.5, 1.5, other) 5b5b   -35.60\n",
       "1s4b3b                  1-Story 4b3b   -40.41\n",
       "1s5b4b                  1-Story 5b4b   -51.35\n",
       "1s5b3b                  1-Story 5b3b   -77.60\n",
       "1s4b1b                  1-Story 4b1b   -89.87\n",
       "1s4b4b                  1-Story 4b4b  -151.23\n",
       "u4b4b   Unique(2.5, 1.5, other) 4b4b  -153.68\n",
       "1s5b2b                  1-Story 5b2b  -163.57\n",
       "1s1b1b                  1-Story 1b1b  -432.49\n",
       "1s4b2b                  1-Story 4b2b  -736.57\n",
       "1s2b2b                  1-Story 2b2b -2257.79\n",
       "1s3b3b                  1-Story 3b3b -2627.71\n",
       "1s3b2b                  1-Story 3b2b -2648.31\n",
       "1s3b1b                  1-Story 3b1b -3411.41\n",
       "1s2b1b                  1-Story 2b1b -5003.85"
      ]
     },
     "execution_count": 45,
     "metadata": {},
     "output_type": "execute_result"
    }
   ],
   "source": [
    "results[results['coef'] != 0]"
   ]
  },
  {
   "cell_type": "markdown",
   "id": "02bc1e48-df82-4e1c-bc6c-cbc04b396b51",
   "metadata": {},
   "source": [
    "---\n",
    "\n",
    "### Bonus Visualizations\n",
    "\n",
    "These were charts that couldn't be created until after the interaction terms were defined. I used them in the project presentation slides."
   ]
  },
  {
   "cell_type": "code",
   "execution_count": 46,
   "id": "b20c5fba-39a8-4442-9614-5edfaea1a605",
   "metadata": {
    "execution": {
     "iopub.execute_input": "2021-10-23T06:52:08.186811Z",
     "iopub.status.busy": "2021-10-23T06:52:08.186811Z",
     "iopub.status.idle": "2021-10-23T06:52:08.200813Z",
     "shell.execute_reply": "2021-10-23T06:52:08.199812Z",
     "shell.execute_reply.started": "2021-10-23T06:52:08.186811Z"
    },
    "tags": []
   },
   "outputs": [],
   "source": [
    "count_configs = pd.DataFrame(zip(list(floorplans.columns)[11:],floorplans[list(floorplans.columns)[11:]].sum()), columns=['config', 'count'])"
   ]
  },
  {
   "cell_type": "code",
   "execution_count": 47,
   "id": "56c885ea-37da-4c28-a915-10f3430b44d9",
   "metadata": {
    "execution": {
     "iopub.execute_input": "2021-10-23T06:52:08.202813Z",
     "iopub.status.busy": "2021-10-23T06:52:08.201811Z",
     "iopub.status.idle": "2021-10-23T06:52:08.658005Z",
     "shell.execute_reply": "2021-10-23T06:52:08.658005Z",
     "shell.execute_reply.started": "2021-10-23T06:52:08.202813Z"
    },
    "tags": []
   },
   "outputs": [
    {
     "data": {
      "image/png": "[encoded data removed]",
      "text/plain": [
       "<Figure size 1008x432 with 1 Axes>"
      ]
     },
     "metadata": {
      "needs_background": "light"
     },
     "output_type": "display_data"
    }
   ],
   "source": [
    "plt.figure(figsize=(14,6))\n",
    "sns.barplot(x=count_configs['config'].sort_values(),y=count_configs['count'])\n",
    "plt.xticks(x=count_configs['config'], rotation='vertical')\n",
    "plt.title('Distribution of sample homes by configuration')\n",
    "plt.xlabel('Home Configurations');"
   ]
  },
  {
   "cell_type": "code",
   "execution_count": 48,
   "id": "4ea914a5-48d4-4e80-83cc-f1dcc05e129b",
   "metadata": {
    "execution": {
     "iopub.execute_input": "2021-10-23T06:52:08.659957Z",
     "iopub.status.busy": "2021-10-23T06:52:08.658957Z",
     "iopub.status.idle": "2021-10-23T06:52:08.674957Z",
     "shell.execute_reply": "2021-10-23T06:52:08.673985Z",
     "shell.execute_reply.started": "2021-10-23T06:52:08.659957Z"
    },
    "tags": []
   },
   "outputs": [
    {
     "data": {
      "text/plain": [
       "(2027, 47)"
      ]
     },
     "execution_count": 48,
     "metadata": {},
     "output_type": "execute_result"
    }
   ],
   "source": [
    "floorplans.shape"
   ]
  },
  {
   "cell_type": "code",
   "execution_count": 49,
   "id": "384a04bb-4836-4754-8fa0-a0deabc67c73",
   "metadata": {
    "execution": {
     "iopub.execute_input": "2021-10-23T06:52:08.675960Z",
     "iopub.status.busy": "2021-10-23T06:52:08.675960Z",
     "iopub.status.idle": "2021-10-23T06:52:09.827232Z",
     "shell.execute_reply": "2021-10-23T06:52:09.826460Z",
     "shell.execute_reply.started": "2021-10-23T06:52:08.675960Z"
    },
    "tags": []
   },
   "outputs": [
    {
     "name": "stderr",
     "output_type": "stream",
     "text": [
      "C:\\Users\\yumst\\anaconda3\\lib\\site-packages\\seaborn\\categorical.py:1296: UserWarning: 10.2% of the points cannot be placed; you may want to decrease the size of the markers or use stripplot.\n",
      "  warnings.warn(msg, UserWarning)\n"
     ]
    },
    {
     "data": {
      "image/png": "[encoded data removed]",
      "text/plain": [
       "<Figure size 432x288 with 1 Axes>"
      ]
     },
     "metadata": {
      "needs_background": "light"
     },
     "output_type": "display_data"
    }
   ],
   "source": [
    "\n",
    "plt.figure(figsize=(6,4))\n",
    "sns.swarmplot(x=undummied['beds'],y=undummied['saleprice'], order = ['1','2','3','4','5+'],size=1.5)\n",
    "plt.title('Number of bedrooms roughly positively related to sale price');"
   ]
  },
  {
   "cell_type": "code",
   "execution_count": 50,
   "id": "4a8df1fe-c62f-45b6-af1a-ee1cb401c023",
   "metadata": {
    "execution": {
     "iopub.execute_input": "2021-10-23T06:52:09.828193Z",
     "iopub.status.busy": "2021-10-23T06:52:09.828193Z",
     "iopub.status.idle": "2021-10-23T06:52:11.020636Z",
     "shell.execute_reply": "2021-10-23T06:52:11.019633Z",
     "shell.execute_reply.started": "2021-10-23T06:52:09.828193Z"
    },
    "tags": []
   },
   "outputs": [
    {
     "name": "stderr",
     "output_type": "stream",
     "text": [
      "C:\\Users\\yumst\\anaconda3\\lib\\site-packages\\seaborn\\categorical.py:1296: UserWarning: 12.2% of the points cannot be placed; you may want to decrease the size of the markers or use stripplot.\n",
      "  warnings.warn(msg, UserWarning)\n"
     ]
    },
    {
     "data": {
      "image/png": "[encoded data removed]",
      "text/plain": [
       "<Figure size 432x288 with 1 Axes>"
      ]
     },
     "metadata": {
      "needs_background": "light"
     },
     "output_type": "display_data"
    }
   ],
   "source": [
    "plt.figure(figsize=(6,4))\n",
    "sns.swarmplot(x=undummied['baths'],y=undummied['saleprice'], order = ['1','2','3','4','5+'], size=1.5)\n",
    "plt.title('Number of bathrooms positively related to sale price');"
   ]
  },
  {
   "cell_type": "code",
   "execution_count": 51,
   "id": "500c7886-7e76-4d00-bdac-8433fb53ed0d",
   "metadata": {
    "execution": {
     "iopub.execute_input": "2021-10-23T06:52:11.021636Z",
     "iopub.status.busy": "2021-10-23T06:52:11.020636Z",
     "iopub.status.idle": "2021-10-23T06:52:12.080035Z",
     "shell.execute_reply": "2021-10-23T06:52:12.079224Z",
     "shell.execute_reply.started": "2021-10-23T06:52:11.021636Z"
    },
    "tags": []
   },
   "outputs": [
    {
     "data": {
      "image/png": "[encoded data removed]",
      "text/plain": [
       "<Figure size 432x288 with 1 Axes>"
      ]
     },
     "metadata": {
      "needs_background": "light"
     },
     "output_type": "display_data"
    }
   ],
   "source": [
    "plt.figure(figsize=(6,4))\n",
    "sns.swarmplot(x=undummied['house_style'],y=undummied['saleprice'], size=1.5)\n",
    "plt.title('House style ? related to sale price');"
   ]
  }
 ],
 "metadata": {
  "kernelspec": {
   "display_name": "Python 3",
   "language": "python",
   "name": "python3"
  },
  "language_info": {
   "codemirror_mode": {
    "name": "ipython",
    "version": 3
   },
   "file_extension": ".py",
   "mimetype": "text/x-python",
   "name": "python",
   "nbconvert_exporter": "python",
   "pygments_lexer": "ipython3",
   "version": "3.8.8"
  }
 },
 "nbformat": 4,
 "nbformat_minor": 5
}
