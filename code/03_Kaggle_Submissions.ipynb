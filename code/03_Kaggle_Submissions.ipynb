{
 "cells": [
  {
   "cell_type": "markdown",
   "id": "381befa4-83dd-4594-a346-fdae7708c390",
   "metadata": {},
   "source": [
    "## 03: Kaggle Submissions\n",
    "\n",
    "|Project Notebooks|\n",
    "|--------|\n",
    "|[00_Problem_Statement_and_Project_Overview](00_Problem_Statement_and_Project_Overview.ipynb)|\n",
    "|[01_EDA_and_Cleaning](01_EDA_and_Cleaning.ipynb)|\n",
    "|[02_Preprocessing_FeatureEngineering_Modeling](02_Preprocessing_FeatureEngineering_Modeling.ipynb)|\n",
    "|[03_Kaggle_Submissions](04_Kaggle_Submissions.ipynb)|\n"
   ]
  },
  {
   "cell_type": "markdown",
   "id": "9356d11b-48a6-43ad-977f-6ba7ddb0cde4",
   "metadata": {},
   "source": [
    "This project notebook will be used primarily for producing Ames Housing Dataset `saleprice` modeling.\n",
    "\n",
    "The training data cleaning and exploratory discussion is documented in [01_EDA_and_Cleaning](01_EDA_and_Cleaning.ipynb).\n",
    "\n",
    "Using the cleaned dataset, I will produce one set of predictions of `saleprice` using predictors in the testing dataset and multiple linear regression\n",
    "\n",
    "The output of this notebook should be 1 .CSV file containing `Id` and `SalePrice` fields, with `SalePrice` predicted according to our trained model.\n"
   ]
  },
  {
   "cell_type": "markdown",
   "id": "10cadb2b-836d-4994-ac01-07d93dafd3f4",
   "metadata": {},
   "source": [
    "Begin by importing the necessary tools:"
   ]
  },
  {
   "cell_type": "code",
   "execution_count": 1,
   "id": "0b05c964-0652-4c92-a9da-562eb9937130",
   "metadata": {
    "execution": {
     "iopub.execute_input": "2021-12-06T00:53:55.396078Z",
     "iopub.status.busy": "2021-12-06T00:53:55.395049Z",
     "iopub.status.idle": "2021-12-06T00:53:58.633439Z",
     "shell.execute_reply": "2021-12-06T00:53:58.632396Z",
     "shell.execute_reply.started": "2021-12-06T00:53:55.395049Z"
    },
    "tags": []
   },
   "outputs": [],
   "source": [
    "import numpy as np, pandas as pd, matplotlib.pyplot as plt, seaborn as sns\n",
    "\n",
    "from sklearn.linear_model import LinearRegression, Ridge, Lasso\n",
    "from sklearn.model_selection import GridSearchCV, train_test_split\n",
    "from sklearn.preprocessing import StandardScaler\n",
    "from sklearn.pipeline import Pipeline\n",
    "from sklearn import metrics"
   ]
  },
  {
   "cell_type": "markdown",
   "id": "307dec1e-00ef-4451-8827-aedfd88e4146",
   "metadata": {},
   "source": [
    "---\n",
    "\n",
    "## Preparing the `test.csv` dataset\n",
    "\n",
    "We'll have to make some of the column name, field re-casting, and missing-value adjustments we made to the `train.csv` data for the data to be congruent enough to run a prediction after the model is fit. The steps that must be taken are detailed below:\n",
    "\n",
    "1. Make column names lowercase and replace spaces with underscores.\n",
    "1. Drop columns which were considered extraneous or collinear with another variable.\n",
    "1. Deal with missing values, applying treatments as similar as possible to those applied in the training set.\n",
    "1. Recast column types to match what was done for the training set."
   ]
  },
  {
   "cell_type": "code",
   "execution_count": 2,
   "id": "daf42e2e-9fbf-43fe-8aec-81fbc99f66e0",
   "metadata": {
    "execution": {
     "iopub.execute_input": "2021-12-06T00:53:59.523741Z",
     "iopub.status.busy": "2021-12-06T00:53:59.522749Z",
     "iopub.status.idle": "2021-12-06T00:53:59.645918Z",
     "shell.execute_reply": "2021-12-06T00:53:59.645120Z",
     "shell.execute_reply.started": "2021-12-06T00:53:59.523741Z"
    },
    "tags": []
   },
   "outputs": [],
   "source": [
    "train_orig = pd.read_csv('../datasets/train.csv')\n",
    "train_clean = pd.read_csv('../datasets/cleaned/ames_train_clean.csv')\n",
    "test = pd.read_csv('../datasets/test.csv') # doesn't match what we did in the training set yet\n",
    "\n",
    "#after being converted to categorical variables and exported to a csv, some of the training\n",
    "#fields have reverted to their original types... this should amend that:\n",
    "train_clean[['id','ms_subclass','overall_qual','overall_cond','year_built','year_remod/add','mo_sold','yr_sold']] = \\\n",
    "    train_clean[['id','ms_subclass','overall_qual','overall_cond','year_built','year_remod/add','mo_sold','yr_sold']].astype(str)\n"
   ]
  },
  {
   "cell_type": "code",
   "execution_count": 3,
   "id": "69d54388-d842-44df-bd5b-cdc66ff56e46",
   "metadata": {
    "execution": {
     "iopub.execute_input": "2021-12-06T00:54:04.865286Z",
     "iopub.status.busy": "2021-12-06T00:54:04.865286Z",
     "iopub.status.idle": "2021-12-06T00:54:04.894330Z",
     "shell.execute_reply": "2021-12-06T00:54:04.893365Z",
     "shell.execute_reply.started": "2021-12-06T00:54:04.865286Z"
    },
    "tags": []
   },
   "outputs": [],
   "source": [
    "#get the original field name, determine what the updated name should be, and\n",
    "orig_names = {x:[x.lower().replace(' ','_'), train_orig[x].dtype] for x in train_orig.columns}\n",
    "\n",
    "#get the new names in the cleaned training set:\n",
    "new_names = {column:train_clean[column].dtype for column in train_clean.columns}\n",
    "\n",
    "#drop the following columns from test.csv:\n",
    "test_to_drop = []\n",
    "for column in orig_names:\n",
    "    if orig_names[column][0] not in new_names:\n",
    "        test_to_drop.append(column)\n",
    "test.drop(columns=test_to_drop,inplace=True)"
   ]
  },
  {
   "cell_type": "code",
   "execution_count": 4,
   "id": "d1087ff5-09ce-49e3-9901-67f50fef28bf",
   "metadata": {
    "execution": {
     "iopub.execute_input": "2021-12-06T00:54:08.928409Z",
     "iopub.status.busy": "2021-12-06T00:54:08.928409Z",
     "iopub.status.idle": "2021-12-06T00:54:08.935365Z",
     "shell.execute_reply": "2021-12-06T00:54:08.934366Z",
     "shell.execute_reply.started": "2021-12-06T00:54:08.928409Z"
    },
    "tags": []
   },
   "outputs": [],
   "source": [
    "#update the column names\n",
    "test.columns = [orig_names.get(x)[0] for x in test.columns]"
   ]
  },
  {
   "cell_type": "code",
   "execution_count": 5,
   "id": "b967d483-637b-4411-a940-7f4d3e452489",
   "metadata": {
    "execution": {
     "iopub.execute_input": "2021-12-06T00:54:10.064917Z",
     "iopub.status.busy": "2021-12-06T00:54:10.063945Z",
     "iopub.status.idle": "2021-12-06T00:54:10.070915Z",
     "shell.execute_reply": "2021-12-06T00:54:10.069913Z",
     "shell.execute_reply.started": "2021-12-06T00:54:10.064917Z"
    },
    "tags": []
   },
   "outputs": [
    {
     "name": "stdout",
     "output_type": "stream",
     "text": [
      "rows 878 cols 72\n"
     ]
    }
   ],
   "source": [
    "#get the shape:\n",
    "trows, tcols = test.shape\n",
    "print(f'rows {trows}',f'cols {tcols}')"
   ]
  },
  {
   "cell_type": "code",
   "execution_count": 7,
   "id": "7f70a56f-b98f-4265-9cb4-2af42edeb6f7",
   "metadata": {
    "execution": {
     "iopub.execute_input": "2021-12-06T00:54:32.562259Z",
     "iopub.status.busy": "2021-12-06T00:54:32.562259Z",
     "iopub.status.idle": "2021-12-06T00:54:32.590262Z",
     "shell.execute_reply": "2021-12-06T00:54:32.589270Z",
     "shell.execute_reply.started": "2021-12-06T00:54:32.562259Z"
    },
    "tags": []
   },
   "outputs": [
    {
     "data": {
      "text/html": [
       "<div>\n",
       "<style scoped>\n",
       "    .dataframe tbody tr th:only-of-type {\n",
       "        vertical-align: middle;\n",
       "    }\n",
       "\n",
       "    .dataframe tbody tr th {\n",
       "        vertical-align: top;\n",
       "    }\n",
       "\n",
       "    .dataframe thead th {\n",
       "        text-align: right;\n",
       "    }\n",
       "</style>\n",
       "<table border=\"1\" class=\"dataframe\">\n",
       "  <thead>\n",
       "    <tr style=\"text-align: right;\">\n",
       "      <th></th>\n",
       "      <th>count of null obvs</th>\n",
       "    </tr>\n",
       "  </thead>\n",
       "  <tbody>\n",
       "    <tr>\n",
       "      <th>pool_qc</th>\n",
       "      <td>874</td>\n",
       "    </tr>\n",
       "    <tr>\n",
       "      <th>misc_feature</th>\n",
       "      <td>837</td>\n",
       "    </tr>\n",
       "    <tr>\n",
       "      <th>alley</th>\n",
       "      <td>820</td>\n",
       "    </tr>\n",
       "    <tr>\n",
       "      <th>fence</th>\n",
       "      <td>706</td>\n",
       "    </tr>\n",
       "    <tr>\n",
       "      <th>fireplace_qu</th>\n",
       "      <td>422</td>\n",
       "    </tr>\n",
       "    <tr>\n",
       "      <th>lot_frontage</th>\n",
       "      <td>160</td>\n",
       "    </tr>\n",
       "    <tr>\n",
       "      <th>garage_yr_blt</th>\n",
       "      <td>45</td>\n",
       "    </tr>\n",
       "    <tr>\n",
       "      <th>garage_finish</th>\n",
       "      <td>45</td>\n",
       "    </tr>\n",
       "    <tr>\n",
       "      <th>garage_qual</th>\n",
       "      <td>45</td>\n",
       "    </tr>\n",
       "    <tr>\n",
       "      <th>garage_cond</th>\n",
       "      <td>45</td>\n",
       "    </tr>\n",
       "    <tr>\n",
       "      <th>garage_type</th>\n",
       "      <td>44</td>\n",
       "    </tr>\n",
       "    <tr>\n",
       "      <th>bsmt_exposure</th>\n",
       "      <td>25</td>\n",
       "    </tr>\n",
       "    <tr>\n",
       "      <th>bsmtfin_type_1</th>\n",
       "      <td>25</td>\n",
       "    </tr>\n",
       "    <tr>\n",
       "      <th>bsmtfin_type_2</th>\n",
       "      <td>25</td>\n",
       "    </tr>\n",
       "    <tr>\n",
       "      <th>bsmt_cond</th>\n",
       "      <td>25</td>\n",
       "    </tr>\n",
       "    <tr>\n",
       "      <th>bsmt_qual</th>\n",
       "      <td>25</td>\n",
       "    </tr>\n",
       "    <tr>\n",
       "      <th>mas_vnr_area</th>\n",
       "      <td>1</td>\n",
       "    </tr>\n",
       "    <tr>\n",
       "      <th>mas_vnr_type</th>\n",
       "      <td>1</td>\n",
       "    </tr>\n",
       "    <tr>\n",
       "      <th>electrical</th>\n",
       "      <td>1</td>\n",
       "    </tr>\n",
       "  </tbody>\n",
       "</table>\n",
       "</div>"
      ],
      "text/plain": [
       "                count of null obvs\n",
       "pool_qc                        874\n",
       "misc_feature                   837\n",
       "alley                          820\n",
       "fence                          706\n",
       "fireplace_qu                   422\n",
       "lot_frontage                   160\n",
       "garage_yr_blt                   45\n",
       "garage_finish                   45\n",
       "garage_qual                     45\n",
       "garage_cond                     45\n",
       "garage_type                     44\n",
       "bsmt_exposure                   25\n",
       "bsmtfin_type_1                  25\n",
       "bsmtfin_type_2                  25\n",
       "bsmt_cond                       25\n",
       "bsmt_qual                       25\n",
       "mas_vnr_area                     1\n",
       "mas_vnr_type                     1\n",
       "electrical                       1"
      ]
     },
     "execution_count": 7,
     "metadata": {},
     "output_type": "execute_result"
    }
   ],
   "source": [
    "#check the columns with nulls\n",
    "test_null_cols = {column: [null_sum] for column, null_sum in list(zip(test.columns,test.isnull().sum())) if null_sum > 0}\n",
    "pd.DataFrame.from_dict(test_null_cols,'index',columns=['count of null obvs']).sort_values('count of null obvs', ascending = False)"
   ]
  },
  {
   "cell_type": "markdown",
   "id": "427084c8-253d-4826-885b-ea5604583dc6",
   "metadata": {},
   "source": [
    "The code cell below is a series of steps taken to deal with NAs in the test set as similarly as we did in the training dataset."
   ]
  },
  {
   "cell_type": "code",
   "execution_count": 8,
   "id": "ccc629a1-291d-4316-b240-b331243b0e7a",
   "metadata": {
    "execution": {
     "iopub.execute_input": "2021-12-06T00:54:35.745644Z",
     "iopub.status.busy": "2021-12-06T00:54:35.745644Z",
     "iopub.status.idle": "2021-12-06T00:54:35.766647Z",
     "shell.execute_reply": "2021-12-06T00:54:35.765643Z",
     "shell.execute_reply.started": "2021-12-06T00:54:35.745644Z"
    },
    "tags": []
   },
   "outputs": [],
   "source": [
    "def fill_na_none(df,column):\n",
    "    df[column] = df[column].fillna('None')\n",
    "\n",
    "columns_to_fill_na_none = ['pool_qc',\n",
    "                           'misc_feature',\n",
    "                           'alley',\n",
    "                           'fence',\n",
    "                           'fireplace_qu',\n",
    "                           'garage_yr_blt',\n",
    "                           'garage_finish',\n",
    "                           'garage_qual',\n",
    "                           'garage_cond',\n",
    "                           'bsmt_exposure',\n",
    "                           'bsmtfin_type_1',\n",
    "                           'bsmtfin_type_2',\n",
    "                           'bsmt_cond',\n",
    "                           'bsmt_qual',\n",
    "                           'mas_vnr_type',\n",
    "                           'electrical']\n",
    "\n",
    "#property index 764 has a non-null 'garage_type', but missing data in the other garage columns would indicate they do not have a garage.\n",
    "#make property 764's garage_type = 'None' and \n",
    "test.loc[764,'garage_type'] = 'None'\n",
    "columns_to_fill_na_none.append('garage_type')\n",
    "\n",
    "for col in columns_to_fill_na_none:\n",
    "    fill_na_none(test,col)\n",
    "    \n",
    "#lastly, make the one null in 'mas_vnr_area' = 0.0\n",
    "test.loc[865,'mas_vnr_area'] = 0.0"
   ]
  },
  {
   "cell_type": "code",
   "execution_count": 9,
   "id": "3286ac00-aecd-436c-89cd-bfc7f21af77b",
   "metadata": {
    "execution": {
     "iopub.execute_input": "2021-12-06T00:54:41.366146Z",
     "iopub.status.busy": "2021-12-06T00:54:41.366146Z",
     "iopub.status.idle": "2021-12-06T00:54:41.385144Z",
     "shell.execute_reply": "2021-12-06T00:54:41.384146Z",
     "shell.execute_reply.started": "2021-12-06T00:54:41.366146Z"
    },
    "tags": []
   },
   "outputs": [
    {
     "data": {
      "text/html": [
       "<div>\n",
       "<style scoped>\n",
       "    .dataframe tbody tr th:only-of-type {\n",
       "        vertical-align: middle;\n",
       "    }\n",
       "\n",
       "    .dataframe tbody tr th {\n",
       "        vertical-align: top;\n",
       "    }\n",
       "\n",
       "    .dataframe thead th {\n",
       "        text-align: right;\n",
       "    }\n",
       "</style>\n",
       "<table border=\"1\" class=\"dataframe\">\n",
       "  <thead>\n",
       "    <tr style=\"text-align: right;\">\n",
       "      <th></th>\n",
       "      <th>count of null obvs</th>\n",
       "    </tr>\n",
       "  </thead>\n",
       "  <tbody>\n",
       "    <tr>\n",
       "      <th>lot_frontage</th>\n",
       "      <td>160</td>\n",
       "    </tr>\n",
       "  </tbody>\n",
       "</table>\n",
       "</div>"
      ],
      "text/plain": [
       "              count of null obvs\n",
       "lot_frontage                 160"
      ]
     },
     "execution_count": 9,
     "metadata": {},
     "output_type": "execute_result"
    }
   ],
   "source": [
    "#recheck the columns with nulls\n",
    "test_null_cols = {column: [null_sum] for column, null_sum in list(zip(test.columns,test.isnull().sum())) if null_sum > 0}\n",
    "pd.DataFrame.from_dict(test_null_cols,'index',columns=['count of null obvs']).sort_values('count of null obvs', ascending = False)"
   ]
  },
  {
   "cell_type": "markdown",
   "id": "d7f18d6c-c5b3-4c41-842a-d5b20399a267",
   "metadata": {},
   "source": [
    "All that's left is to use KNNImputer to fill the missing values in `lot_frontage`:"
   ]
  },
  {
   "cell_type": "code",
   "execution_count": 10,
   "id": "42d9886a-b5f6-43f7-92bc-7516ffa81347",
   "metadata": {
    "execution": {
     "iopub.execute_input": "2021-12-06T00:54:45.893232Z",
     "iopub.status.busy": "2021-12-06T00:54:45.893232Z",
     "iopub.status.idle": "2021-12-06T00:54:46.060472Z",
     "shell.execute_reply": "2021-12-06T00:54:46.060472Z",
     "shell.execute_reply.started": "2021-12-06T00:54:45.893232Z"
    },
    "tags": []
   },
   "outputs": [],
   "source": [
    "#import and instantiate\n",
    "from sklearn.impute import KNNImputer\n",
    "knn_imp = KNNImputer()\n",
    "\n",
    "#create a dataframe with imputed values for `lot_frontage`\n",
    "imputed = pd.DataFrame(knn_imp.fit_transform(test.select_dtypes(include=np.number)),\n",
    "                       columns=test.select_dtypes(include=np.number).columns)"
   ]
  },
  {
   "cell_type": "code",
   "execution_count": 11,
   "id": "814ae901-6d59-4a05-9855-6c8eb5bd8b0c",
   "metadata": {
    "execution": {
     "iopub.execute_input": "2021-12-06T00:54:47.065785Z",
     "iopub.status.busy": "2021-12-06T00:54:47.065785Z",
     "iopub.status.idle": "2021-12-06T00:54:47.074785Z",
     "shell.execute_reply": "2021-12-06T00:54:47.073784Z",
     "shell.execute_reply.started": "2021-12-06T00:54:47.065785Z"
    },
    "tags": []
   },
   "outputs": [
    {
     "data": {
      "text/plain": [
       "(69.54596100278552, 70.16309794988611, 553.8465596749076, 505.5483744282521)"
      ]
     },
     "execution_count": 11,
     "metadata": {},
     "output_type": "execute_result"
    }
   ],
   "source": [
    "#compare original vs. imputed mean and variance\n",
    "test.lot_frontage.mean(),  imputed.lot_frontage.mean(), test.lot_frontage.var(), imputed.lot_frontage.var()"
   ]
  },
  {
   "cell_type": "code",
   "execution_count": 12,
   "id": "fb42e9a9-897b-45ab-913e-ddda932c88c1",
   "metadata": {
    "execution": {
     "iopub.execute_input": "2021-12-06T00:55:03.544666Z",
     "iopub.status.busy": "2021-12-06T00:55:03.544666Z",
     "iopub.status.idle": "2021-12-06T00:55:03.558639Z",
     "shell.execute_reply": "2021-12-06T00:55:03.557645Z",
     "shell.execute_reply.started": "2021-12-06T00:55:03.544666Z"
    },
    "tags": []
   },
   "outputs": [],
   "source": [
    "#overwrite the original lot_frontage NAs with the imputed lot frontages\n",
    "test['lot_frontage'] = imputed['lot_frontage']"
   ]
  },
  {
   "cell_type": "code",
   "execution_count": 13,
   "id": "d775ee10-6f99-43f9-b9b8-eef0f6c6980e",
   "metadata": {
    "execution": {
     "iopub.execute_input": "2021-12-06T00:55:04.873778Z",
     "iopub.status.busy": "2021-12-06T00:55:04.873778Z",
     "iopub.status.idle": "2021-12-06T00:55:04.894781Z",
     "shell.execute_reply": "2021-12-06T00:55:04.894004Z",
     "shell.execute_reply.started": "2021-12-06T00:55:04.873778Z"
    },
    "tags": []
   },
   "outputs": [
    {
     "data": {
      "text/plain": [
       "0"
      ]
     },
     "execution_count": 13,
     "metadata": {},
     "output_type": "execute_result"
    }
   ],
   "source": [
    "#confirm no nulls remain:\n",
    "test.isnull().sum().sum()"
   ]
  },
  {
   "cell_type": "markdown",
   "id": "faccc87c-e8c9-40a2-bf85-5c1472a6b699",
   "metadata": {},
   "source": [
    "---\n",
    "\n",
    "Lastly, in the training data, we recasted some columns' types. The code cell below should cast all the same columns to matching types:"
   ]
  },
  {
   "cell_type": "code",
   "execution_count": 14,
   "id": "af7d09c8-8aab-4134-b844-7c8211a98dbb",
   "metadata": {
    "execution": {
     "iopub.execute_input": "2021-12-06T00:55:08.123903Z",
     "iopub.status.busy": "2021-12-06T00:55:08.123903Z",
     "iopub.status.idle": "2021-12-06T00:55:08.137902Z",
     "shell.execute_reply": "2021-12-06T00:55:08.136902Z",
     "shell.execute_reply.started": "2021-12-06T00:55:08.123903Z"
    },
    "tags": []
   },
   "outputs": [],
   "source": [
    "#cast discrete vars as objects\n",
    "test[['id','ms_subclass','overall_qual','overall_cond','year_built','year_remod/add','mo_sold','yr_sold']] = \\\n",
    "    test[['id','ms_subclass','overall_qual','overall_cond','year_built','year_remod/add','mo_sold','yr_sold']].astype(str)"
   ]
  },
  {
   "cell_type": "markdown",
   "id": "fe2c16eb-59bc-4d78-9171-606efa89ea3f",
   "metadata": {},
   "source": [
    "Check now that all the column types between clean train match that of clean test:"
   ]
  },
  {
   "cell_type": "code",
   "execution_count": 15,
   "id": "fbc6d7cc-f8f2-4766-9f36-b3e7ff137ff1",
   "metadata": {
    "execution": {
     "iopub.execute_input": "2021-12-06T00:55:08.900270Z",
     "iopub.status.busy": "2021-12-06T00:55:08.900270Z",
     "iopub.status.idle": "2021-12-06T00:55:08.917242Z",
     "shell.execute_reply": "2021-12-06T00:55:08.916242Z",
     "shell.execute_reply.started": "2021-12-06T00:55:08.900270Z"
    },
    "tags": []
   },
   "outputs": [
    {
     "data": {
      "text/plain": [
       "((878, 72), (2045, 73))"
      ]
     },
     "execution_count": 15,
     "metadata": {},
     "output_type": "execute_result"
    }
   ],
   "source": [
    "test.shape, train_clean.shape"
   ]
  },
  {
   "cell_type": "markdown",
   "id": "c8b28035-51e6-4ac6-95ca-3a3e0072194d",
   "metadata": {},
   "source": [
    "We expect that there is one fewer column (`saleprice`) in the test set."
   ]
  },
  {
   "cell_type": "code",
   "execution_count": 16,
   "id": "464e839c-0ce2-4904-b92d-ea31f8822670",
   "metadata": {
    "execution": {
     "iopub.execute_input": "2021-12-06T00:55:10.430041Z",
     "iopub.status.busy": "2021-12-06T00:55:10.430041Z",
     "iopub.status.idle": "2021-12-06T00:55:10.444039Z",
     "shell.execute_reply": "2021-12-06T00:55:10.443039Z",
     "shell.execute_reply.started": "2021-12-06T00:55:10.430041Z"
    },
    "tags": []
   },
   "outputs": [
    {
     "data": {
      "text/plain": [
       "True"
      ]
     },
     "execution_count": 16,
     "metadata": {},
     "output_type": "execute_result"
    }
   ],
   "source": [
    "list(train_clean.columns[:-1]) == list(test.columns)"
   ]
  },
  {
   "cell_type": "markdown",
   "id": "452935e6-7689-415a-ab11-ca32a7ad7685",
   "metadata": {},
   "source": [
    "Check the dtypes too."
   ]
  },
  {
   "cell_type": "code",
   "execution_count": 17,
   "id": "2239ce4a-7f68-40f0-b986-3acfa76237f9",
   "metadata": {
    "execution": {
     "iopub.execute_input": "2021-12-06T00:55:12.747408Z",
     "iopub.status.busy": "2021-12-06T00:55:12.747408Z",
     "iopub.status.idle": "2021-12-06T00:55:12.768428Z",
     "shell.execute_reply": "2021-12-06T00:55:12.767630Z",
     "shell.execute_reply.started": "2021-12-06T00:55:12.747408Z"
    },
    "tags": []
   },
   "outputs": [
    {
     "data": {
      "text/plain": [
       "True"
      ]
     },
     "execution_count": 17,
     "metadata": {},
     "output_type": "execute_result"
    }
   ],
   "source": [
    "for column in test.columns:\n",
    "    if test[column].dtype != 'O' and test[column].dtype != train_clean[column].dtype:\n",
    "        test[column] = test[column].astype(train_clean[column].dtype)\n",
    "        \n",
    "list(train_clean.dtypes[:-1]) == list(test.dtypes)"
   ]
  },
  {
   "cell_type": "markdown",
   "id": "ebad314c-407b-447d-9207-4c7b3e322a46",
   "metadata": {},
   "source": [
    "---\n",
    "\n",
    "## Strategy for Preprocessing\n",
    "\n",
    "I'll be using LASSO regression to assist with feature selection. As exhibited in [01_EDA_and_Cleaning](01_EDA_and_Cleaning.ipynb), it's somewhat apparent which continuous variable should be included in predicing homes' `saleprice`. The regularized regression we do here will largely help us select which categorical variables to keep.\n",
    "\n",
    "This strategy will proceed roughly as follows:\n",
    "\n",
    "* One-hot encode the categorical variables\n",
    "* Set up a train-test split to split our training dataset into training and testing data for validation\n",
    "* Scale the variables (per the prerequsite to using regularized models)\n",
    "* Use GridSearchCV to attune our model to the best lambda (error scalar term)\n",
    "* Determine which variables contribute meaningfully to predicting `saleprice` and drop the ones that don't.\n",
    "\n",
    "Once we have the variables we like, we'll train all three models using the identified predictors to predict `saleprice` in the test dataset."
   ]
  },
  {
   "cell_type": "code",
   "execution_count": 18,
   "id": "61f64f27-4a47-4c3b-aba7-2a6287e1e47f",
   "metadata": {
    "execution": {
     "iopub.execute_input": "2021-12-06T00:55:45.906592Z",
     "iopub.status.busy": "2021-12-06T00:55:45.906592Z",
     "iopub.status.idle": "2021-12-06T00:55:45.938561Z",
     "shell.execute_reply": "2021-12-06T00:55:45.937731Z",
     "shell.execute_reply.started": "2021-12-06T00:55:45.906592Z"
    },
    "tags": []
   },
   "outputs": [],
   "source": [
    "#### Save a copy of our cleaned test data in case we want \n",
    "#### to try different models or feature selections later.\n",
    "test.to_csv('../datasets/cleaned/ames_test_clean.csv',index=False)"
   ]
  },
  {
   "cell_type": "markdown",
   "id": "21090c0b-87d0-45b3-af03-87041aec103b",
   "metadata": {},
   "source": [
    "---\n",
    "\n",
    "#### One-Hot Encode the Categorical Variables\n",
    "\n",
    "The test.csv is now clean. But there may still be adjustments we need to make AFTER we've made our variable selection.\n"
   ]
  },
  {
   "cell_type": "code",
   "execution_count": 19,
   "id": "7c094ed7-ea66-4f5f-8e9d-cd815e92aae8",
   "metadata": {
    "execution": {
     "iopub.execute_input": "2021-12-06T00:55:55.721489Z",
     "iopub.status.busy": "2021-12-06T00:55:55.721489Z",
     "iopub.status.idle": "2021-12-06T00:55:55.734487Z",
     "shell.execute_reply": "2021-12-06T00:55:55.733487Z",
     "shell.execute_reply.started": "2021-12-06T00:55:55.721489Z"
    },
    "tags": []
   },
   "outputs": [],
   "source": [
    "#save a list of the categorical columns:\n",
    "categorical_columns = list(train_clean.select_dtypes(include='object').columns)\n",
    "\n",
    "#don't include the id column for this:\n",
    "categorical_columns.remove('id')"
   ]
  },
  {
   "cell_type": "code",
   "execution_count": 20,
   "id": "b5f8b905-06ae-4801-b61a-82b6d7a5d30f",
   "metadata": {
    "execution": {
     "iopub.execute_input": "2021-12-06T00:55:57.841893Z",
     "iopub.status.busy": "2021-12-06T00:55:57.840892Z",
     "iopub.status.idle": "2021-12-06T00:55:57.902343Z",
     "shell.execute_reply": "2021-12-06T00:55:57.900962Z",
     "shell.execute_reply.started": "2021-12-06T00:55:57.841893Z"
    },
    "tags": []
   },
   "outputs": [],
   "source": [
    "train_clean = pd.get_dummies(train_clean, columns=categorical_columns,drop_first=True)"
   ]
  },
  {
   "cell_type": "code",
   "execution_count": 21,
   "id": "45c1bf73-8ea7-4e23-b316-46e7d4e3194e",
   "metadata": {
    "execution": {
     "iopub.execute_input": "2021-12-06T00:55:59.253552Z",
     "iopub.status.busy": "2021-12-06T00:55:59.253552Z",
     "iopub.status.idle": "2021-12-06T00:55:59.271508Z",
     "shell.execute_reply": "2021-12-06T00:55:59.270569Z",
     "shell.execute_reply.started": "2021-12-06T00:55:59.253552Z"
    },
    "tags": []
   },
   "outputs": [
    {
     "data": {
      "text/plain": [
       "(2045, 565)"
      ]
     },
     "execution_count": 21,
     "metadata": {},
     "output_type": "execute_result"
    }
   ],
   "source": [
    "train_clean.shape"
   ]
  },
  {
   "cell_type": "markdown",
   "id": "f4fd30d7-5982-486f-8e67-b16ea780761a",
   "metadata": {},
   "source": [
    "---\n",
    "\n",
    "#### Apply a train-test split\n",
    "\n",
    "Now to split our data into training and testing sets. We'll use pipelines to make this process a little easier."
   ]
  },
  {
   "cell_type": "code",
   "execution_count": 22,
   "id": "91814b47-52d4-4dc8-9436-b9d0d7f8277e",
   "metadata": {
    "execution": {
     "iopub.execute_input": "2021-12-06T00:56:03.944419Z",
     "iopub.status.busy": "2021-12-06T00:56:03.944419Z",
     "iopub.status.idle": "2021-12-06T00:56:03.967873Z",
     "shell.execute_reply": "2021-12-06T00:56:03.966822Z",
     "shell.execute_reply.started": "2021-12-06T00:56:03.944419Z"
    },
    "tags": []
   },
   "outputs": [],
   "source": [
    "X = train_clean.drop(columns=['saleprice'])\n",
    "y = train_clean['saleprice']"
   ]
  },
  {
   "cell_type": "code",
   "execution_count": 23,
   "id": "19b3a49e-037e-487a-9cff-255ef55dc9f7",
   "metadata": {
    "execution": {
     "iopub.execute_input": "2021-12-06T00:56:04.215183Z",
     "iopub.status.busy": "2021-12-06T00:56:04.215183Z",
     "iopub.status.idle": "2021-12-06T00:56:04.231184Z",
     "shell.execute_reply": "2021-12-06T00:56:04.230152Z",
     "shell.execute_reply.started": "2021-12-06T00:56:04.215183Z"
    },
    "tags": []
   },
   "outputs": [],
   "source": [
    "#apply train-test_split:\n",
    "X_train, X_test, y_train, y_test = train_test_split(X,y,random_state=42)"
   ]
  },
  {
   "cell_type": "markdown",
   "id": "808f0da1-6c2e-440e-b8ed-827487ab8c6e",
   "metadata": {},
   "source": [
    "#### Use `Pipeline` and `GridSearchCV` to optimze hyperparameters for `Lasso`:\n",
    "\n",
    "Inspired by Lesson 4.05-hyperparameters-gridsearch-and-pipelines"
   ]
  },
  {
   "cell_type": "code",
   "execution_count": 32,
   "id": "01e318eb-70d5-41c2-9fcb-a66b349eba6f",
   "metadata": {
    "execution": {
     "iopub.execute_input": "2021-12-06T04:40:54.273995Z",
     "iopub.status.busy": "2021-12-06T04:40:54.273995Z",
     "iopub.status.idle": "2021-12-06T04:46:27.597460Z",
     "shell.execute_reply": "2021-12-06T04:46:27.596414Z",
     "shell.execute_reply.started": "2021-12-06T04:40:54.273995Z"
    },
    "tags": []
   },
   "outputs": [
    {
     "name": "stderr",
     "output_type": "stream",
     "text": [
      "C:\\Users\\yumst\\anaconda3\\lib\\site-packages\\sklearn\\linear_model\\_coordinate_descent.py:530: ConvergenceWarning: Objective did not converge. You might want to increase the number of iterations. Duality gap: 85694272537.57784, tolerance: 6855594491.998208\n",
      "  model = cd_fast.enet_coordinate_descent(\n",
      "C:\\Users\\yumst\\anaconda3\\lib\\site-packages\\sklearn\\linear_model\\_coordinate_descent.py:530: ConvergenceWarning: Objective did not converge. You might want to increase the number of iterations. Duality gap: 18327668129.304504, tolerance: 6585290440.470783\n",
      "  model = cd_fast.enet_coordinate_descent(\n",
      "C:\\Users\\yumst\\anaconda3\\lib\\site-packages\\sklearn\\linear_model\\_coordinate_descent.py:530: ConvergenceWarning: Objective did not converge. You might want to increase the number of iterations. Duality gap: 37333625478.04027, tolerance: 5952427548.547808\n",
      "  model = cd_fast.enet_coordinate_descent(\n",
      "C:\\Users\\yumst\\anaconda3\\lib\\site-packages\\sklearn\\linear_model\\_coordinate_descent.py:530: ConvergenceWarning: Objective did not converge. You might want to increase the number of iterations. Duality gap: 14954546218.07405, tolerance: 6855594491.998208\n",
      "  model = cd_fast.enet_coordinate_descent(\n",
      "C:\\Users\\yumst\\anaconda3\\lib\\site-packages\\sklearn\\linear_model\\_coordinate_descent.py:530: ConvergenceWarning: Objective did not converge. You might want to increase the number of iterations. Duality gap: 18334561847.270645, tolerance: 6585290440.470783\n",
      "  model = cd_fast.enet_coordinate_descent(\n",
      "C:\\Users\\yumst\\anaconda3\\lib\\site-packages\\sklearn\\linear_model\\_coordinate_descent.py:530: ConvergenceWarning: Objective did not converge. You might want to increase the number of iterations. Duality gap: 37333623538.72153, tolerance: 5952427548.547808\n",
      "  model = cd_fast.enet_coordinate_descent(\n",
      "C:\\Users\\yumst\\anaconda3\\lib\\site-packages\\sklearn\\linear_model\\_coordinate_descent.py:530: ConvergenceWarning: Objective did not converge. You might want to increase the number of iterations. Duality gap: 42519219094.487404, tolerance: 6855594491.998208\n",
      "  model = cd_fast.enet_coordinate_descent(\n",
      "C:\\Users\\yumst\\anaconda3\\lib\\site-packages\\sklearn\\linear_model\\_coordinate_descent.py:530: ConvergenceWarning: Objective did not converge. You might want to increase the number of iterations. Duality gap: 13488549756.69751, tolerance: 6585290440.470783\n",
      "  model = cd_fast.enet_coordinate_descent(\n",
      "C:\\Users\\yumst\\anaconda3\\lib\\site-packages\\sklearn\\linear_model\\_coordinate_descent.py:530: ConvergenceWarning: Objective did not converge. You might want to increase the number of iterations. Duality gap: 36976348417.116684, tolerance: 5952427548.547808\n",
      "  model = cd_fast.enet_coordinate_descent(\n",
      "C:\\Users\\yumst\\anaconda3\\lib\\site-packages\\sklearn\\linear_model\\_coordinate_descent.py:530: ConvergenceWarning: Objective did not converge. You might want to increase the number of iterations. Duality gap: 7493917154.689377, tolerance: 6855594491.998208\n",
      "  model = cd_fast.enet_coordinate_descent(\n",
      "C:\\Users\\yumst\\anaconda3\\lib\\site-packages\\sklearn\\linear_model\\_coordinate_descent.py:530: ConvergenceWarning: Objective did not converge. You might want to increase the number of iterations. Duality gap: 10056840111.152985, tolerance: 6585290440.470783\n",
      "  model = cd_fast.enet_coordinate_descent(\n",
      "C:\\Users\\yumst\\anaconda3\\lib\\site-packages\\sklearn\\linear_model\\_coordinate_descent.py:530: ConvergenceWarning: Objective did not converge. You might want to increase the number of iterations. Duality gap: 9958126083.71553, tolerance: 5952427548.547808\n",
      "  model = cd_fast.enet_coordinate_descent(\n",
      "C:\\Users\\yumst\\anaconda3\\lib\\site-packages\\sklearn\\linear_model\\_coordinate_descent.py:530: ConvergenceWarning: Objective did not converge. You might want to increase the number of iterations. Duality gap: 9428306349.221054, tolerance: 5952427548.547808\n",
      "  model = cd_fast.enet_coordinate_descent(\n",
      "C:\\Users\\yumst\\anaconda3\\lib\\site-packages\\sklearn\\linear_model\\_coordinate_descent.py:530: ConvergenceWarning: Objective did not converge. You might want to increase the number of iterations. Duality gap: 78634708846.12143, tolerance: 9699670078.42391\n",
      "  model = cd_fast.enet_coordinate_descent(\n"
     ]
    },
    {
     "data": {
      "text/plain": [
       "GridSearchCV(cv=3,\n",
       "             estimator=Pipeline(steps=[('ss', StandardScaler()),\n",
       "                                       ('Lasso', Lasso())]),\n",
       "             param_grid={'Lasso__alpha': [0.001, 0.01, 0.1],\n",
       "                         'Lasso__max_iter': [20000, 50000],\n",
       "                         'Lasso__random_state': [42], 'Lasso__tol': [0.001]})"
      ]
     },
     "execution_count": 32,
     "metadata": {},
     "output_type": "execute_result"
    }
   ],
   "source": [
    "#Instantiate Pipelines\n",
    "pipe_lasso_gs = Pipeline([\n",
    "    ('ss',StandardScaler()),\n",
    "    ('Lasso',Lasso())\n",
    "])\n",
    "\n",
    "pipe_lasso_params = {\n",
    "    'Lasso__random_state': [42],\n",
    "    'Lasso__alpha': [.001, .01, .1],\n",
    "    'Lasso__max_iter': [20000, 50000],\n",
    "    'Lasso__tol': [.001],\n",
    "}\n",
    "\n",
    "#Instantiate the GridSearch Cross Validation:\n",
    "gs_lasso = GridSearchCV(pipe_lasso_gs, pipe_lasso_params, cv=3)\n",
    "\n",
    "#Run the gridsearch:\n",
    "gs_lasso.fit(X_train,y_train)"
   ]
  },
  {
   "cell_type": "markdown",
   "id": "0f9a4a07-d5e9-40ca-b98e-e14c90f61ff0",
   "metadata": {},
   "source": [
    "The Gridsearch results in a lot of ConvergenceWarnings. Should this be a concern? Is this an inappropriate application of the GridsearchCV?\n",
    "\n",
    "I commented out the actual fit on the gridsearch because it is pretty machine intensive and takes several minutes to run. In the cell below, I will include the best alpha and best max_iter I got during this process."
   ]
  },
  {
   "cell_type": "code",
   "execution_count": 31,
   "id": "1b992659-1c57-4139-aa22-109b979f56b0",
   "metadata": {
    "execution": {
     "iopub.execute_input": "2021-12-06T04:39:30.189117Z",
     "iopub.status.busy": "2021-12-06T04:39:30.187118Z",
     "iopub.status.idle": "2021-12-06T04:39:30.233938Z",
     "shell.execute_reply": "2021-12-06T04:39:30.232938Z",
     "shell.execute_reply.started": "2021-12-06T04:39:30.188117Z"
    }
   },
   "outputs": [
    {
     "data": {
      "text/plain": [
       "{'Lasso__alpha': 599.4842503189421,\n",
       " 'Lasso__max_iter': 20000,\n",
       " 'Lasso__random_state': 42,\n",
       " 'Lasso__tol': 0.001}"
      ]
     },
     "execution_count": 31,
     "metadata": {},
     "output_type": "execute_result"
    }
   ],
   "source": [
    "gs_lasso.best_params_"
   ]
  },
  {
   "cell_type": "code",
   "execution_count": 27,
   "id": "a342f311-ac4f-4d6b-9e72-4d805ba3d388",
   "metadata": {
    "execution": {
     "iopub.execute_input": "2021-12-06T01:23:58.152649Z",
     "iopub.status.busy": "2021-12-06T01:23:58.152649Z",
     "iopub.status.idle": "2021-12-06T01:23:58.172658Z",
     "shell.execute_reply": "2021-12-06T01:23:58.171653Z",
     "shell.execute_reply.started": "2021-12-06T01:23:58.152649Z"
    },
    "tags": []
   },
   "outputs": [
    {
     "name": "stdout",
     "output_type": "stream",
     "text": [
      "599.4842503189421 5000\n"
     ]
    }
   ],
   "source": [
    "#If we ignore the convergence warnings, we can extract the best alpha value used as our optimized hyperparameter\n",
    "gbest_alpha = gs_lasso.best_params_['Lasso__alpha']\n",
    "gbest_miter = gs_lasso.best_params_['Lasso__max_iter']\n",
    "\n",
    "#gbest_alpha = 599.4842503189421\n",
    "#gbest_miter = 5000\n",
    "print(gbest_alpha,gbest_miter)"
   ]
  },
  {
   "cell_type": "code",
   "execution_count": 25,
   "id": "31ca6d12-f0ac-4b04-959c-3f0937b08ebb",
   "metadata": {
    "execution": {
     "iopub.execute_input": "2021-10-23T16:09:28.998774Z",
     "iopub.status.busy": "2021-10-23T16:09:28.998774Z",
     "iopub.status.idle": "2021-10-23T16:09:29.021556Z",
     "shell.execute_reply": "2021-10-23T16:09:29.021021Z",
     "shell.execute_reply.started": "2021-10-23T16:09:28.998774Z"
    },
    "tags": []
   },
   "outputs": [],
   "source": [
    "#Here was the best scoore the gridsearch got:\n",
    "#gs_lasso.best_score_\n",
    "\n",
    "#my output:\n",
    "#0.9053456636743066"
   ]
  },
  {
   "cell_type": "code",
   "execution_count": 26,
   "id": "4320f91d-db16-42de-8ee3-60bf35270d56",
   "metadata": {
    "execution": {
     "iopub.execute_input": "2021-10-23T16:09:29.021556Z",
     "iopub.status.busy": "2021-10-23T16:09:29.021556Z",
     "iopub.status.idle": "2021-10-23T16:09:29.037192Z",
     "shell.execute_reply": "2021-10-23T16:09:29.037192Z",
     "shell.execute_reply.started": "2021-10-23T16:09:29.021556Z"
    },
    "tags": []
   },
   "outputs": [],
   "source": [
    "#And here's how the alpha-optimzed lasso's R2 in predicting training vs testing split comes out: \n",
    "#gs_lasso.score(X_test,y_test)\n",
    "#my output:\n",
    "#0.9163464598246794"
   ]
  },
  {
   "cell_type": "markdown",
   "id": "51c8b118-49fa-44bf-acf8-4be7c5cd914b",
   "metadata": {},
   "source": [
    "So we have the hyperparameters we should use to tune our Lasso regression. Let's set it up so that we can finally extract the variables we actually want to keep."
   ]
  },
  {
   "cell_type": "code",
   "execution_count": 27,
   "id": "772116a6-a114-4735-8002-ffb01d86da2e",
   "metadata": {
    "execution": {
     "iopub.execute_input": "2021-10-23T16:09:29.037192Z",
     "iopub.status.busy": "2021-10-23T16:09:29.037192Z",
     "iopub.status.idle": "2021-10-23T16:09:29.052818Z",
     "shell.execute_reply": "2021-10-23T16:09:29.052818Z",
     "shell.execute_reply.started": "2021-10-23T16:09:29.037192Z"
    },
    "tags": []
   },
   "outputs": [],
   "source": [
    "#Instantiate new scaler and lasso:\n",
    "ss = StandardScaler()\n",
    "Lasso_reg = Lasso(alpha=gbest_alpha,max_iter=gbest_miter)"
   ]
  },
  {
   "cell_type": "code",
   "execution_count": 28,
   "id": "7ce324ac-d153-4019-8dce-8d75f45126b5",
   "metadata": {
    "execution": {
     "iopub.execute_input": "2021-10-23T16:09:29.052818Z",
     "iopub.status.busy": "2021-10-23T16:09:29.052818Z",
     "iopub.status.idle": "2021-10-23T16:09:29.199215Z",
     "shell.execute_reply": "2021-10-23T16:09:29.199215Z",
     "shell.execute_reply.started": "2021-10-23T16:09:29.052818Z"
    },
    "tags": []
   },
   "outputs": [],
   "source": [
    "#Transform predictors:\n",
    "Z_train = ss.fit_transform(X_train)\n",
    "Z_test = ss.transform(X_test)"
   ]
  },
  {
   "cell_type": "code",
   "execution_count": 29,
   "id": "421575a9-e94b-48eb-ad30-29bc4423f100",
   "metadata": {
    "execution": {
     "iopub.execute_input": "2021-10-23T16:09:29.199215Z",
     "iopub.status.busy": "2021-10-23T16:09:29.199215Z",
     "iopub.status.idle": "2021-10-23T16:09:29.299047Z",
     "shell.execute_reply": "2021-10-23T16:09:29.299047Z",
     "shell.execute_reply.started": "2021-10-23T16:09:29.199215Z"
    }
   },
   "outputs": [
    {
     "data": {
      "text/plain": [
       "Lasso(alpha=599.4842503189421, max_iter=5000)"
      ]
     },
     "execution_count": 29,
     "metadata": {},
     "output_type": "execute_result"
    }
   ],
   "source": [
    "#Fit the model:\n",
    "Lasso_reg.fit(Z_train,y_train)"
   ]
  },
  {
   "cell_type": "code",
   "execution_count": 30,
   "id": "77f8969e-4d43-4235-aa77-4c4cc211ce7c",
   "metadata": {
    "execution": {
     "iopub.execute_input": "2021-10-23T16:09:29.299047Z",
     "iopub.status.busy": "2021-10-23T16:09:29.299047Z",
     "iopub.status.idle": "2021-10-23T16:09:29.321203Z",
     "shell.execute_reply": "2021-10-23T16:09:29.321203Z",
     "shell.execute_reply.started": "2021-10-23T16:09:29.299047Z"
    }
   },
   "outputs": [
    {
     "data": {
      "text/plain": [
       "(0.939640883186035, 0.9163464598246794)"
      ]
     },
     "execution_count": 30,
     "metadata": {},
     "output_type": "execute_result"
    }
   ],
   "source": [
    "#Evaluate:\n",
    "Lasso_reg.score(Z_train,y_train),Lasso_reg.score(Z_test,y_test)"
   ]
  },
  {
   "cell_type": "code",
   "execution_count": 31,
   "id": "c1cbb4ae-4c68-42f8-8a8c-89e909b087f4",
   "metadata": {
    "execution": {
     "iopub.execute_input": "2021-10-23T16:09:29.321203Z",
     "iopub.status.busy": "2021-10-23T16:09:29.321203Z",
     "iopub.status.idle": "2021-10-23T16:09:29.336826Z",
     "shell.execute_reply": "2021-10-23T16:09:29.336826Z",
     "shell.execute_reply.started": "2021-10-23T16:09:29.321203Z"
    },
    "tags": []
   },
   "outputs": [],
   "source": [
    "#Use these variables for feature selection:\n",
    "best_lasso_coefficients = list(zip(X.columns,Lasso_reg.coef_))"
   ]
  },
  {
   "cell_type": "code",
   "execution_count": 32,
   "id": "b339aba4-acfd-48da-851f-7c602776504d",
   "metadata": {
    "execution": {
     "iopub.execute_input": "2021-10-23T16:09:29.336826Z",
     "iopub.status.busy": "2021-10-23T16:09:29.336826Z",
     "iopub.status.idle": "2021-10-23T16:09:29.352450Z",
     "shell.execute_reply": "2021-10-23T16:09:29.352450Z",
     "shell.execute_reply.started": "2021-10-23T16:09:29.336826Z"
    },
    "tags": []
   },
   "outputs": [],
   "source": [
    "#Store the variables which have coefficients of 0 as a result of the fit model above:\n",
    "vars_to_drop = [x[0] for x in best_lasso_coefficients if x[1] == 0]"
   ]
  },
  {
   "cell_type": "code",
   "execution_count": 33,
   "id": "a1b616f2-7016-43d4-98f5-6d6d0376e850",
   "metadata": {
    "execution": {
     "iopub.execute_input": "2021-10-23T16:09:29.352450Z",
     "iopub.status.busy": "2021-10-23T16:09:29.352450Z",
     "iopub.status.idle": "2021-10-23T16:09:29.368078Z",
     "shell.execute_reply": "2021-10-23T16:09:29.368078Z",
     "shell.execute_reply.started": "2021-10-23T16:09:29.352450Z"
    },
    "tags": []
   },
   "outputs": [],
   "source": [
    "#Determine which of our training dummified data are left after removing:\n",
    "selected_features = [x for x in list(train_clean.columns) if x not in vars_to_drop]"
   ]
  },
  {
   "cell_type": "markdown",
   "id": "cde55d54-ed62-4505-b30b-234ed650b8f9",
   "metadata": {},
   "source": [
    "So we have the variables we want to end up with, but we need to take a few steps before we can run regression using them on the test dataset. We will need to proceed as follows:\n",
    "\n",
    "* Dummify the test data\n",
    "* Add anything from the selected features which is not in the test data. They should all be set to 0 if the dummified column was not already in the test dummy columns.\n",
    "* Remove everything (except `id`) from the train and test features which are not among the selected features"
   ]
  },
  {
   "cell_type": "code",
   "execution_count": 34,
   "id": "d418a0f8-178d-4669-93f7-43edca51cad4",
   "metadata": {
    "execution": {
     "iopub.execute_input": "2021-10-23T16:09:29.368078Z",
     "iopub.status.busy": "2021-10-23T16:09:29.368078Z",
     "iopub.status.idle": "2021-10-23T16:09:29.452729Z",
     "shell.execute_reply": "2021-10-23T16:09:29.452729Z",
     "shell.execute_reply.started": "2021-10-23T16:09:29.368078Z"
    },
    "tags": []
   },
   "outputs": [],
   "source": [
    "#Dummify the test data:\n",
    "test = pd.get_dummies(test,columns=categorical_columns)\n",
    "\n",
    "#Identify what is not in test that is in the selected features:\n",
    "test_dummy_cols = list(test.columns)\n",
    "in_selected_not_in_test = [x for x in selected_features if x not in test.columns] \n",
    "in_selected_not_in_test.remove('saleprice') #make sure saleprice doesn't make it either\n",
    "\n",
    "for column in in_selected_not_in_test:\n",
    "    test[column] = 0\n",
    "    \n",
    "#Identify what is still remaining in test which is not in the selected features:\n",
    "in_test_not_in_selected = [x for x in test.columns if x not in selected_features]\n",
    "\n",
    "#we'll be using the list as an argument for columns to drop. make sure we don't lose id:\n",
    "in_test_not_in_selected.remove('id')\n",
    "\n",
    "#remove the columns:\n",
    "test.drop(columns=in_test_not_in_selected,inplace=True)\n",
    "\n",
    "#Do the same for the training set:\n",
    "in_train_not_in_selected = [x for x in train_clean.columns if x not in selected_features]\n",
    "\n",
    "#we'll be using the list as an argument for columns to drop. make sure we don't lose id:\n",
    "in_train_not_in_selected.remove('id')\n",
    "\n",
    "#remove the columns:\n",
    "train_clean.drop(columns=in_train_not_in_selected,inplace=True)"
   ]
  },
  {
   "cell_type": "markdown",
   "id": "79094a72-e92c-4274-a75c-3f828c3ba788",
   "metadata": {},
   "source": [
    "Now we have selected features. Last thing we need to ensure is that our column orders are also correct:"
   ]
  },
  {
   "cell_type": "code",
   "execution_count": 35,
   "id": "c713657b-6730-47b9-b2d0-bff92bf2332e",
   "metadata": {
    "execution": {
     "iopub.execute_input": "2021-10-23T16:09:29.452729Z",
     "iopub.status.busy": "2021-10-23T16:09:29.452729Z",
     "iopub.status.idle": "2021-10-23T16:09:29.468355Z",
     "shell.execute_reply": "2021-10-23T16:09:29.468355Z",
     "shell.execute_reply.started": "2021-10-23T16:09:29.452729Z"
    },
    "tags": []
   },
   "outputs": [
    {
     "data": {
      "text/plain": [
       "((2045, 174), (878, 173))"
      ]
     },
     "execution_count": 35,
     "metadata": {},
     "output_type": "execute_result"
    }
   ],
   "source": [
    "#check that our columns match now (minus just saleprice, present in train and not in test):\n",
    "train_clean.shape, test.shape"
   ]
  },
  {
   "cell_type": "code",
   "execution_count": 36,
   "id": "a1a71d93-6dbe-4e15-821d-b68bc179c2cb",
   "metadata": {
    "execution": {
     "iopub.execute_input": "2021-10-23T16:09:29.468355Z",
     "iopub.status.busy": "2021-10-23T16:09:29.468355Z",
     "iopub.status.idle": "2021-10-23T16:09:29.483986Z",
     "shell.execute_reply": "2021-10-23T16:09:29.483986Z",
     "shell.execute_reply.started": "2021-10-23T16:09:29.468355Z"
    }
   },
   "outputs": [
    {
     "data": {
      "text/plain": [
       "False"
      ]
     },
     "execution_count": 36,
     "metadata": {},
     "output_type": "execute_result"
    }
   ],
   "source": [
    "list(train_clean.columns[:-1]) == list(test.columns)"
   ]
  },
  {
   "cell_type": "code",
   "execution_count": 37,
   "id": "6943bcc9-b93b-4e3c-b630-b00639ea98e3",
   "metadata": {
    "execution": {
     "iopub.execute_input": "2021-10-23T16:09:29.483986Z",
     "iopub.status.busy": "2021-10-23T16:09:29.483986Z",
     "iopub.status.idle": "2021-10-23T16:09:29.499602Z",
     "shell.execute_reply": "2021-10-23T16:09:29.499602Z",
     "shell.execute_reply.started": "2021-10-23T16:09:29.483986Z"
    },
    "tags": []
   },
   "outputs": [],
   "source": [
    "final_column_order = list(train_clean.columns)"
   ]
  },
  {
   "cell_type": "code",
   "execution_count": 38,
   "id": "4cc55245-eb39-410a-be86-e6f9b0c054f6",
   "metadata": {
    "execution": {
     "iopub.execute_input": "2021-10-23T16:09:29.499602Z",
     "iopub.status.busy": "2021-10-23T16:09:29.499602Z",
     "iopub.status.idle": "2021-10-23T16:09:29.521790Z",
     "shell.execute_reply": "2021-10-23T16:09:29.521790Z",
     "shell.execute_reply.started": "2021-10-23T16:09:29.499602Z"
    },
    "tags": []
   },
   "outputs": [],
   "source": [
    "final_column_order.remove('saleprice')"
   ]
  },
  {
   "cell_type": "code",
   "execution_count": 39,
   "id": "aae5963e-b3ea-48ff-8cd3-82f0cea5962e",
   "metadata": {
    "execution": {
     "iopub.execute_input": "2021-10-23T16:09:29.521790Z",
     "iopub.status.busy": "2021-10-23T16:09:29.521790Z",
     "iopub.status.idle": "2021-10-23T16:09:29.537378Z",
     "shell.execute_reply": "2021-10-23T16:09:29.537378Z",
     "shell.execute_reply.started": "2021-10-23T16:09:29.521790Z"
    },
    "tags": []
   },
   "outputs": [],
   "source": [
    "test = test[[x for x in final_column_order]]"
   ]
  },
  {
   "cell_type": "code",
   "execution_count": 40,
   "id": "da18fa41-6331-49a7-b0a0-b7ca2fca3ade",
   "metadata": {
    "execution": {
     "iopub.execute_input": "2021-10-23T16:09:29.537378Z",
     "iopub.status.busy": "2021-10-23T16:09:29.537378Z",
     "iopub.status.idle": "2021-10-23T16:09:29.553002Z",
     "shell.execute_reply": "2021-10-23T16:09:29.553002Z",
     "shell.execute_reply.started": "2021-10-23T16:09:29.537378Z"
    },
    "tags": []
   },
   "outputs": [
    {
     "data": {
      "text/plain": [
       "True"
      ]
     },
     "execution_count": 40,
     "metadata": {},
     "output_type": "execute_result"
    }
   ],
   "source": [
    "final_column_order == list(test.columns)"
   ]
  },
  {
   "cell_type": "markdown",
   "id": "3ef3943d-14d1-4d38-9f4b-93529f0e3bc6",
   "metadata": {},
   "source": [
    "Now that our columns are congruent both in the training and testing datasets, we can finally set fit three a standard multiple linear regression model on our training data to try to predict price in the testing data.\n",
    "\n",
    "After that, we'll export the .csv"
   ]
  },
  {
   "cell_type": "code",
   "execution_count": 41,
   "id": "380e6d1d-efae-4dfb-bc87-723335459efa",
   "metadata": {
    "execution": {
     "iopub.execute_input": "2021-10-23T16:09:29.553002Z",
     "iopub.status.busy": "2021-10-23T16:09:29.553002Z",
     "iopub.status.idle": "2021-10-23T16:09:29.568658Z",
     "shell.execute_reply": "2021-10-23T16:09:29.568658Z",
     "shell.execute_reply.started": "2021-10-23T16:09:29.553002Z"
    }
   },
   "outputs": [],
   "source": [
    "#Define our training and testing sets:\n",
    "X_train = train_clean.drop(columns=['saleprice'])\n",
    "y_train = train_clean['saleprice']\n",
    "\n",
    "X_test = test"
   ]
  },
  {
   "cell_type": "code",
   "execution_count": 42,
   "id": "b491ac6f-e599-4c72-9cb5-4220f63f0d57",
   "metadata": {
    "execution": {
     "iopub.execute_input": "2021-10-23T16:09:29.568658Z",
     "iopub.status.busy": "2021-10-23T16:09:29.568658Z",
     "iopub.status.idle": "2021-10-23T16:09:29.653281Z",
     "shell.execute_reply": "2021-10-23T16:09:29.653281Z",
     "shell.execute_reply.started": "2021-10-23T16:09:29.568658Z"
    }
   },
   "outputs": [],
   "source": [
    "#Instantiate a linear regression model:\n",
    "lr = LinearRegression()\n",
    "\n",
    "#Fit the model:\n",
    "lr.fit(X_train,y_train)\n",
    "\n",
    "#Predict:\n",
    "y_pred = lr.predict(X_test)"
   ]
  },
  {
   "cell_type": "code",
   "execution_count": 43,
   "id": "176f7038-5fc9-44ee-ac90-62a1634ffc27",
   "metadata": {
    "execution": {
     "iopub.execute_input": "2021-10-23T16:09:29.653281Z",
     "iopub.status.busy": "2021-10-23T16:09:29.653281Z",
     "iopub.status.idle": "2021-10-23T16:09:29.700152Z",
     "shell.execute_reply": "2021-10-23T16:09:29.700152Z",
     "shell.execute_reply.started": "2021-10-23T16:09:29.653281Z"
    }
   },
   "outputs": [
    {
     "data": {
      "text/plain": [
       "19021.892858470175"
      ]
     },
     "execution_count": 43,
     "metadata": {},
     "output_type": "execute_result"
    }
   ],
   "source": [
    "metrics.mean_squared_error(y_train,lr.predict(X_train),squared=False)"
   ]
  },
  {
   "cell_type": "code",
   "execution_count": 44,
   "id": "7f9f39ef-b2a4-4889-9528-ebb939222cae",
   "metadata": {
    "execution": {
     "iopub.execute_input": "2021-10-23T16:09:29.700152Z",
     "iopub.status.busy": "2021-10-23T16:09:29.700152Z",
     "iopub.status.idle": "2021-10-23T16:09:29.722310Z",
     "shell.execute_reply": "2021-10-23T16:09:29.722310Z",
     "shell.execute_reply.started": "2021-10-23T16:09:29.700152Z"
    }
   },
   "outputs": [],
   "source": [
    "#add the predicted price to our test dataframe:\n",
    "test['saleprice'] = y_pred"
   ]
  },
  {
   "cell_type": "code",
   "execution_count": 45,
   "id": "cd0a3dc5-31f5-4120-8920-6362c9a403db",
   "metadata": {
    "execution": {
     "iopub.execute_input": "2021-10-23T16:09:29.722310Z",
     "iopub.status.busy": "2021-10-23T16:09:29.722310Z",
     "iopub.status.idle": "2021-10-23T16:09:29.737935Z",
     "shell.execute_reply": "2021-10-23T16:09:29.737935Z",
     "shell.execute_reply.started": "2021-10-23T16:09:29.722310Z"
    }
   },
   "outputs": [
    {
     "data": {
      "text/plain": [
       "Index(['id', 'lot_frontage', 'lot_area', 'mas_vnr_area', 'total_bsmt_sf',\n",
       "       'low_qual_fin_sf', 'gr_liv_area', 'bsmt_full_bath', 'full_bath',\n",
       "       'half_bath',\n",
       "       ...\n",
       "       'misc_feature_TenC', 'mo_sold_2', 'mo_sold_3', 'mo_sold_5', 'mo_sold_7',\n",
       "       'yr_sold_2009', 'sale_type_Con', 'sale_type_New', 'sale_type_Oth',\n",
       "       'saleprice'],\n",
       "      dtype='object', length=174)"
      ]
     },
     "execution_count": 45,
     "metadata": {},
     "output_type": "execute_result"
    }
   ],
   "source": [
    "test.columns"
   ]
  },
  {
   "cell_type": "code",
   "execution_count": 46,
   "id": "57f70ac5-30f9-46a7-b287-cf8c63fe2be9",
   "metadata": {
    "execution": {
     "iopub.execute_input": "2021-10-23T16:09:29.737935Z",
     "iopub.status.busy": "2021-10-23T16:09:29.737935Z",
     "iopub.status.idle": "2021-10-23T16:09:29.753563Z",
     "shell.execute_reply": "2021-10-23T16:09:29.753563Z",
     "shell.execute_reply.started": "2021-10-23T16:09:29.737935Z"
    }
   },
   "outputs": [],
   "source": [
    "kaggle_output = test[['id','saleprice']]"
   ]
  },
  {
   "cell_type": "code",
   "execution_count": 47,
   "id": "c0b82686-95e0-4edc-86a4-532d4c07da7b",
   "metadata": {
    "execution": {
     "iopub.execute_input": "2021-10-23T16:09:29.753563Z",
     "iopub.status.busy": "2021-10-23T16:09:29.753563Z",
     "iopub.status.idle": "2021-10-23T16:09:29.769186Z",
     "shell.execute_reply": "2021-10-23T16:09:29.769186Z",
     "shell.execute_reply.started": "2021-10-23T16:09:29.753563Z"
    },
    "tags": []
   },
   "outputs": [],
   "source": [
    "kaggle_output.columns = ['Id','SalePrice']"
   ]
  },
  {
   "cell_type": "code",
   "execution_count": 48,
   "id": "73e808f0-4460-4a15-981d-2e84fa62adaf",
   "metadata": {
    "execution": {
     "iopub.execute_input": "2021-10-23T16:09:29.769186Z",
     "iopub.status.busy": "2021-10-23T16:09:29.769186Z",
     "iopub.status.idle": "2021-10-23T16:09:29.784812Z",
     "shell.execute_reply": "2021-10-23T16:09:29.784812Z",
     "shell.execute_reply.started": "2021-10-23T16:09:29.769186Z"
    }
   },
   "outputs": [
    {
     "data": {
      "text/html": [
       "<div>\n",
       "<style scoped>\n",
       "    .dataframe tbody tr th:only-of-type {\n",
       "        vertical-align: middle;\n",
       "    }\n",
       "\n",
       "    .dataframe tbody tr th {\n",
       "        vertical-align: top;\n",
       "    }\n",
       "\n",
       "    .dataframe thead th {\n",
       "        text-align: right;\n",
       "    }\n",
       "</style>\n",
       "<table border=\"1\" class=\"dataframe\">\n",
       "  <thead>\n",
       "    <tr style=\"text-align: right;\">\n",
       "      <th></th>\n",
       "      <th>Id</th>\n",
       "      <th>SalePrice</th>\n",
       "    </tr>\n",
       "  </thead>\n",
       "  <tbody>\n",
       "    <tr>\n",
       "      <th>0</th>\n",
       "      <td>2658</td>\n",
       "      <td>128457.996398</td>\n",
       "    </tr>\n",
       "    <tr>\n",
       "      <th>1</th>\n",
       "      <td>2718</td>\n",
       "      <td>149023.181081</td>\n",
       "    </tr>\n",
       "    <tr>\n",
       "      <th>2</th>\n",
       "      <td>2414</td>\n",
       "      <td>212358.362929</td>\n",
       "    </tr>\n",
       "    <tr>\n",
       "      <th>3</th>\n",
       "      <td>1989</td>\n",
       "      <td>108947.249635</td>\n",
       "    </tr>\n",
       "    <tr>\n",
       "      <th>4</th>\n",
       "      <td>625</td>\n",
       "      <td>185710.625196</td>\n",
       "    </tr>\n",
       "    <tr>\n",
       "      <th>...</th>\n",
       "      <td>...</td>\n",
       "      <td>...</td>\n",
       "    </tr>\n",
       "    <tr>\n",
       "      <th>873</th>\n",
       "      <td>1662</td>\n",
       "      <td>188595.991679</td>\n",
       "    </tr>\n",
       "    <tr>\n",
       "      <th>874</th>\n",
       "      <td>1234</td>\n",
       "      <td>211971.405362</td>\n",
       "    </tr>\n",
       "    <tr>\n",
       "      <th>875</th>\n",
       "      <td>1373</td>\n",
       "      <td>126885.776624</td>\n",
       "    </tr>\n",
       "    <tr>\n",
       "      <th>876</th>\n",
       "      <td>1672</td>\n",
       "      <td>117133.407394</td>\n",
       "    </tr>\n",
       "    <tr>\n",
       "      <th>877</th>\n",
       "      <td>1939</td>\n",
       "      <td>125762.283900</td>\n",
       "    </tr>\n",
       "  </tbody>\n",
       "</table>\n",
       "<p>878 rows × 2 columns</p>\n",
       "</div>"
      ],
      "text/plain": [
       "       Id      SalePrice\n",
       "0    2658  128457.996398\n",
       "1    2718  149023.181081\n",
       "2    2414  212358.362929\n",
       "3    1989  108947.249635\n",
       "4     625  185710.625196\n",
       "..    ...            ...\n",
       "873  1662  188595.991679\n",
       "874  1234  211971.405362\n",
       "875  1373  126885.776624\n",
       "876  1672  117133.407394\n",
       "877  1939  125762.283900\n",
       "\n",
       "[878 rows x 2 columns]"
      ]
     },
     "execution_count": 48,
     "metadata": {},
     "output_type": "execute_result"
    }
   ],
   "source": [
    "kaggle_output"
   ]
  },
  {
   "cell_type": "code",
   "execution_count": 49,
   "id": "0a4377e0-670b-42af-8508-b092bc5a41f9",
   "metadata": {
    "execution": {
     "iopub.execute_input": "2021-10-23T16:09:29.784812Z",
     "iopub.status.busy": "2021-10-23T16:09:29.784812Z",
     "iopub.status.idle": "2021-10-23T16:09:29.800440Z",
     "shell.execute_reply": "2021-10-23T16:09:29.800440Z",
     "shell.execute_reply.started": "2021-10-23T16:09:29.784812Z"
    },
    "tags": []
   },
   "outputs": [],
   "source": [
    "#export the csv!\n",
    "kaggle_output.to_csv('../datasets/kaggle_submissions/attempt1_mls.csv',index = False)"
   ]
  },
  {
   "cell_type": "markdown",
   "id": "3ce8af65-e898-41dd-8e88-e667d9d1cca1",
   "metadata": {},
   "source": [
    "---\n",
    "\n",
    "# Successive Attempts\n",
    "\n",
    "Everything done before this point culminated in the first submission. Now, I'll try to tune the model and perhaps even try other regression model variants."
   ]
  },
  {
   "cell_type": "code",
   "execution_count": 50,
   "id": "74e9755c-2673-49c5-a9d8-fd62ccc77fdf",
   "metadata": {
    "execution": {
     "iopub.execute_input": "2021-10-23T16:09:29.800440Z",
     "iopub.status.busy": "2021-10-23T16:09:29.800440Z",
     "iopub.status.idle": "2021-10-23T16:09:29.822599Z",
     "shell.execute_reply": "2021-10-23T16:09:29.822599Z",
     "shell.execute_reply.started": "2021-10-23T16:09:29.800440Z"
    }
   },
   "outputs": [],
   "source": [
    "#reassert the train and test data:\n",
    "\n",
    "#Define our training and testing sets:\n",
    "X_train = train_clean.drop(columns=['saleprice'])\n",
    "y_train = train_clean['saleprice']\n",
    "\n",
    "X_test = test # will be using the predictor values in this dataframe to predict saleprice"
   ]
  },
  {
   "cell_type": "markdown",
   "id": "6bf73bfb-a523-4ec2-93d3-d7163ec07fea",
   "metadata": {
    "execution": {
     "iopub.execute_input": "2021-10-23T14:54:09.562447Z",
     "iopub.status.busy": "2021-10-23T14:54:09.562447Z",
     "iopub.status.idle": "2021-10-23T14:54:09.582430Z",
     "shell.execute_reply": "2021-10-23T14:54:09.580427Z",
     "shell.execute_reply.started": "2021-10-23T14:54:09.562447Z"
    }
   },
   "source": [
    "### Set up benchmarking envionment\n",
    "\n",
    "Benchmarking can only be done on the training data.\n",
    "\n",
    "Set up a train-test split on the training data:"
   ]
  },
  {
   "cell_type": "code",
   "execution_count": 51,
   "id": "87350e47-dc4a-4da7-8930-f0118f550e1b",
   "metadata": {
    "execution": {
     "iopub.execute_input": "2021-10-23T16:09:52.677463Z",
     "iopub.status.busy": "2021-10-23T16:09:52.677463Z",
     "iopub.status.idle": "2021-10-23T16:09:52.693130Z",
     "shell.execute_reply": "2021-10-23T16:09:52.693130Z",
     "shell.execute_reply.started": "2021-10-23T16:09:52.677463Z"
    },
    "tags": []
   },
   "outputs": [],
   "source": [
    "X_benchmark, X_benchmark_test, y_benchmark, y_benchmark_test = train_test_split(X_train,y_train,random_state=24)"
   ]
  },
  {
   "cell_type": "code",
   "execution_count": 52,
   "id": "56de0054-e8a0-4576-99b6-a17655675e86",
   "metadata": {
    "execution": {
     "iopub.execute_input": "2021-10-23T16:10:30.478786Z",
     "iopub.status.busy": "2021-10-23T16:10:30.478786Z",
     "iopub.status.idle": "2021-10-23T16:10:30.494412Z",
     "shell.execute_reply": "2021-10-23T16:10:30.494412Z",
     "shell.execute_reply.started": "2021-10-23T16:10:30.478786Z"
    }
   },
   "outputs": [],
   "source": [
    "scores = {}"
   ]
  },
  {
   "cell_type": "code",
   "execution_count": 53,
   "id": "db5d422d-9ed5-42dc-8b36-7f316e507632",
   "metadata": {
    "execution": {
     "iopub.execute_input": "2021-10-23T16:15:25.131977Z",
     "iopub.status.busy": "2021-10-23T16:15:25.131977Z",
     "iopub.status.idle": "2021-10-23T16:15:25.147241Z",
     "shell.execute_reply": "2021-10-23T16:15:25.147241Z",
     "shell.execute_reply.started": "2021-10-23T16:15:25.131977Z"
    }
   },
   "outputs": [],
   "source": [
    "# define a function to add benchmark results to the scores dictionary:\n",
    "\n",
    "def add_benchmark(model, y_true, y_pred):\n",
    "    scores[model] = {'r2': metrics.r2_score(y_true,y_pred),'rmse': metrics.mean_squared_error(y_true,y_pred,squared=False)}"
   ]
  },
  {
   "cell_type": "code",
   "execution_count": 69,
   "id": "15787a7d-e565-4206-b895-51d7f2236c10",
   "metadata": {
    "execution": {
     "iopub.execute_input": "2021-10-23T16:28:40.937519Z",
     "iopub.status.busy": "2021-10-23T16:28:40.937519Z",
     "iopub.status.idle": "2021-10-23T16:28:40.953174Z",
     "shell.execute_reply": "2021-10-23T16:28:40.953174Z",
     "shell.execute_reply.started": "2021-10-23T16:28:40.937519Z"
    },
    "tags": []
   },
   "outputs": [],
   "source": [
    "test_preds = {}\n",
    "# define a function to create predictions using X_test\n",
    "\n",
    "def add_test_preds(model,model_name):\n",
    "    prediction = np.array(model.predict(X_test))\n",
    "    test_preds[model_name] = prediction"
   ]
  },
  {
   "cell_type": "markdown",
   "id": "7ed779d2-5373-41cb-9f76-54f6c261a0f0",
   "metadata": {},
   "source": [
    "Set the baseline score, using the mean of the training *y*."
   ]
  },
  {
   "cell_type": "code",
   "execution_count": 56,
   "id": "b347af45-a60a-4b3d-a0ca-addf9e153c05",
   "metadata": {
    "execution": {
     "iopub.execute_input": "2021-10-23T16:17:04.960846Z",
     "iopub.status.busy": "2021-10-23T16:17:04.960846Z",
     "iopub.status.idle": "2021-10-23T16:17:04.983036Z",
     "shell.execute_reply": "2021-10-23T16:17:04.983036Z",
     "shell.execute_reply.started": "2021-10-23T16:17:04.960846Z"
    },
    "tags": []
   },
   "outputs": [],
   "source": [
    "y_bench_test_bar = y_benchmark_test.mean()\n",
    "\n",
    "add_benchmark('baseline',y_benchmark_test,[y_bench_test_bar for val in y_benchmark_test])"
   ]
  },
  {
   "cell_type": "markdown",
   "id": "40e0f862-9c08-4ad4-a656-3deece1bb5ac",
   "metadata": {},
   "source": [
    "Though we did it in the previous section, let's just make sure we also include a benchmark for the standard multiple linear regression:"
   ]
  },
  {
   "cell_type": "code",
   "execution_count": 70,
   "id": "e105860e-594e-4798-b6ba-77854dab9ce2",
   "metadata": {
    "execution": {
     "iopub.execute_input": "2021-10-23T16:28:43.263009Z",
     "iopub.status.busy": "2021-10-23T16:28:43.263009Z",
     "iopub.status.idle": "2021-10-23T16:28:43.330548Z",
     "shell.execute_reply": "2021-10-23T16:28:43.330548Z",
     "shell.execute_reply.started": "2021-10-23T16:28:43.263009Z"
    },
    "tags": []
   },
   "outputs": [
    {
     "ename": "ValueError",
     "evalue": "matmul: Input operand 1 has a mismatch in its core dimension 0, with gufunc signature (n?,k),(k,m?)->(n?,m?) (size 173 is different from 174)",
     "output_type": "error",
     "traceback": [
      "\u001b[1;31m---------------------------------------------------------------------------\u001b[0m",
      "\u001b[1;31mValueError\u001b[0m                                Traceback (most recent call last)",
      "\u001b[1;32m<ipython-input-70-223532d92186>\u001b[0m in \u001b[0;36m<module>\u001b[1;34m\u001b[0m\n\u001b[0;32m      7\u001b[0m \u001b[1;33m\u001b[0m\u001b[0m\n\u001b[0;32m      8\u001b[0m \u001b[1;31m#add the test prediction:\u001b[0m\u001b[1;33m\u001b[0m\u001b[1;33m\u001b[0m\u001b[1;33m\u001b[0m\u001b[0m\n\u001b[1;32m----> 9\u001b[1;33m \u001b[0madd_test_preds\u001b[0m\u001b[1;33m(\u001b[0m\u001b[0mlr\u001b[0m\u001b[1;33m,\u001b[0m\u001b[1;34m'standard MLR'\u001b[0m\u001b[1;33m)\u001b[0m\u001b[1;33m\u001b[0m\u001b[1;33m\u001b[0m\u001b[0m\n\u001b[0m",
      "\u001b[1;32m<ipython-input-69-2a7e15661b56>\u001b[0m in \u001b[0;36madd_test_preds\u001b[1;34m(model, model_name)\u001b[0m\n\u001b[0;32m      3\u001b[0m \u001b[1;33m\u001b[0m\u001b[0m\n\u001b[0;32m      4\u001b[0m \u001b[1;32mdef\u001b[0m \u001b[0madd_test_preds\u001b[0m\u001b[1;33m(\u001b[0m\u001b[0mmodel\u001b[0m\u001b[1;33m,\u001b[0m\u001b[0mmodel_name\u001b[0m\u001b[1;33m)\u001b[0m\u001b[1;33m:\u001b[0m\u001b[1;33m\u001b[0m\u001b[1;33m\u001b[0m\u001b[0m\n\u001b[1;32m----> 5\u001b[1;33m     \u001b[0mprediction\u001b[0m \u001b[1;33m=\u001b[0m \u001b[0mnp\u001b[0m\u001b[1;33m.\u001b[0m\u001b[0marray\u001b[0m\u001b[1;33m(\u001b[0m\u001b[0mmodel\u001b[0m\u001b[1;33m.\u001b[0m\u001b[0mpredict\u001b[0m\u001b[1;33m(\u001b[0m\u001b[0mX_test\u001b[0m\u001b[1;33m)\u001b[0m\u001b[1;33m)\u001b[0m\u001b[1;33m\u001b[0m\u001b[1;33m\u001b[0m\u001b[0m\n\u001b[0m\u001b[0;32m      6\u001b[0m     \u001b[0mtest_preds\u001b[0m\u001b[1;33m[\u001b[0m\u001b[0mmodel_name\u001b[0m\u001b[1;33m]\u001b[0m \u001b[1;33m=\u001b[0m \u001b[0mprediction\u001b[0m\u001b[1;33m\u001b[0m\u001b[1;33m\u001b[0m\u001b[0m\n",
      "\u001b[1;32m~\\anaconda3\\lib\\site-packages\\sklearn\\linear_model\\_base.py\u001b[0m in \u001b[0;36mpredict\u001b[1;34m(self, X)\u001b[0m\n\u001b[0;32m    236\u001b[0m             \u001b[0mReturns\u001b[0m \u001b[0mpredicted\u001b[0m \u001b[0mvalues\u001b[0m\u001b[1;33m.\u001b[0m\u001b[1;33m\u001b[0m\u001b[1;33m\u001b[0m\u001b[0m\n\u001b[0;32m    237\u001b[0m         \"\"\"\n\u001b[1;32m--> 238\u001b[1;33m         \u001b[1;32mreturn\u001b[0m \u001b[0mself\u001b[0m\u001b[1;33m.\u001b[0m\u001b[0m_decision_function\u001b[0m\u001b[1;33m(\u001b[0m\u001b[0mX\u001b[0m\u001b[1;33m)\u001b[0m\u001b[1;33m\u001b[0m\u001b[1;33m\u001b[0m\u001b[0m\n\u001b[0m\u001b[0;32m    239\u001b[0m \u001b[1;33m\u001b[0m\u001b[0m\n\u001b[0;32m    240\u001b[0m     \u001b[0m_preprocess_data\u001b[0m \u001b[1;33m=\u001b[0m \u001b[0mstaticmethod\u001b[0m\u001b[1;33m(\u001b[0m\u001b[0m_preprocess_data\u001b[0m\u001b[1;33m)\u001b[0m\u001b[1;33m\u001b[0m\u001b[1;33m\u001b[0m\u001b[0m\n",
      "\u001b[1;32m~\\anaconda3\\lib\\site-packages\\sklearn\\linear_model\\_base.py\u001b[0m in \u001b[0;36m_decision_function\u001b[1;34m(self, X)\u001b[0m\n\u001b[0;32m    219\u001b[0m \u001b[1;33m\u001b[0m\u001b[0m\n\u001b[0;32m    220\u001b[0m         \u001b[0mX\u001b[0m \u001b[1;33m=\u001b[0m \u001b[0mcheck_array\u001b[0m\u001b[1;33m(\u001b[0m\u001b[0mX\u001b[0m\u001b[1;33m,\u001b[0m \u001b[0maccept_sparse\u001b[0m\u001b[1;33m=\u001b[0m\u001b[1;33m[\u001b[0m\u001b[1;34m'csr'\u001b[0m\u001b[1;33m,\u001b[0m \u001b[1;34m'csc'\u001b[0m\u001b[1;33m,\u001b[0m \u001b[1;34m'coo'\u001b[0m\u001b[1;33m]\u001b[0m\u001b[1;33m)\u001b[0m\u001b[1;33m\u001b[0m\u001b[1;33m\u001b[0m\u001b[0m\n\u001b[1;32m--> 221\u001b[1;33m         return safe_sparse_dot(X, self.coef_.T,\n\u001b[0m\u001b[0;32m    222\u001b[0m                                dense_output=True) + self.intercept_\n\u001b[0;32m    223\u001b[0m \u001b[1;33m\u001b[0m\u001b[0m\n",
      "\u001b[1;32m~\\anaconda3\\lib\\site-packages\\sklearn\\utils\\validation.py\u001b[0m in \u001b[0;36minner_f\u001b[1;34m(*args, **kwargs)\u001b[0m\n\u001b[0;32m     61\u001b[0m             \u001b[0mextra_args\u001b[0m \u001b[1;33m=\u001b[0m \u001b[0mlen\u001b[0m\u001b[1;33m(\u001b[0m\u001b[0margs\u001b[0m\u001b[1;33m)\u001b[0m \u001b[1;33m-\u001b[0m \u001b[0mlen\u001b[0m\u001b[1;33m(\u001b[0m\u001b[0mall_args\u001b[0m\u001b[1;33m)\u001b[0m\u001b[1;33m\u001b[0m\u001b[1;33m\u001b[0m\u001b[0m\n\u001b[0;32m     62\u001b[0m             \u001b[1;32mif\u001b[0m \u001b[0mextra_args\u001b[0m \u001b[1;33m<=\u001b[0m \u001b[1;36m0\u001b[0m\u001b[1;33m:\u001b[0m\u001b[1;33m\u001b[0m\u001b[1;33m\u001b[0m\u001b[0m\n\u001b[1;32m---> 63\u001b[1;33m                 \u001b[1;32mreturn\u001b[0m \u001b[0mf\u001b[0m\u001b[1;33m(\u001b[0m\u001b[1;33m*\u001b[0m\u001b[0margs\u001b[0m\u001b[1;33m,\u001b[0m \u001b[1;33m**\u001b[0m\u001b[0mkwargs\u001b[0m\u001b[1;33m)\u001b[0m\u001b[1;33m\u001b[0m\u001b[1;33m\u001b[0m\u001b[0m\n\u001b[0m\u001b[0;32m     64\u001b[0m \u001b[1;33m\u001b[0m\u001b[0m\n\u001b[0;32m     65\u001b[0m             \u001b[1;31m# extra_args > 0\u001b[0m\u001b[1;33m\u001b[0m\u001b[1;33m\u001b[0m\u001b[1;33m\u001b[0m\u001b[0m\n",
      "\u001b[1;32m~\\anaconda3\\lib\\site-packages\\sklearn\\utils\\extmath.py\u001b[0m in \u001b[0;36msafe_sparse_dot\u001b[1;34m(a, b, dense_output)\u001b[0m\n\u001b[0;32m    150\u001b[0m             \u001b[0mret\u001b[0m \u001b[1;33m=\u001b[0m \u001b[0mnp\u001b[0m\u001b[1;33m.\u001b[0m\u001b[0mdot\u001b[0m\u001b[1;33m(\u001b[0m\u001b[0ma\u001b[0m\u001b[1;33m,\u001b[0m \u001b[0mb\u001b[0m\u001b[1;33m)\u001b[0m\u001b[1;33m\u001b[0m\u001b[1;33m\u001b[0m\u001b[0m\n\u001b[0;32m    151\u001b[0m     \u001b[1;32melse\u001b[0m\u001b[1;33m:\u001b[0m\u001b[1;33m\u001b[0m\u001b[1;33m\u001b[0m\u001b[0m\n\u001b[1;32m--> 152\u001b[1;33m         \u001b[0mret\u001b[0m \u001b[1;33m=\u001b[0m \u001b[0ma\u001b[0m \u001b[1;33m@\u001b[0m \u001b[0mb\u001b[0m\u001b[1;33m\u001b[0m\u001b[1;33m\u001b[0m\u001b[0m\n\u001b[0m\u001b[0;32m    153\u001b[0m \u001b[1;33m\u001b[0m\u001b[0m\n\u001b[0;32m    154\u001b[0m     if (sparse.issparse(a) and sparse.issparse(b)\n",
      "\u001b[1;31mValueError\u001b[0m: matmul: Input operand 1 has a mismatch in its core dimension 0, with gufunc signature (n?,k),(k,m?)->(n?,m?) (size 173 is different from 174)"
     ]
    }
   ],
   "source": [
    "# Instantiate the model:\n",
    "lr = LinearRegression()\n",
    "lr.fit(X_benchmark, y_benchmark)\n",
    "\n",
    "#add the benchmark to the scores:\n",
    "add_benchmark('standard MLR',y_benchmark_test,lr.predict(X_benchmark_test))\n",
    "\n",
    "#add the test prediction:\n",
    "add_test_preds(lr,'standard MLR')"
   ]
  },
  {
   "cell_type": "code",
   "execution_count": null,
   "id": "68d7afbf-c141-4506-a787-3a8a878a9aef",
   "metadata": {},
   "outputs": [],
   "source": []
  }
 ],
 "metadata": {
  "kernelspec": {
   "display_name": "Python 3",
   "language": "python",
   "name": "python3"
  },
  "language_info": {
   "codemirror_mode": {
    "name": "ipython",
    "version": 3
   },
   "file_extension": ".py",
   "mimetype": "text/x-python",
   "name": "python",
   "nbconvert_exporter": "python",
   "pygments_lexer": "ipython3",
   "version": "3.8.8"
  }
 },
 "nbformat": 4,
 "nbformat_minor": 5
}
